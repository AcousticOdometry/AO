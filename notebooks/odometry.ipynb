{
 "cells": [
  {
   "cell_type": "markdown",
   "metadata": {
    "id": "TRorKX0aJrmb"
   },
   "source": [
    "This notebook is part of Andreu's (esdandreu@gmail.com) Master Thesis work at\n",
    "Keio University.\n",
    "\n",
    "[![Open In Colab](https://colab.research.google.com/assets/colab-badge.svg)](https://colab.research.google.com/github/AcousticOdometry/AO/blob/main/notebooks/models.ipynb)\n"
   ]
  },
  {
   "cell_type": "markdown",
   "metadata": {
    "id": "C2Q8wXiqTp00"
   },
   "source": [
    "# Setup\n",
    "\n",
    "This section will take care of installing the necessary packages as well as\n",
    "configuring some environment variables.\n"
   ]
  },
  {
   "cell_type": "markdown",
   "metadata": {},
   "source": [
    "## Colab\n",
    "\n",
    "Assess wether the notebook is being executed in [Google\n",
    "Colab](https://colab.research.google.com/) and if so, set up the software\n",
    "needed in Colab runtime.\n"
   ]
  },
  {
   "cell_type": "code",
   "execution_count": 1,
   "metadata": {
    "id": "Mxqlh9G3n3sF"
   },
   "outputs": [],
   "source": [
    "%%capture\n",
    "try:\n",
    "    from google import colab\n",
    "    COLAB_RUNTIME = True\n",
    "    %pip install torchinfo\n",
    "    colab.drive.mount('/content/drive')\n",
    "except ImportError:\n",
    "    COLAB_RUNTIME = False"
   ]
  },
  {
   "cell_type": "markdown",
   "metadata": {
    "id": "JP7gX_G3UrV_"
   },
   "source": [
    "## Packages\n"
   ]
  },
  {
   "cell_type": "code",
   "execution_count": 40,
   "metadata": {
    "id": "hFV56apJJicf"
   },
   "outputs": [],
   "source": [
    "import math\n",
    "import numpy as np\n",
    "import pandas as pd\n",
    "\n",
    "from pathlib import Path\n",
    "from typing import Tuple\n",
    "\n",
    "import torch\n",
    "import torch.nn as nn\n",
    "import torch.nn.functional as F"
   ]
  },
  {
   "cell_type": "markdown",
   "metadata": {
    "id": "H-vDIeFnUup2"
   },
   "source": [
    "### AO\n",
    "\n",
    "Setup Acoustic Odometry python package. If this notebook is being executed in\n",
    "[Colab](#colab), the package will be installed from Github. Because of this, a\n",
    "Github [personal access\n",
    "token](https://docs.github.com/en/authentication/keeping-your-account-and-data-secure/creating-a-personal-access-token)\n",
    "is needed for the installation.\n",
    "\n",
    "If the notebook is not running on Colab and the package is not already\n",
    "installed, installation instructions will be prompted.\n"
   ]
  },
  {
   "cell_type": "code",
   "execution_count": 29,
   "metadata": {
    "colab": {
     "base_uri": "https://localhost:8080/"
    },
    "id": "XZPO4X8roB8k",
    "outputId": "c1fcf943-8933-4af5-89e6-5672e073bd74"
   },
   "outputs": [],
   "source": [
    "if COLAB_RUNTIME:\n",
    "    import subprocess\n",
    "    import requests\n",
    "    import sys\n",
    "    import os\n",
    "    #@markdown Use a [GitHub Personal Access Token](https://docs.github.com/en/authentication/keeping-your-account-and-data-secure/creating-a-personal-access-token)\n",
    "    GITHUB_TOKEN = ''  #@param {type:\"string\"}\n",
    "    auth = requests.auth.HTTPBasicAuth('', GITHUB_TOKEN)\n",
    "    response = requests.get(\n",
    "        \"https://api.github.com/repos/AcousticOdometry/AO/releases/latest\",\n",
    "        auth=auth\n",
    "        )\n",
    "    try:\n",
    "        response.raise_for_status()\n",
    "    except requests.HTTPError as e:\n",
    "        raise RuntimeError(\n",
    "            'Check GITHUB_TOKEN is a Personal Access Token with repo access'\n",
    "            )\n",
    "    headers = {'Accept': 'application/octet-stream'}\n",
    "    for asset in response.json()['assets']:\n",
    "        r = requests.get(\n",
    "            asset['url'], auth=auth, allow_redirects=True, headers=headers\n",
    "            )\n",
    "        r.raise_for_status()\n",
    "        wheel_name = asset['name']\n",
    "        with open(wheel_name, 'wb') as f:\n",
    "            f.write(r.content)\n",
    "        try:\n",
    "            result = subprocess.check_output([\n",
    "                sys.executable, '-m', 'pip', 'install', wheel_name\n",
    "                ])\n",
    "            print(f'Installed {wheel_name}')\n",
    "            break\n",
    "        except subprocess.CalledProcessError as e:\n",
    "            pass\n",
    "        finally:\n",
    "            os.remove(wheel_name)\n",
    "    import ao\n",
    "else:\n",
    "    try:\n",
    "        import ao\n",
    "    except ImportError:\n",
    "        raise ImportError(\n",
    "            \"Acoustic Odometry python extension is not installed. Check \"\n",
    "            r\"https://github.com/AcousticOdometry/AO#readme\"\n",
    "            \" for detailed instructions.\"\n",
    "            )"
   ]
  },
  {
   "cell_type": "markdown",
   "metadata": {},
   "source": [
    "# Odometry"
   ]
  },
  {
   "cell_type": "code",
   "execution_count": 30,
   "metadata": {},
   "outputs": [
    {
     "name": "stdout",
     "output_type": "stream",
     "text": [
      "C:\\Users\\esdan\\Desktop\\AO\\models\n"
     ]
    }
   ],
   "source": [
    "if COLAB_RUNTIME:\n",
    "    # @markdown Check where is the experiment folder situated in your drive folder.\n",
    "    # @markdown Remember that if you have been shared the folder, you can\n",
    "    # @markdown [add a shortcut to your drive](https://support.google.com/drive/answer/9700156?hl=en&co=GENIE.Platform%3DDesktop)\n",
    "    # @markdown in order to make it available in google colab.\n",
    "    experiment = \"/content/drive/MyDrive/VAO_WheelTestBed-Experiment-1\"  #@param {type:\"string\"}\n",
    "    EXPERIMENT_FOLDER = Path(experiment)\n",
    "    if not EXPERIMENT_FOLDER.is_dir():\n",
    "        raise RuntimeError(f'Invalid experiment folder {EXPERIMENT_FOLDER}')\n",
    "else:\n",
    "    EXPERIMENT_FOLDER = ao.dataset.utils.get_folder(\n",
    "        env='WHEELTESTBED_EXPERIMENT2'\n",
    "        )\n",
    "VALIDATION_FOLDER = EXPERIMENT_FOLDER / 'validation-recordings'\n",
    "MODELS_FOLDER = Path().resolve().parent / 'models'\n",
    "print(MODELS_FOLDER)"
   ]
  },
  {
   "cell_type": "markdown",
   "metadata": {},
   "source": [
    "## Generate recording ground truth"
   ]
  },
  {
   "cell_type": "code",
   "execution_count": 31,
   "metadata": {},
   "outputs": [
    {
     "data": {
      "text/plain": [
       "(1653033646.109341, 1653033821.222812)"
      ]
     },
     "execution_count": 31,
     "metadata": {},
     "output_type": "execute_result"
    }
   ],
   "source": [
    "recording = VALIDATION_FOLDER / 'date_2022-05-20;time_16-59-56'\n",
    "\n",
    "def get_recording_bounds(recording: Path) -> Tuple[float, float]:\n",
    "    start_timestamp = np.Inf\n",
    "    end_timestamp = 0\n",
    "    for wav_file in recording.glob('microphone*.wav'):\n",
    "        config = ao.io.yaml_load(wav_file.with_suffix('.yaml'))\n",
    "        start_timestamp = min(start_timestamp, config['start_timestamp'])\n",
    "        end_timestamp = max(end_timestamp, config['end_timestamp'])\n",
    "    return start_timestamp, end_timestamp\n",
    "\n",
    "get_recording_bounds(recording=recording)"
   ]
  },
  {
   "cell_type": "code",
   "execution_count": 32,
   "metadata": {},
   "outputs": [
    {
     "data": {
      "text/html": [
       "<div>\n",
       "<style scoped>\n",
       "    .dataframe tbody tr th:only-of-type {\n",
       "        vertical-align: middle;\n",
       "    }\n",
       "\n",
       "    .dataframe tbody tr th {\n",
       "        vertical-align: top;\n",
       "    }\n",
       "\n",
       "    .dataframe thead th {\n",
       "        text-align: right;\n",
       "    }\n",
       "</style>\n",
       "<table border=\"1\" class=\"dataframe\">\n",
       "  <thead>\n",
       "    <tr style=\"text-align: right;\">\n",
       "      <th></th>\n",
       "      <th>X</th>\n",
       "      <th>Vx</th>\n",
       "      <th>Vw</th>\n",
       "      <th>slip</th>\n",
       "      <th>wheel_rotation</th>\n",
       "    </tr>\n",
       "    <tr>\n",
       "      <th>timestamp</th>\n",
       "      <th></th>\n",
       "      <th></th>\n",
       "      <th></th>\n",
       "      <th></th>\n",
       "      <th></th>\n",
       "    </tr>\n",
       "  </thead>\n",
       "  <tbody>\n",
       "    <tr>\n",
       "      <th>1.653034e+09</th>\n",
       "      <td>0.00</td>\n",
       "      <td>0.0000</td>\n",
       "      <td>0.0000</td>\n",
       "      <td>0.00000</td>\n",
       "      <td>0.000000</td>\n",
       "    </tr>\n",
       "    <tr>\n",
       "      <th>1.653034e+09</th>\n",
       "      <td>0.00</td>\n",
       "      <td>0.0000</td>\n",
       "      <td>0.0000</td>\n",
       "      <td>0.00000</td>\n",
       "      <td>0.002397</td>\n",
       "    </tr>\n",
       "    <tr>\n",
       "      <th>1.653034e+09</th>\n",
       "      <td>0.11</td>\n",
       "      <td>0.0011</td>\n",
       "      <td>7.0113</td>\n",
       "      <td>0.91011</td>\n",
       "      <td>0.703520</td>\n",
       "    </tr>\n",
       "    <tr>\n",
       "      <th>1.653034e+09</th>\n",
       "      <td>1.29</td>\n",
       "      <td>0.0118</td>\n",
       "      <td>9.8078</td>\n",
       "      <td>0.31066</td>\n",
       "      <td>1.684300</td>\n",
       "    </tr>\n",
       "    <tr>\n",
       "      <th>1.653034e+09</th>\n",
       "      <td>3.71</td>\n",
       "      <td>0.0242</td>\n",
       "      <td>10.1710</td>\n",
       "      <td>-0.36320</td>\n",
       "      <td>2.701400</td>\n",
       "    </tr>\n",
       "  </tbody>\n",
       "</table>\n",
       "</div>"
      ],
      "text/plain": [
       "                 X      Vx       Vw     slip  wheel_rotation\n",
       "timestamp                                                   \n",
       "1.653034e+09  0.00  0.0000   0.0000  0.00000        0.000000\n",
       "1.653034e+09  0.00  0.0000   0.0000  0.00000        0.002397\n",
       "1.653034e+09  0.11  0.0011   7.0113  0.91011        0.703520\n",
       "1.653034e+09  1.29  0.0118   9.8078  0.31066        1.684300\n",
       "1.653034e+09  3.71  0.0242  10.1710 -0.36320        2.701400"
      ]
     },
     "execution_count": 32,
     "metadata": {},
     "output_type": "execute_result"
    },
    {
     "data": {
      "image/png": "[encoded data removed]",
      "text/plain": [
       "<Figure size 432x288 with 2 Axes>"
      ]
     },
     "metadata": {
      "needs_background": "light"
     },
     "output_type": "display_data"
    }
   ],
   "source": [
    "def get_recording_ground_truth(recording: Path) -> pd.DataFrame:\n",
    "    ground_truth_path = recording / 'ground_truth.csv'\n",
    "    if ground_truth_path.exists():\n",
    "        return pd.read_csv(ground_truth_path, index_col='timestamp')\n",
    "    start_timestamp, end_timestamp = get_recording_bounds(recording)\n",
    "    gt = pd.DataFrame(columns=['X', 'Vx', 'Vw', 'slip', 'wheel_rotation'])\n",
    "    gt.loc[start_timestamp] = np.zeros(len(gt.columns))\n",
    "    for control_file in sorted(recording.glob('*.csv')):\n",
    "        if control_file.stem == 'ground_truth':\n",
    "            continue\n",
    "        df = pd.read_csv(\n",
    "            control_file,\n",
    "            index_col='timestamp',\n",
    "            usecols=['timestamp'] + list(gt.columns),\n",
    "            parse_dates=True,\n",
    "            )\n",
    "        # Accumulable columns\n",
    "        for col in ['X', 'wheel_rotation']:\n",
    "            df[col] = df[col] + gt[col].iloc[-1]\n",
    "        # Wheel stops at the end of the movement, assume stopped after 100 ms\n",
    "        df.loc[df.tail(1).index.item() + 0.1] = df.iloc[-1].copy()\n",
    "        # Update the first and last row with null velocities\n",
    "        for col in ['Vx', 'Vw', 'slip']:\n",
    "            col_index = gt.columns.get_loc(col)\n",
    "            df.iloc[0, col_index] = 0\n",
    "            df.iloc[-1, col_index] = 0\n",
    "        # After each control the wheel stops\n",
    "        gt = pd.concat([gt, df])\n",
    "    gt.loc[end_timestamp] = gt.iloc[-1].copy()\n",
    "    for col in ['Vx', 'Vw', 'slip']:\n",
    "        col_index = gt.columns.get_loc(col)\n",
    "        gt.iloc[-1, col_index] = 0\n",
    "    gt.to_csv(ground_truth_path, index_label='timestamp')\n",
    "    return gt\n",
    "\n",
    "\n",
    "ground_truth = get_recording_ground_truth(recording=recording)\n",
    "ax = ground_truth.plot(y=['Vx'], ylabel='Speed [m/s]', color='orange')\n",
    "ground_truth.plot(ax=ax, y=['X'], secondary_y=True).set_ylabel('Position [mm]')\n",
    "ground_truth.head()"
   ]
  },
  {
   "cell_type": "markdown",
   "metadata": {},
   "source": [
    "## Model definition"
   ]
  },
  {
   "cell_type": "code",
   "execution_count": 33,
   "metadata": {},
   "outputs": [],
   "source": [
    "from abc import abstractmethod\n",
    "\n",
    "class AcousticOdometryModel(nn.Module):\n",
    "\n",
    "    @abstractmethod\n",
    "    def forward(self, x):\n",
    "        pass\n",
    "\n",
    "# Reset the subclasses to allow changes without restarting the kernel\n",
    "for subclass in AcousticOdometryModel.__subclasses__():\n",
    "    del subclass"
   ]
  },
  {
   "cell_type": "code",
   "execution_count": 34,
   "metadata": {},
   "outputs": [],
   "source": [
    "class CNNet(AcousticOdometryModel):\n",
    "    def __init__(self, classes: int):\n",
    "        super().__init__()\n",
    "        self.conv1 = nn.Conv2d(1, 64, kernel_size=5)\n",
    "        self.conv2 = nn.Conv2d(64, 128, kernel_size=5)\n",
    "        self.conv2_drop = nn.Dropout2d()\n",
    "        self.flatten = nn.Flatten()\n",
    "        self.fc1 = nn.Linear(210816, 512)\n",
    "        self.fc2 = nn.Linear(512, classes)\n",
    "\n",
    "\n",
    "    def forward(self, x):\n",
    "        x = F.relu(F.max_pool2d(self.conv1(x), 2))\n",
    "        x = F.relu(F.max_pool2d(self.conv2_drop(self.conv2(x)), 2))\n",
    "        #x = x.view(x.size(0), -1)\n",
    "        x = self.flatten(x)\n",
    "        x = F.relu(self.fc1(x))\n",
    "        x = F.dropout(x, training=self.training)\n",
    "        x = F.relu(self.fc2(x))\n",
    "        return F.log_softmax(x,dim=1)  "
   ]
  },
  {
   "cell_type": "code",
   "execution_count": 35,
   "metadata": {},
   "outputs": [
    {
     "data": {
      "text/plain": [
       "[__main__.CNNet]"
      ]
     },
     "execution_count": 35,
     "metadata": {},
     "output_type": "execute_result"
    }
   ],
   "source": [
    "AcousticOdometryModel.__subclasses__()"
   ]
  },
  {
   "cell_type": "markdown",
   "metadata": {},
   "source": [
    "## Apply model to recording"
   ]
  },
  {
   "cell_type": "code",
   "execution_count": 51,
   "metadata": {},
   "outputs": [
    {
     "name": "stdout",
     "output_type": "stream",
     "text": [
      "Using cuda device\n"
     ]
    }
   ],
   "source": [
    "DEVICE = 'cuda' if torch.cuda.is_available() else 'cpu'\n",
    "print('Using {} device'.format(DEVICE))"
   ]
  },
  {
   "cell_type": "code",
   "execution_count": null,
   "metadata": {},
   "outputs": [],
   "source": [
    "def acoustic_odometry(wav_file: Path, model_path: Path) -> pd.DataFrame:\n",
    "    model = torch.load(model_path)\n",
    "    # TODO This should be loaded from the model configuration\n",
    "    segment_duration = 1200  # [milliseconds]\n",
    "    segment_overlap = 1000  # [milliseconds]\n",
    "    frame_features = 256\n",
    "    frame_duration = 10  # [milliseconds])\n",
    "    extractor = ao.extractor.GammatoneFilterbank\n",
    "    extractor_kwargs = {}\n",
    "    compression = math.log10\n",
    "\n",
    "    wav_data, sample_rate = ao.io.wave_read(wav_file)\n",
    "    # TODO load config\n",
    "    config = ao.io.yaml_load(wav_file.with_suffix('.yaml'))\n",
    "    start = config['start_timestamp']\n",
    "    frame_samples = int(frame_duration * sample_rate / 1000)\n",
    "    if compression:\n",
    "        compression = np.vectorize(compression)\n",
    "    extract = extractor(\n",
    "        num_samples=frame_samples,\n",
    "        num_features=frame_features,\n",
    "        sample_rate=sample_rate,\n",
    "        **extractor_kwargs\n",
    "        )\n",
    "    # TODO preallocate odometry dataframe\n",
    "    odom = pd.DataFrame(columns=['X', 'Vx'])\n",
    "    odom.loc[start] = [0, 0]\n",
    "    x_index = odom.columns.get_loc('X')\n",
    "    for segment in ao.dataset.audio.segment(\n",
    "        wav_data, sample_rate, segment_duration, segment_overlap\n",
    "        ):\n",
    "        end = start + segment_duration / 1000\n",
    "        features = ao.dataset.audio.features(\n",
    "            segment, frame_samples, extract=extract, compression=compression\n",
    "            )\n",
    "        pred = model(\n",
    "            torch.from_numpy(features[np.newaxis,\n",
    "                                      np.newaxis, :, :]).float().to(DEVICE)\n",
    "            )\n",
    "        odom.loc[end, 'Vx'] = pred.argmax(1).sum().item()\n",
    "        odom.loc[end, 'X'] = (\n",
    "            odom.iloc[-2, x_index] + odom.loc[end, 'Vx'] *\n",
    "            (segment_duration - segment_overlap)\n",
    "            )\n",
    "        start = end - segment_overlap / 1000\n",
    "    return odom\n",
    "\n",
    "\n",
    "odom = acoustic_odometry(\n",
    "    wav_file=recording / 'microphone0.wav',\n",
    "    model_path=MODELS_FOLDER /\n",
    "    'name_numpy-arrays;date_2022-05-23;time_13-39-14.pt'\n",
    "    )"
   ]
  },
  {
   "cell_type": "code",
   "execution_count": 70,
   "metadata": {},
   "outputs": [
    {
     "data": {
      "text/html": [
       "<div>\n",
       "<style scoped>\n",
       "    .dataframe tbody tr th:only-of-type {\n",
       "        vertical-align: middle;\n",
       "    }\n",
       "\n",
       "    .dataframe tbody tr th {\n",
       "        vertical-align: top;\n",
       "    }\n",
       "\n",
       "    .dataframe thead th {\n",
       "        text-align: right;\n",
       "    }\n",
       "</style>\n",
       "<table border=\"1\" class=\"dataframe\">\n",
       "  <thead>\n",
       "    <tr style=\"text-align: right;\">\n",
       "      <th></th>\n",
       "      <th>X</th>\n",
       "      <th>Vx</th>\n",
       "    </tr>\n",
       "  </thead>\n",
       "  <tbody>\n",
       "    <tr>\n",
       "      <th>1.653034e+09</th>\n",
       "      <td>0.0</td>\n",
       "      <td>0.0</td>\n",
       "    </tr>\n",
       "    <tr>\n",
       "      <th>1.653034e+09</th>\n",
       "      <td>0.0</td>\n",
       "      <td>0.0</td>\n",
       "    </tr>\n",
       "    <tr>\n",
       "      <th>1.653034e+09</th>\n",
       "      <td>0.0</td>\n",
       "      <td>0.0</td>\n",
       "    </tr>\n",
       "    <tr>\n",
       "      <th>1.653034e+09</th>\n",
       "      <td>0.0</td>\n",
       "      <td>0.0</td>\n",
       "    </tr>\n",
       "    <tr>\n",
       "      <th>1.653034e+09</th>\n",
       "      <td>0.0</td>\n",
       "      <td>0.0</td>\n",
       "    </tr>\n",
       "  </tbody>\n",
       "</table>\n",
       "</div>"
      ],
      "text/plain": [
       "                X   Vx\n",
       "1.653034e+09  0.0  0.0\n",
       "1.653034e+09  0.0  0.0\n",
       "1.653034e+09  0.0  0.0\n",
       "1.653034e+09  0.0  0.0\n",
       "1.653034e+09  0.0  0.0"
      ]
     },
     "execution_count": 70,
     "metadata": {},
     "output_type": "execute_result"
    },
    {
     "data": {
      "image/png": "[encoded data removed]",
      "text/plain": [
       "<Figure size 432x288 with 2 Axes>"
      ]
     },
     "metadata": {
      "needs_background": "light"
     },
     "output_type": "display_data"
    }
   ],
   "source": [
    "_odom = odom.copy()\n",
    "_odom.loc[:, 'Vx'] /= 100  # [cm/s] -> [m/s]\n",
    "_odom.loc[:, 'X'] /= 100  # [cm] -> [m]\n",
    "ax = _odom.plot(y=['Vx'], ylabel='Speed [m/s]', color='orange')\n",
    "_odom.plot(ax=ax, y=['X'], secondary_y=True).set_ylabel('Position [mm]')\n",
    "_odom.head()"
   ]
  }
 ],
 "metadata": {
  "interpreter": {
   "hash": "b8749b76b3be249eef7e116ab90f03825c0416a2284545ab24c0f7f41fa4add3"
  },
  "kernelspec": {
   "display_name": "Python 3.8.10 ('venv': venv)",
   "language": "python",
   "name": "python3"
  },
  "language_info": {
   "codemirror_mode": {
    "name": "ipython",
    "version": 3
   },
   "file_extension": ".py",
   "mimetype": "text/x-python",
   "name": "python",
   "nbconvert_exporter": "python",
   "pygments_lexer": "ipython3",
   "version": "3.8.10"
  },
  "orig_nbformat": 4
 },
 "nbformat": 4,
 "nbformat_minor": 2
}
