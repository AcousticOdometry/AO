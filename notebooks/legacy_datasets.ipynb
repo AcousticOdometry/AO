{
  "cells": [
    {
      "cell_type": "markdown",
      "metadata": {
        "id": "TRorKX0aJrmb"
      },
      "source": [
        "This notebook is part of Andreu's (esdandreu@gmail.com) Master Thesis work at\n",
        "Keio University.\n",
        "\n",
        "[![Open In Colab](https://colab.research.google.com/assets/colab-badge.svg)](https://colab.research.google.com/github/AcousticOdometry/AO/blob/main/notebooks/legacy_datasets.ipynb)\n",
        "\n"
      ]
    },
    {
      "cell_type": "markdown",
      "metadata": {
        "id": "C2Q8wXiqTp00"
      },
      "source": [
        "# Setup\n",
        "\n",
        "This section will take care of installing the necessary packages as well as\n",
        "configuring some environment variables.\n"
      ]
    },
    {
      "cell_type": "markdown",
      "metadata": {},
      "source": [
        "## Colab\n",
        "\n",
        "Assess wether the notebook is being executed in [Google\n",
        "Colab](https://colab.research.google.com/) and if so, set up the software\n",
        "needed in Colab runtime.\n"
      ]
    },
    {
      "cell_type": "code",
      "execution_count": 1,
      "metadata": {
        "id": "Mxqlh9G3n3sF"
      },
      "outputs": [],
      "source": [
        "%%capture\n",
        "try:\n",
        "    from google import colab\n",
        "    COLAB_RUNTIME = True\n",
        "    colab.drive.mount('/content/drive')\n",
        "except ImportError:\n",
        "    COLAB_RUNTIME = False"
      ]
    },
    {
      "cell_type": "markdown",
      "metadata": {
        "id": "JP7gX_G3UrV_"
      },
      "source": [
        "## Packages\n"
      ]
    },
    {
      "cell_type": "code",
      "execution_count": 2,
      "metadata": {
        "id": "hFV56apJJicf"
      },
      "outputs": [],
      "source": [
        "import math\n",
        "import numpy as np\n",
        "import pandas as pd\n",
        "\n",
        "from typing import Optional, Callable, List\n",
        "from matplotlib import pyplot as plt\n",
        "from tqdm.notebook import tqdm\n",
        "from warnings import warn\n",
        "from pathlib import Path"
      ]
    },
    {
      "cell_type": "markdown",
      "metadata": {
        "id": "H-vDIeFnUup2"
      },
      "source": [
        "### AO\n",
        "\n",
        "Setup Acoustic Odometry python package. If this notebook is being executed in\n",
        "[Colab](#colab), the package will be installed from Github. Because of this, a\n",
        "Github [personal access\n",
        "token](https://docs.github.com/en/authentication/keeping-your-account-and-data-secure/creating-a-personal-access-token)\n",
        "is needed for the installation.\n",
        "\n",
        "If the notebook is not running on Colab and the package is not already\n",
        "installed, installation instructions will be prompted.\n"
      ]
    },
    {
      "cell_type": "code",
      "execution_count": 3,
      "metadata": {
        "colab": {
          "base_uri": "https://localhost:8080/"
        },
        "id": "XZPO4X8roB8k",
        "outputId": "c1fcf943-8933-4af5-89e6-5672e073bd74"
      },
      "outputs": [],
      "source": [
        "if COLAB_RUNTIME:\n",
        "    import subprocess\n",
        "    import requests\n",
        "    import sys\n",
        "    import os\n",
        "    #@markdown Use a [GitHub Personal Access Token](https://docs.github.com/en/authentication/keeping-your-account-and-data-secure/creating-a-personal-access-token)\n",
        "    GITHUB_TOKEN = ''  #@param {type:\"string\"}\n",
        "    auth = requests.auth.HTTPBasicAuth('', GITHUB_TOKEN)\n",
        "    response = requests.get(\n",
        "        \"https://api.github.com/repos/AcousticOdometry/AO/releases/latest\",\n",
        "        auth=auth\n",
        "        )\n",
        "    try:\n",
        "        response.raise_for_status()\n",
        "    except requests.HTTPError as e:\n",
        "        raise RuntimeError(\n",
        "            'Check GITHUB_TOKEN is a Personal Access Token with repo access'\n",
        "            )\n",
        "    headers = {'Accept': 'application/octet-stream'}\n",
        "    for asset in response.json()['assets']:\n",
        "        r = requests.get(\n",
        "            asset['url'], auth=auth, allow_redirects=True, headers=headers\n",
        "            )\n",
        "        r.raise_for_status()\n",
        "        wheel_name = asset['name']\n",
        "        with open(wheel_name, 'wb') as f:\n",
        "            f.write(r.content)\n",
        "        try:\n",
        "            result = subprocess.check_output([\n",
        "                sys.executable, '-m', 'pip', 'install', wheel_name\n",
        "                ])\n",
        "            print(f'Installed {wheel_name}')\n",
        "            break\n",
        "        except subprocess.CalledProcessError as e:\n",
        "            pass\n",
        "        finally:\n",
        "            os.remove(wheel_name)\n",
        "    import ao\n",
        "else:\n",
        "    try:\n",
        "        import ao\n",
        "    except ImportError:\n",
        "        raise ImportError(\n",
        "            \"Acoustic Odometry python extension is not installed. Check \"\n",
        "            r\"https://github.com/AcousticOdometry/AO#readme\"\n",
        "            \" for detailed instructions.\"\n",
        "            )"
      ]
    },
    {
      "cell_type": "markdown",
      "metadata": {
        "id": "gD0HsI5STu2k"
      },
      "source": [
        "# Features\n",
        "\n",
        "Here we prove that the feature extractor implemented (using a [Gammatone\n",
        "Filterbank](https://staffwww.dcs.shef.ac.uk/people/N.Ma/resources/gammatone/))\n",
        "works as expected.\n"
      ]
    },
    {
      "cell_type": "markdown",
      "metadata": {},
      "source": [
        "We will use the same audio file as in the [original\n",
        "implementation](https://staffwww.dcs.shef.ac.uk/people/N.Ma/resources/ratemap/)\n",
        "(A matlab C extension).\n"
      ]
    },
    {
      "cell_type": "code",
      "execution_count": 4,
      "metadata": {
        "colab": {
          "base_uri": "https://localhost:8080/",
          "height": 405
        },
        "id": "TKCLY1BFJich",
        "outputId": "346c35ca-82b2-4c5a-f9a7-3e4a5b709367"
      },
      "outputs": [
        {
          "data": {
            "image/png": "[encoded data removed]",
            "text/plain": [
              "<Figure size 468x396 with 3 Axes>"
            ]
          },
          "metadata": {
            "needs_background": "light"
          },
          "output_type": "display_data"
        }
      ],
      "source": [
        "audio_url = (\n",
        "    r\"https://staffwww.dcs.shef.ac.uk/people/N.Ma/resources\"\n",
        "    r\"/ratemap/t29_lwwj2n_m17_lgwe7s.wav\"\n",
        "    )\n",
        "data, sample_rate = ao.io.audio_read(audio_url)\n",
        "frame_length = 10  # [ms]\n",
        "frame_samples = int(\n",
        "    np.ceil(frame_length / 1000 * sample_rate)\n",
        "    )  # samples per frame\n",
        "fig, axs = plt.subplots(\n",
        "    3, 1, figsize=(6.5, 5.5), gridspec_kw={'height_ratios': [0.5, 1, 0.05]}\n",
        "    )\n",
        "# Signal\n",
        "ao.plot.signal(data, sample_rate, ax=axs[0])\n",
        "axs[0].set_title('Waveform')\n",
        "# Gammatonegram\n",
        "frame_length = 10  # [ms]\n",
        "frame_samples = math.ceil(frame_length / 1000 * sample_rate)\n",
        "plot, _ = ao.plot.gammatonegram(\n",
        "    data,\n",
        "    sample_rate,\n",
        "    frame_samples,\n",
        "    num_features=64,\n",
        "    low_Hz=50,\n",
        "    high_Hz=8000,\n",
        "    pcolormesh_kwargs={\n",
        "        'cmap': 'jet',\n",
        "        'vmin': -0.5\n",
        "        },\n",
        "    ax=axs[1]\n",
        "    )\n",
        "axs[1].set_title('Ratemap')\n",
        "fig.colorbar(plot, cax=axs[2], orientation=\"horizontal\")\n",
        "fig.tight_layout()"
      ]
    },
    {
      "cell_type": "markdown",
      "metadata": {
        "id": "g8y-J6l5Jicj"
      },
      "source": [
        "One can see that our implementation corresponds with the example found in the\n",
        "original implementation.\n",
        "\n",
        "![Ratemap](https://staffwww.dcs.shef.ac.uk/people/N.Ma/resources/ratemap/ratemap.png)\n"
      ]
    },
    {
      "cell_type": "markdown",
      "metadata": {},
      "source": [
        "# Wheel Test Bed Experiments\n"
      ]
    },
    {
      "cell_type": "markdown",
      "metadata": {},
      "source": [
        "\n",
        "## Experiment 0\n",
        "\n",
        "Looks for `WHEELTESTBED_EXPERIMENT0` in the environment variables\n"
      ]
    },
    {
      "cell_type": "code",
      "execution_count": 5,
      "metadata": {},
      "outputs": [
        {
          "name": "stderr",
          "output_type": "stream",
          "text": [
            "c:\\Users\\esdan\\Desktop\\AO\\venv\\lib\\site-packages\\ao\\dataset\\utils.py:159: UserWarning: Could not parse VAO_2022-03-08_17-12-37 from VAO_2022-03-08_17-12-37, item VAO_2022-03-08_17-12-37 should be composed by one `key` and one `value` separated by a unique underscore but 2 `_` were found.\n",
            "  warn(str(e))\n",
            "c:\\Users\\esdan\\Desktop\\AO\\venv\\lib\\site-packages\\ao\\dataset\\utils.py:159: UserWarning: Could not parse VAO_2022-03-08_17-11-21 from VAO_2022-03-08_17-11-21, item VAO_2022-03-08_17-11-21 should be composed by one `key` and one `value` separated by a unique underscore but 2 `_` were found.\n",
            "  warn(str(e))\n"
          ]
        }
      ],
      "source": [
        "if COLAB_RUNTIME:\n",
        "    # @markdown Check where is the experiment folder situated in your drive folder.\n",
        "    # @markdown Remember that if you have been shared the folder, you can\n",
        "    # @markdown [add a shortcut to your drive](https://support.google.com/drive/answer/9700156?hl=en&co=GENIE.Platform%3DDesktop)\n",
        "    # @markdown in order to make it available in google colab.\n",
        "    experiment_0 = \"/content/drive/MyDrive/VAO_WheelTestBed-Experiment-0\"  #@param {type:\"string\"}\n",
        "    EXPERIMENT_FOLDER = Path(experiment_0)\n",
        "    if not EXPERIMENT_FOLDER.is_dir():\n",
        "        raise RuntimeError(f'Invalid experiment folder {EXPERIMENT_FOLDER}')\n",
        "else:\n",
        "    EXPERIMENT_FOLDER = ao.dataset.utils.get_folder(\n",
        "        env='WHEELTESTBED_EXPERIMENT0'\n",
        "        )\n",
        "DATA_FOLDER = EXPERIMENT_FOLDER / 'recordings'\n",
        "recordings, naming = ao.dataset.utils.list_data(DATA_FOLDER)"
      ]
    },
    {
      "cell_type": "code",
      "execution_count": 6,
      "metadata": {},
      "outputs": [],
      "source": [
        "def plot_primitive_experiment(audio_file, ax=None):\n",
        "    data, sample_rate = ao.io.wave_read(audio_file)\n",
        "    frame_length = 500  # [ms]\n",
        "    frame_samples = int(\n",
        "        np.ceil(frame_length / 1000 * sample_rate)\n",
        "        )  # samples per frame\n",
        "    return ao.plot.gammatonegram(\n",
        "        data,\n",
        "        sample_rate,\n",
        "        frame_samples,\n",
        "        num_features=64,\n",
        "        low_Hz=0,\n",
        "        high_Hz=22050,\n",
        "        pcolormesh_kwargs={\n",
        "            'cmap': 'jet',\n",
        "            'vmin': -1\n",
        "            },\n",
        "        ax=ax\n",
        "        )"
      ]
    },
    {
      "cell_type": "code",
      "execution_count": 7,
      "metadata": {},
      "outputs": [],
      "source": [
        "data = pd.DataFrame.from_dict(recordings, orient='index')"
      ]
    },
    {
      "cell_type": "code",
      "execution_count": 8,
      "metadata": {
        "colab": {
          "base_uri": "https://localhost:8080/",
          "height": 356
        },
        "id": "HEodRkD2Jicm",
        "outputId": "653c96cf-a4fc-4a3e-d1cf-a7d35d1fa87b"
      },
      "outputs": [],
      "source": [
        "# w_data = {}\n",
        "# for c in data.values():\n",
        "#     w_data[c['w']] = w_data.get(c['w'], []) + [c]\n",
        "# fig, axs = plt.subplots(\n",
        "#     len(w_data), max([len(v) for v in w_data.values()]), figsize=(15, 10)\n",
        "#     )\n",
        "# row = -1\n",
        "# last_w = None\n",
        "# for folder, experiment in data.items():\n",
        "#     if last_w != experiment['w']:\n",
        "#         row += 1\n",
        "#         col = 0\n",
        "#     else:\n",
        "#         col += 1\n",
        "#     last_w = experiment['w']\n",
        "#     plot, ax = plot_primitive_experiment(\n",
        "#         folder / 'audio0crop.wav', ax=axs[row, col]\n",
        "#         )\n",
        "#     ax.set_title(\n",
        "#         ', '.join(\n",
        "#             f\"{k}={experiment[k]} {naming[k].get('unit', '')}\"\n",
        "#             for k in naming.keys()\n",
        "#             )\n",
        "#         )\n",
        "# fig.colorbar(plot, cax=axs[-1, -1])\n",
        "# fig.tight_layout()"
      ]
    },
    {
      "cell_type": "markdown",
      "metadata": {},
      "source": [
        "## Experiment 1\n",
        "\n",
        "In this section we will take a closer look to the Wheel Test Bed Experiment\n",
        "results. We will generate an image dataset with features extracted from the\n",
        "audio in order to train a classifier.\n",
        "\n",
        "The dataset should be `WHEELTESTBED_EXPERIMENT` in the environment variables\n"
      ]
    },
    {
      "cell_type": "code",
      "execution_count": 9,
      "metadata": {},
      "outputs": [],
      "source": [
        "if COLAB_RUNTIME:\n",
        "    # @markdown Check where is the experiment folder situated in your drive folder.\n",
        "    # @markdown Remember that if you have been shared the folder, you can\n",
        "    # @markdown [add a shortcut to your drive](https://support.google.com/drive/answer/9700156?hl=en&co=GENIE.Platform%3DDesktop)\n",
        "    # @markdown in order to make it available in google colab.\n",
        "    experiment_0 = \"/content/drive/MyDrive/VAO_WheelTestBed-Experiment-1\"  #@param {type:\"string\"}\n",
        "    EXPERIMENT_FOLDER = Path(experiment_0)\n",
        "    if not EXPERIMENT_FOLDER.is_dir():\n",
        "        raise RuntimeError(f\"Invalid experiment folder {EXPERIMENT_FOLDER}\")\n",
        "else:\n",
        "    EXPERIMENT_FOLDER = ao.dataset.utils.get_folder(\n",
        "        env='WHEELTESTBED_EXPERIMENT1'\n",
        "        )\n",
        "DATA_FOLDER = EXPERIMENT_FOLDER / 'recordings'\n",
        "recordings, naming = ao.dataset.utils.list_data(DATA_FOLDER)"
      ]
    },
    {
      "cell_type": "code",
      "execution_count": 10,
      "metadata": {},
      "outputs": [],
      "source": [
        "def read_wheeltestbed_control(recording: Path) -> pd.DataFrame:\n",
        "    df = pd.read_csv(recording.parent / (recording.name + '.csv'))\n",
        "    # Remove the first row from the dataframe, the velocity there is useless\n",
        "    df = df.iloc[1:, :]\n",
        "    return df\n",
        "\n",
        "\n",
        "def get_Vx(\n",
        "    data: pd.DataFrame,\n",
        "    start_timestamp: float,\n",
        "    end_timestamp: float,\n",
        "    ) -> float:\n",
        "    df = data[(data['timestamp'] >= start_timestamp)\n",
        "              & (data['timestamp'] <= end_timestamp)]\n",
        "    if df.empty:\n",
        "        return 0\n",
        "    # Weighted average of the Vx values giving more importance to the most\n",
        "    # recent\n",
        "    return (df['Vx'] * df['ms']).sum() / df['ms'].sum()\n",
        "\n",
        "\n",
        "def get_label(\n",
        "    data: pd.DataFrame,\n",
        "    start_timestamp: float,\n",
        "    end_timestamp: float,\n",
        "    ) -> str:\n",
        "    Vx = get_Vx(data, start_timestamp, end_timestamp)\n",
        "    return f'{round(Vx * 100):03d}'"
      ]
    },
    {
      "cell_type": "code",
      "execution_count": 11,
      "metadata": {},
      "outputs": [],
      "source": [
        "# TODO plot control data with labels for some segments"
      ]
    },
    {
      "cell_type": "markdown",
      "metadata": {},
      "source": [
        "# Datasets"
      ]
    },
    {
      "cell_type": "code",
      "execution_count": 18,
      "metadata": {},
      "outputs": [],
      "source": [
        "def get_legacy_features(sample_name: str, label: str) -> np.ndarray:\n",
        "    return np.load(\n",
        "        DATASETS_FOLDER / 'numpy-arrays' / label / f\"{sample_name}.npy\"\n",
        "        )\n"
      ]
    },
    {
      "cell_type": "code",
      "execution_count": 27,
      "metadata": {},
      "outputs": [],
      "source": [
        "def generate_features_dataset(\n",
        "    recordings: List[Path],  # [Path(G:\\WTB\\rec\\w_5.0;s_0.0), ...]\n",
        "    output_folder: Path,\n",
        "    # TODO data_augmentation: List[Callable]\n",
        "    segment_duration: int = 1200,  # [milliseconds]\n",
        "    segment_overlap: int = 1000,  # [milliseconds]\n",
        "    frame_features: int = 256,\n",
        "    frame_duration: int = 10,  # [milliseconds]\n",
        "    *,\n",
        "    extractor: ao.extractor.Extractor = ao.extractor.GammatoneFilterbank,\n",
        "    compression: Optional[Callable[[float], float]] = math.log10,\n",
        "    **extractor_kwargs,\n",
        "    ) -> Path:\n",
        "    # Check input\n",
        "    output_folder.mkdir(exist_ok=True, parents=True)\n",
        "    if not output_folder.is_dir():\n",
        "        raise TypeError(\n",
        "            f\"output_folder must be a directory, not {output_folder}\"\n",
        "            )\n",
        "    if any(output_folder.iterdir()):\n",
        "        raise TypeError(\n",
        "            f\"output_folder must be empty but {output_folder} isn't\"\n",
        "            )\n",
        "    if compression:\n",
        "        compression = np.vectorize(compression)\n",
        "    extractors = {}\n",
        "    # TODO save dataset generation data in yaml file inside output folder\n",
        "    # Progress bars\n",
        "    progress = {\n",
        "        'recording':\n",
        "            tqdm(total=len(recordings), desc='Recordings', unit='folders'),\n",
        "        'file':\n",
        "            tqdm(desc='microphone?', unit='files'),\n",
        "        'segment':\n",
        "            tqdm(desc='Segments', unit='segments'),\n",
        "        }\n",
        "    # Iterate over recording folders\n",
        "    for recording in recordings:\n",
        "        # Wheel test bed control data\n",
        "        try:\n",
        "            wtb_control = read_wheeltestbed_control(recording)\n",
        "        except FileNotFoundError:\n",
        "            warn(f\"Skip: No control data found for recording {recording.name}\")\n",
        "        # Iterate over audio recordings\n",
        "        wav_files = list(recording.glob('microphone*.wav'))\n",
        "        progress['file'].reset(len(wav_files))\n",
        "        for wav_file in wav_files:\n",
        "            progress['file'].set_description(wav_file.name)\n",
        "            # Read data\n",
        "            wav_data, sample_rate = ao.io.audio_read(wav_file)\n",
        "            # Load configuration\n",
        "            config = ao.io.yaml_load(wav_file.with_suffix('.yaml'))\n",
        "            assert sample_rate == config['samplerate']\n",
        "            frame_samples = int(frame_duration * sample_rate / 1000)\n",
        "            # Get corresponding extract function\n",
        "            try:\n",
        "                extract = extractors[sample_rate]\n",
        "            except KeyError:\n",
        "                extract = extractors[sample_rate] = extractor(\n",
        "                    num_samples=frame_samples,\n",
        "                    num_features=frame_features,\n",
        "                    sample_rate=sample_rate,\n",
        "                    transform=compression,\n",
        "                    **extractor_kwargs\n",
        "                    )\n",
        "            # Process audio segments\n",
        "            start = config['start_timestamp']\n",
        "            segments = ao.dataset.audio.segment(\n",
        "                wav_data, sample_rate, segment_duration, segment_overlap\n",
        "                )\n",
        "            progress['segment'].reset(total=len(segments))\n",
        "            for segment in segments:\n",
        "                end = start + segment_duration / 1000\n",
        "                label = get_label(wtb_control, start, end)\n",
        "                features = ao.dataset.audio.features(\n",
        "                    segment, extractors=[extract]\n",
        "                    )\n",
        "                # TODO Use WebDataset with raw Vx, not labels\n",
        "                sample_name = (\n",
        "                    f\"device_{wav_file.stem};{recording.name};\"\n",
        "                    f\"start_{start:.2f};end_{end:.2f}\"\n",
        "                    )\n",
        "                # assert np.isclose(\n",
        "                #     get_legacy_features(sample_name, label)[np.newaxis, :, :],\n",
        "                #     features\n",
        "                #     ).all()\n",
        "                _output_folder = output_folder / label\n",
        "                _output_folder.mkdir(exist_ok=True)\n",
        "                with open(_output_folder / f\"{sample_name}.npy\", 'wb') as f:\n",
        "                    np.save(f, features)\n",
        "                start = end - segment_overlap / 1000\n",
        "                progress['segment'].update()\n",
        "            progress['file'].update()\n",
        "        progress['recording'].update()\n",
        "    for pbar in progress.values():\n",
        "        pbar.close()\n",
        "    return output_folder"
      ]
    },
    {
      "cell_type": "code",
      "execution_count": 14,
      "metadata": {},
      "outputs": [],
      "source": [
        "DATASETS_FOLDER = EXPERIMENT_FOLDER / 'datasets'"
      ]
    },
    {
      "cell_type": "code",
      "execution_count": 15,
      "metadata": {},
      "outputs": [],
      "source": [
        "def remove_folder(folder: Path):\n",
        "    for d in folder.iterdir():\n",
        "        for f in d.iterdir():\n",
        "            f.unlink()\n",
        "        d.rmdir()"
      ]
    },
    {
      "cell_type": "code",
      "execution_count": 16,
      "metadata": {
        "notebookRunGroups": {
          "groupValue": "1"
        }
      },
      "outputs": [
        {
          "ename": "AssertionError",
          "evalue": "\nArrays are not equal\n\nMismatched elements: 30720 / 30720 (100%)\nMax absolute difference: 6.37672306\nMax relative difference: 6733.83514577\n x: array([[[-4.617809, -4.32529 , -4.481673, ..., -4.302909, -4.314855,\n         -4.584983],\n        [-4.609302, -4.30388 , -4.440579, ..., -4.286832, -4.30387 ,...\n y: array([[[0.735403, 0.774194, 0.473064, ..., 0.565622, 1.069093,\n         1.213033],\n        [0.741688, 0.78535 , 0.484034, ..., 0.571953, 1.076034,...",
          "output_type": "error",
          "traceback": [
            "\u001b[1;31m---------------------------------------------------------------------------\u001b[0m",
            "\u001b[1;31mAssertionError\u001b[0m                            Traceback (most recent call last)",
            "\u001b[1;32mc:\\Users\\esdan\\Desktop\\AO\\notebooks\\legacy_datasets.ipynb Cell 28\u001b[0m in \u001b[0;36m<cell line: 1>\u001b[1;34m()\u001b[0m\n\u001b[0;32m      <a href='vscode-notebook-cell:/c%3A/Users/esdan/Desktop/AO/notebooks/legacy_datasets.ipynb#ch0000028?line=5'>6</a>\u001b[0m     new_array \u001b[39m=\u001b[39m np\u001b[39m.\u001b[39mload(new_array_file)\n\u001b[0;32m      <a href='vscode-notebook-cell:/c%3A/Users/esdan/Desktop/AO/notebooks/legacy_datasets.ipynb#ch0000028?line=6'>7</a>\u001b[0m     array \u001b[39m=\u001b[39m np\u001b[39m.\u001b[39mload(array_file)\n\u001b[1;32m----> <a href='vscode-notebook-cell:/c%3A/Users/esdan/Desktop/AO/notebooks/legacy_datasets.ipynb#ch0000028?line=7'>8</a>\u001b[0m     np\u001b[39m.\u001b[39;49mtesting\u001b[39m.\u001b[39;49massert_equal(new_array, array[np\u001b[39m.\u001b[39;49mnewaxis, :, :])\n\u001b[0;32m      <a href='vscode-notebook-cell:/c%3A/Users/esdan/Desktop/AO/notebooks/legacy_datasets.ipynb#ch0000028?line=8'>9</a>\u001b[0m \u001b[39mprint\u001b[39m(\u001b[39mf\u001b[39m\u001b[39m\"\u001b[39m\u001b[39m{\u001b[39;00mfolder\u001b[39m.\u001b[39mname\u001b[39m}\u001b[39;00m\u001b[39m is equal to \u001b[39m\u001b[39m{\u001b[39;00mnew_folder\u001b[39m.\u001b[39mname\u001b[39m}\u001b[39;00m\u001b[39m\"\u001b[39m)\n",
            "    \u001b[1;31m[... skipping hidden 2 frame]\u001b[0m\n",
            "File \u001b[1;32mc:\\Users\\esdan\\Desktop\\AO\\venv\\lib\\site-packages\\numpy\\testing\\_private\\utils.py:844\u001b[0m, in \u001b[0;36massert_array_compare\u001b[1;34m(comparison, x, y, err_msg, verbose, header, precision, equal_nan, equal_inf)\u001b[0m\n\u001b[0;32m    840\u001b[0m         err_msg \u001b[39m+\u001b[39m\u001b[39m=\u001b[39m \u001b[39m'\u001b[39m\u001b[39m\\n\u001b[39;00m\u001b[39m'\u001b[39m \u001b[39m+\u001b[39m \u001b[39m'\u001b[39m\u001b[39m\\n\u001b[39;00m\u001b[39m'\u001b[39m\u001b[39m.\u001b[39mjoin(remarks)\n\u001b[0;32m    841\u001b[0m         msg \u001b[39m=\u001b[39m build_err_msg([ox, oy], err_msg,\n\u001b[0;32m    842\u001b[0m                             verbose\u001b[39m=\u001b[39mverbose, header\u001b[39m=\u001b[39mheader,\n\u001b[0;32m    843\u001b[0m                             names\u001b[39m=\u001b[39m(\u001b[39m'\u001b[39m\u001b[39mx\u001b[39m\u001b[39m'\u001b[39m, \u001b[39m'\u001b[39m\u001b[39my\u001b[39m\u001b[39m'\u001b[39m), precision\u001b[39m=\u001b[39mprecision)\n\u001b[1;32m--> 844\u001b[0m         \u001b[39mraise\u001b[39;00m \u001b[39mAssertionError\u001b[39;00m(msg)\n\u001b[0;32m    845\u001b[0m \u001b[39mexcept\u001b[39;00m \u001b[39mValueError\u001b[39;00m:\n\u001b[0;32m    846\u001b[0m     \u001b[39mimport\u001b[39;00m \u001b[39mtraceback\u001b[39;00m\n",
            "\u001b[1;31mAssertionError\u001b[0m: \nArrays are not equal\n\nMismatched elements: 30720 / 30720 (100%)\nMax absolute difference: 6.37672306\nMax relative difference: 6733.83514577\n x: array([[[-4.617809, -4.32529 , -4.481673, ..., -4.302909, -4.314855,\n         -4.584983],\n        [-4.609302, -4.30388 , -4.440579, ..., -4.286832, -4.30387 ,...\n y: array([[[0.735403, 0.774194, 0.473064, ..., 0.565622, 1.069093,\n         1.213033],\n        [0.741688, 0.78535 , 0.484034, ..., 0.571953, 1.076034,..."
          ]
        }
      ],
      "source": [
        "for new_folder, folder in zip((DATASETS_FOLDER / 'new-numpy-arrays').iterdir(),\n",
        "                              (DATASETS_FOLDER / 'numpy-arrays').iterdir()):\n",
        "    for new_array_file, array_file in zip(\n",
        "        new_folder.iterdir(), folder.iterdir()\n",
        "        ):\n",
        "        new_array = np.load(new_array_file)\n",
        "        array = np.load(array_file)\n",
        "        np.testing.assert_equal(new_array, array[np.newaxis, :, :])\n",
        "    print(f\"{folder.name} is equal to {new_folder.name}\")"
      ]
    },
    {
      "cell_type": "code",
      "execution_count": 29,
      "metadata": {},
      "outputs": [
        {
          "data": {
            "application/vnd.jupyter.widget-view+json": {
              "model_id": "8370efa65e5f433ba4fcdee7a80447ab",
              "version_major": 2,
              "version_minor": 0
            },
            "text/plain": [
              "Recordings:   0%|          | 0/87 [00:00<?, ?folders/s]"
            ]
          },
          "metadata": {},
          "output_type": "display_data"
        },
        {
          "data": {
            "application/vnd.jupyter.widget-view+json": {
              "model_id": "7be5c8e97cc34c6bb9bdb5add9e4e6df",
              "version_major": 2,
              "version_minor": 0
            },
            "text/plain": [
              "microphone?: 0files [00:00, ?files/s]"
            ]
          },
          "metadata": {},
          "output_type": "display_data"
        },
        {
          "data": {
            "application/vnd.jupyter.widget-view+json": {
              "model_id": "dfd8b6f516884ba5b587027e78e2bb93",
              "version_major": 2,
              "version_minor": 0
            },
            "text/plain": [
              "Segments: 0segments [00:00, ?segments/s]"
            ]
          },
          "metadata": {},
          "output_type": "display_data"
        },
        {
          "data": {
            "text/plain": [
              "WindowsPath('G:/Shared drives/VAO/VAO_WheelTestBed-Experiment-1/datasets/new-2-numpy-arrays')"
            ]
          },
          "execution_count": 29,
          "metadata": {},
          "output_type": "execute_result"
        }
      ],
      "source": [
        "output_folder = DATASETS_FOLDER / 'new-2-numpy-arrays'\n",
        "output_folder.mkdir(exist_ok=True, parents=True)\n",
        "generate_features_dataset(recordings.keys(), output_folder)"
      ]
    }
  ],
  "metadata": {
    "colab": {
      "name": "plot_features.ipynb",
      "provenance": []
    },
    "interpreter": {
      "hash": "b8749b76b3be249eef7e116ab90f03825c0416a2284545ab24c0f7f41fa4add3"
    },
    "kernelspec": {
      "display_name": "Python 3.8.10 ('venv': venv)",
      "language": "python",
      "name": "python3"
    },
    "language_info": {
      "codemirror_mode": {
        "name": "ipython",
        "version": 3
      },
      "file_extension": ".py",
      "mimetype": "text/x-python",
      "name": "python",
      "nbconvert_exporter": "python",
      "pygments_lexer": "ipython3",
      "version": "3.8.10"
    },
    "orig_nbformat": 4
  },
  "nbformat": 4,
  "nbformat_minor": 0
}
