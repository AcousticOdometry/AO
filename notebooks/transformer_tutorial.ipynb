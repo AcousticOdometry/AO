{
  "cells": [
    {
      "cell_type": "code",
      "execution_count": 1,
      "metadata": {
        "collapsed": false
      },
      "outputs": [],
      "source": [
        "%matplotlib inline"
      ]
    },
    {
      "cell_type": "markdown",
      "metadata": {},
      "source": [
        "https://pytorch.org/tutorials/beginner/transformer_tutorial.html"
      ]
    },
    {
      "cell_type": "markdown",
      "metadata": {},
      "source": [
        "# Define the model\n",
        "\n",
        "\n"
      ]
    },
    {
      "cell_type": "markdown",
      "metadata": {},
      "source": [
        "In this tutorial, we train a ``nn.TransformerEncoder`` model on a\n",
        "language modeling task. The language modeling task is to assign a\n",
        "probability for the likelihood of a given word (or a sequence of words)\n",
        "to follow a sequence of words. A sequence of tokens are passed to the embedding\n",
        "layer first, followed by a positional encoding layer to account for the order\n",
        "of the word (see the next paragraph for more details). The\n",
        "``nn.TransformerEncoder`` consists of multiple layers of\n",
        "`nn.TransformerEncoderLayer <https://pytorch.org/docs/stable/generated/torch.nn.TransformerEncoderLayer.html>`__.\n",
        "Along with the input sequence, a square attention mask is required because the\n",
        "self-attention layers in ``nn.TransformerEncoder`` are only allowed to attend\n",
        "the earlier positions in the sequence. For the language modeling task, any\n",
        "tokens on the future positions should be masked. To produce a probability\n",
        "distribution over output words, the output of the ``nn.TransformerEncoder``\n",
        "model is passed through a linear layer followed by a log-softmax function.\n",
        "\n",
        "\n"
      ]
    },
    {
      "cell_type": "code",
      "execution_count": 9,
      "metadata": {
        "collapsed": false
      },
      "outputs": [],
      "source": [
        "import math\n",
        "from typing import Tuple\n",
        "\n",
        "import torch\n",
        "from torch import nn, Tensor\n",
        "import torch.nn.functional as F\n",
        "\n",
        "\n",
        "class TransformerModel(nn.Module):\n",
        "\n",
        "    def __init__(\n",
        "            self,\n",
        "            ntoken: int, # size of vocabulary\n",
        "            d_model: int, # embedding dimension\n",
        "            nhead: int, # number of heads in nn.MultiheadAttention\n",
        "            d_hid: int, # dimension of the feedforward network model in nn.TransformerEncoder\n",
        "            nlayers: int, # number of nn.TransformerEncoderLayer in nn.TransformerEncoder\n",
        "            dropout: float = 0.5 # dropout probability\n",
        "        ):\n",
        "        super().__init__()\n",
        "        self.model_type = 'Transformer'\n",
        "        self.embedding = nn.Embedding(ntoken, d_model)\n",
        "        self.pos_encoder = PositionalEncoding(d_model, dropout)\n",
        "        encoder_layers = nn.TransformerEncoderLayer(\n",
        "            d_model, nhead, d_hid, dropout\n",
        "            )\n",
        "        self.transformer_encoder = nn.TransformerEncoder(\n",
        "            encoder_layers, nlayers\n",
        "            )\n",
        "        self.d_model = d_model\n",
        "        self.decoder = nn.Linear(d_model, ntoken)\n",
        "\n",
        "        self.init_weights()\n",
        "\n",
        "    def init_weights(self) -> None:\n",
        "        initrange = 0.1\n",
        "        self.embedding.weight.data.uniform_(-initrange, initrange)\n",
        "        self.decoder.bias.data.zero_()\n",
        "        self.decoder.weight.data.uniform_(-initrange, initrange)\n",
        "\n",
        "    def forward(self, sequence: Tensor, src_mask: Tensor) -> Tensor:\n",
        "        \"\"\"\n",
        "        Args:\n",
        "            sequence: Tensor, shape [seq_len, batch_size]\n",
        "            src_mask: Tensor, shape [seq_len, seq_len]\n",
        "\n",
        "        Returns:\n",
        "            output Tensor of shape [seq_len, batch_size, ntoken]\n",
        "        \"\"\"\n",
        "        sequence = self.embedding(sequence) * math.sqrt(self.d_model)\n",
        "        sequence = self.pos_encoder(sequence)\n",
        "        output = self.transformer_encoder(sequence, src_mask)\n",
        "        output = self.decoder(output)\n",
        "        return output\n",
        "\n",
        "\n",
        "def generate_square_subsequent_mask(sz: int) -> Tensor:\n",
        "    \"\"\"Generates an upper-triangular matrix of -inf, with zeros on diag.\"\"\"\n",
        "    return torch.triu(torch.ones(sz, sz) * float('-inf'), diagonal=1)"
      ]
    },
    {
      "cell_type": "markdown",
      "metadata": {},
      "source": [
        "``PositionalEncoding`` module injects some information about the\n",
        "relative or absolute position of the tokens in the sequence. The\n",
        "positional encodings have the same dimension as the embeddings so that\n",
        "the two can be summed. Here, we use ``sine`` and ``cosine`` functions of\n",
        "different frequencies.\n",
        "\n",
        "\n"
      ]
    },
    {
      "cell_type": "code",
      "execution_count": 3,
      "metadata": {
        "collapsed": false
      },
      "outputs": [],
      "source": [
        "class PositionalEncoding(nn.Module):\n",
        "\n",
        "    def __init__(self, d_model: int, dropout: float = 0.1, max_len: int = 5000):\n",
        "        super().__init__()\n",
        "        self.dropout = nn.Dropout(p=dropout)\n",
        "\n",
        "        position = torch.arange(max_len).unsqueeze(1)\n",
        "        div_term = torch.exp(torch.arange(0, d_model, 2) * (-math.log(10000.0) / d_model))\n",
        "        pe = torch.zeros(max_len, 1, d_model)\n",
        "        pe[:, 0, 0::2] = torch.sin(position * div_term)\n",
        "        pe[:, 0, 1::2] = torch.cos(position * div_term)\n",
        "        self.register_buffer('pe', pe)\n",
        "\n",
        "    def forward(self, x: Tensor) -> Tensor:\n",
        "        \"\"\"\n",
        "        Args:\n",
        "            x: Tensor, shape [seq_len, batch_size, embedding_dim]\n",
        "        \"\"\"\n",
        "        x = x + self.pe[:x.size(0)]\n",
        "        return self.dropout(x)"
      ]
    },
    {
      "cell_type": "markdown",
      "metadata": {},
      "source": [
        "# Load and batch data\n",
        "\n",
        "\n"
      ]
    },
    {
      "cell_type": "markdown",
      "metadata": {},
      "source": [
        "This tutorial uses ``torchtext`` to generate Wikitext-2 dataset.\n",
        "To access torchtext datasets, please install torchdata following instructions at https://github.com/pytorch/data. \n",
        "\n",
        "The vocab object is built based on the train dataset and is used to numericalize\n",
        "tokens into tensors. Wikitext-2 represents rare tokens as `<unk>`.\n",
        "\n",
        "Given a 1-D vector of sequential data, ``batchify()`` arranges the data\n",
        "into ``batch_size`` columns. If the data does not divide evenly into\n",
        "``batch_size`` columns, then the data is trimmed to fit. For instance, with\n",
        "the alphabet as the data (total length of 26) and ``batch_size=4``, we would\n",
        "divide the alphabet into 4 sequences of length 6:\n",
        "\n",
        "$$\n",
        "\\begin{align}\\begin{bmatrix}\n",
        "  \\text{A} & \\text{B} & \\text{C} & \\ldots & \\text{X} & \\text{Y} & \\text{Z}\n",
        "  \\end{bmatrix}\n",
        "  \\Rightarrow\n",
        "  \\begin{bmatrix}\n",
        "  \\begin{bmatrix}\\text{A} \\\\ \\text{B} \\\\ \\text{C} \\\\ \\text{D} \\\\ \\text{E} \\\\ \\text{F}\\end{bmatrix} &\n",
        "  \\begin{bmatrix}\\text{G} \\\\ \\text{H} \\\\ \\text{I} \\\\ \\text{J} \\\\ \\text{K} \\\\ \\text{L}\\end{bmatrix} &\n",
        "  \\begin{bmatrix}\\text{M} \\\\ \\text{N} \\\\ \\text{O} \\\\ \\text{P} \\\\ \\text{Q} \\\\ \\text{R}\\end{bmatrix} &\n",
        "  \\begin{bmatrix}\\text{S} \\\\ \\text{T} \\\\ \\text{U} \\\\ \\text{V} \\\\ \\text{W} \\\\ \\text{X}\\end{bmatrix}\n",
        "  \\end{bmatrix}\\end{align}\n",
        "$$\n",
        "\n",
        "Batching enables more parallelizable processing. However, batching means that\n",
        "the model treats each column independently; for example, the dependence of\n",
        "``G`` and ``F`` can not be learned in the example above.\n",
        "\n",
        "\n"
      ]
    },
    {
      "cell_type": "code",
      "execution_count": 5,
      "metadata": {},
      "outputs": [],
      "source": [
        "import ao\n",
        "\n",
        "DATA_FOLDER = ao.dataset.utils.get_data_folder(env='PRIMITIVE_EXPERIMENT')"
      ]
    },
    {
      "cell_type": "code",
      "execution_count": 15,
      "metadata": {},
      "outputs": [],
      "source": [
        "import ao\n",
        "import numpy as np\n",
        "\n",
        "from pathlib import Path\n",
        "from torch.utils.data import IterableDataset, DataLoader\n",
        "\n",
        "class PrimitiveExperimentDataset(IterableDataset):\n",
        "\n",
        "    def __init__(\n",
        "        self,\n",
        "        data_folder: Path,\n",
        "        frame_ms: int = 500,\n",
        "        num_features: int = 64,\n",
        "        # TODO similar call signature to `plot_features`\n",
        "        ):\n",
        "        # TODO read config from yaml file\n",
        "        self.data, self.naming = ao.dataset.utils.list_data(data_folder)\n",
        "        # TODO split data in train and test\n",
        "        _, self.sample_rate = ao.io.wave_read(\n",
        "            list(self.data.keys())[0] / ('audio0crop' + '.wav')\n",
        "            )\n",
        "        self.frame_samples = int(\n",
        "            np.ceil(frame_ms / 1000 * self.sample_rate)\n",
        "            )  # samples per frame\n",
        "        self.extract = ao.extractor.GammatoneFilterbank(\n",
        "            self.frame_samples, num_features, self.sample_rate\n",
        "            )\n",
        "    \n",
        "    def __iter__(self):\n",
        "        for folder, parameters in self.data.items():\n",
        "            audio, samplerate_ = ao.io.wave_read(folder / 'audio0crop.wav')\n",
        "            # TODO do not average over channels\n",
        "            audio = audio.mean(axis=1)\n",
        "            # TODO get from wheel test bed\n",
        "            speed = parameters['contact'] * parameters['w'] * 0.10\n",
        "            # Discard the last part of the audio if it is not a multiple of the\n",
        "            # samples per frame\n",
        "            num_frames = audio.size // self.frame_samples\n",
        "            audio = audio[:num_frames * self.frame_samples]\n",
        "            for frame_num in range(num_frames):\n",
        "                frame_start = frame_num * self.frame_samples\n",
        "                frame_end = frame_start + self.frame_samples\n",
        "                frame = audio[frame_start:frame_end]\n",
        "                features = self.extract(frame)\n",
        "                # TODO use speed label\n",
        "                yield features, speed"
      ]
    },
    {
      "cell_type": "code",
      "execution_count": 18,
      "metadata": {},
      "outputs": [
        {
          "name": "stdout",
          "output_type": "stream",
          "text": [
            "[[tensor([11.1160, 14.1649, 12.4298, 15.5246, 11.4729, 12.1453],\n",
            "       dtype=torch.float64), tensor([6.3744, 8.3411, 8.5589, 8.3561, 6.6650, 6.9198], dtype=torch.float64), tensor([4.5254, 5.6748, 6.4274, 5.0484, 4.4056, 4.1557], dtype=torch.float64), tensor([4.4976, 4.3082, 4.5307, 3.7558, 3.5565, 3.3138], dtype=torch.float64), tensor([5.1825, 4.2550, 4.2107, 3.8852, 3.4271, 2.9380], dtype=torch.float64), tensor([4.6273, 3.7570, 3.6136, 3.6034, 3.2606, 2.9658], dtype=torch.float64), tensor([3.4330, 2.9436, 3.0607, 3.0571, 2.8368, 2.6423], dtype=torch.float64), tensor([2.5493, 2.3039, 2.5361, 2.6235, 2.3857, 2.3147], dtype=torch.float64), tensor([2.3478, 1.7183, 2.1957, 2.2753, 1.8550, 2.1896], dtype=torch.float64), tensor([2.7531, 1.9256, 2.6044, 2.1041, 1.8589, 2.2956], dtype=torch.float64), tensor([3.1850, 2.4154, 2.8171, 2.2503, 2.2507, 2.5817], dtype=torch.float64), tensor([2.4670, 2.2888, 2.3313, 2.1812, 2.3155, 2.4717], dtype=torch.float64), tensor([1.9361, 2.1633, 2.0781, 2.0379, 1.9549, 2.2679], dtype=torch.float64), tensor([2.0405, 2.0318, 2.1407, 2.0759, 2.1186, 1.8695], dtype=torch.float64), tensor([2.1346, 2.1050, 2.1516, 2.0501, 2.2201, 1.7766], dtype=torch.float64), tensor([2.1195, 1.9980, 1.9276, 1.9660, 2.0816, 1.8103], dtype=torch.float64), tensor([2.3949, 2.3206, 2.2157, 2.3210, 2.5487, 2.2753], dtype=torch.float64), tensor([3.5186, 3.5329, 3.6942, 3.4028, 3.9869, 3.4103], dtype=torch.float64), tensor([3.9531, 3.7332, 3.9952, 3.4940, 4.2414, 3.7234], dtype=torch.float64), tensor([2.9598, 2.4786, 2.8306, 2.5311, 2.8430, 2.9355], dtype=torch.float64), tensor([2.9000, 2.5038, 2.9895, 2.8192, 2.8309, 3.2584], dtype=torch.float64), tensor([2.9885, 2.8125, 3.2624, 3.0812, 3.3781, 3.7078], dtype=torch.float64), tensor([3.0660, 2.8886, 3.3441, 3.5952, 3.8904, 4.4507], dtype=torch.float64), tensor([3.5881, 3.3852, 3.7908, 4.3619, 4.7681, 5.5143], dtype=torch.float64), tensor([4.1619, 4.1641, 4.2710, 4.4138, 5.0611, 4.8479], dtype=torch.float64), tensor([5.3055, 5.2798, 5.5889, 5.2767, 6.0836, 4.9952], dtype=torch.float64), tensor([4.9656, 4.4845, 5.1546, 4.6773, 5.0509, 4.3282], dtype=torch.float64), tensor([3.2233, 2.6944, 3.2477, 2.7585, 2.9119, 2.7246], dtype=torch.float64), tensor([2.1172, 1.7806, 2.1667, 1.7764, 1.9257, 1.9883], dtype=torch.float64), tensor([1.5245, 1.2900, 1.6159, 1.2598, 1.4811, 1.3555], dtype=torch.float64), tensor([1.8165, 1.4855, 1.7788, 1.3331, 1.6332, 1.2805], dtype=torch.float64), tensor([2.0817, 1.6281, 1.9235, 1.4815, 1.8198, 1.4829], dtype=torch.float64), tensor([1.5204, 1.2286, 1.4792, 1.2389, 1.4279, 1.3133], dtype=torch.float64), tensor([0.9856, 0.8841, 1.0109, 0.8965, 0.9824, 0.9751], dtype=torch.float64), tensor([0.7682, 0.7853, 0.8284, 0.7516, 0.8169, 0.7829], dtype=torch.float64), tensor([0.8381, 0.8946, 0.9301, 0.8796, 0.9248, 0.8403], dtype=torch.float64), tensor([0.8776, 0.8816, 0.9615, 0.9005, 0.9885, 0.8272], dtype=torch.float64), tensor([0.8367, 0.7746, 0.8756, 0.8144, 0.9326, 0.8093], dtype=torch.float64), tensor([0.8430, 0.7878, 1.0263, 0.9114, 1.0967, 0.9796], dtype=torch.float64), tensor([0.8425, 0.7914, 1.0287, 0.9552, 1.0889, 1.0252], dtype=torch.float64), tensor([0.7156, 0.6845, 0.8480, 0.8113, 0.8844, 0.8598], dtype=torch.float64), tensor([0.5396, 0.5561, 0.6602, 0.6338, 0.6849, 0.6695], dtype=torch.float64), tensor([0.4779, 0.5350, 0.5733, 0.5646, 0.6382, 0.6020], dtype=torch.float64), tensor([0.5597, 0.5798, 0.6049, 0.6168, 0.6883, 0.6325], dtype=torch.float64), tensor([0.6634, 0.6019, 0.6508, 0.6643, 0.7161, 0.6919], dtype=torch.float64), tensor([0.6730, 0.5467, 0.6214, 0.5999, 0.6467, 0.6219], dtype=torch.float64), tensor([0.5409, 0.5022, 0.5587, 0.5468, 0.5965, 0.5328], dtype=torch.float64), tensor([0.4611, 0.4754, 0.4921, 0.5007, 0.5475, 0.4665], dtype=torch.float64), tensor([0.4318, 0.4323, 0.4312, 0.4304, 0.4861, 0.4197], dtype=torch.float64), tensor([0.4496, 0.4299, 0.4432, 0.4174, 0.4946, 0.4141], dtype=torch.float64), tensor([0.4880, 0.4651, 0.5086, 0.4745, 0.5649, 0.4552], dtype=torch.float64), tensor([0.4686, 0.4640, 0.5076, 0.4677, 0.5406, 0.4503], dtype=torch.float64), tensor([0.4429, 0.4823, 0.5209, 0.4338, 0.4770, 0.4173], dtype=torch.float64), tensor([0.4622, 0.4851, 0.5381, 0.4300, 0.4597, 0.4130], dtype=torch.float64), tensor([0.4622, 0.4614, 0.5235, 0.4160, 0.4504, 0.4311], dtype=torch.float64), tensor([0.4480, 0.4568, 0.5023, 0.4114, 0.4444, 0.4463], dtype=torch.float64), tensor([0.3976, 0.4014, 0.4275, 0.3598, 0.3887, 0.3892], dtype=torch.float64), tensor([0.3570, 0.3642, 0.3801, 0.3446, 0.3556, 0.3570], dtype=torch.float64), tensor([0.3458, 0.3721, 0.3987, 0.3478, 0.3660, 0.3749], dtype=torch.float64), tensor([0.3599, 0.4046, 0.4234, 0.3753, 0.4109, 0.3998], dtype=torch.float64), tensor([0.3571, 0.4040, 0.4088, 0.3768, 0.4121, 0.3890], dtype=torch.float64), tensor([0.3437, 0.3907, 0.3712, 0.3447, 0.3791, 0.3703], dtype=torch.float64), tensor([0.3388, 0.3848, 0.3615, 0.3497, 0.3760, 0.3742], dtype=torch.float64), tensor([0.3515, 0.3721, 0.3656, 0.3614, 0.3834, 0.3876], dtype=torch.float64)], tensor([0., 0., 0., 0., 0., 0.], dtype=torch.float64)]\n"
          ]
        }
      ],
      "source": [
        "train_dataset = PrimitiveExperimentDataset(DATA_FOLDER)\n",
        "train_data = DataLoader(train_dataset, batch_size=6)\n",
        "print(next(iter(train_data)))"
      ]
    },
    {
      "cell_type": "code",
      "execution_count": 8,
      "metadata": {},
      "outputs": [
        {
          "name": "stdout",
          "output_type": "stream",
          "text": [
            "cpu\n"
          ]
        }
      ],
      "source": [
        "device = torch.device('cuda' if torch.cuda.is_available() else 'cpu')\n",
        "print(device)"
      ]
    },
    {
      "cell_type": "code",
      "execution_count": 6,
      "metadata": {
        "collapsed": false
      },
      "outputs": [],
      "source": [
        "from torchtext.datasets import WikiText2\n",
        "from torchtext.data.utils import get_tokenizer\n",
        "from torchtext.vocab import build_vocab_from_iterator\n",
        "\n",
        "train_iter = WikiText2(split='train')\n",
        "tokenizer = get_tokenizer('basic_english')\n",
        "vocab = build_vocab_from_iterator(map(tokenizer, train_iter), specials=['<unk>'])\n",
        "vocab.set_default_index(vocab['<unk>']) \n",
        "\n",
        "def data_process(raw_text_iter: dataset.IterableDataset) -> Tensor:\n",
        "    \"\"\"Converts raw text into a flat Tensor.\"\"\"\n",
        "    data = [torch.tensor(vocab(tokenizer(item)), dtype=torch.long) for item in raw_text_iter]\n",
        "    return torch.cat(tuple(filter(lambda t: t.numel() > 0, data)))\n",
        "\n",
        "# train_iter was \"consumed\" by the process of building the vocab,\n",
        "# so we have to create it again\n",
        "train_iter, val_iter, test_iter = WikiText2()\n",
        "train_data = data_process(train_iter)\n",
        "val_data = data_process(val_iter)\n",
        "test_data = data_process(test_iter)\n",
        "\n",
        "device = torch.device('cuda' if torch.cuda.is_available() else 'cpu')\n",
        "\n",
        "def batchify(data: Tensor, bsz: int) -> Tensor:\n",
        "    \"\"\"Divides the data into bsz separate sequences, removing extra elements\n",
        "    that wouldn't cleanly fit.\n",
        "\n",
        "    Args:\n",
        "        data: Tensor, shape [N]\n",
        "        bsz: int, batch size\n",
        "\n",
        "    Returns:\n",
        "        Tensor of shape [N // bsz, bsz]\n",
        "    \"\"\"\n",
        "    seq_len = data.size(0) // bsz\n",
        "    data = data[:seq_len * bsz]\n",
        "    data = data.view(bsz, seq_len).t().contiguous()\n",
        "    return data.to(device)\n",
        "\n",
        "batch_size = 20\n",
        "eval_batch_size = 10\n",
        "train_data = batchify(train_data, batch_size)  # shape [seq_len, batch_size]\n",
        "val_data = batchify(val_data, eval_batch_size)\n",
        "test_data = batchify(test_data, eval_batch_size)"
      ]
    },
    {
      "cell_type": "markdown",
      "metadata": {},
      "source": [
        "Functions to generate input and target sequence\n",
        "~~~~~~~~~~~~~~~~~~~~~~~~~~~~~~~~~~~~~~~~~~~~~~~~~\n",
        "\n",
        "\n"
      ]
    },
    {
      "cell_type": "markdown",
      "metadata": {},
      "source": [
        "``get_batch()`` generates a pair of input-target sequences for\n",
        "the transformer model. It subdivides the source data into chunks of\n",
        "length ``bptt``. For the language modeling task, the model needs the\n",
        "following words as ``Target``. For example, with a ``bptt`` value of 2,\n",
        "we’d get the following two Variables for ``i`` = 0:\n",
        "\n",
        "![](../_static/img/transformer_input_target.png)\n",
        "\n",
        "\n",
        "It should be noted that the chunks are along dimension 0, consistent\n",
        "with the ``S`` dimension in the Transformer model. The batch dimension\n",
        "``N`` is along dimension 1.\n",
        "\n",
        "\n"
      ]
    },
    {
      "cell_type": "code",
      "execution_count": 7,
      "metadata": {
        "collapsed": false
      },
      "outputs": [],
      "source": [
        "bptt = 35\n",
        "def get_batch(source: Tensor, i: int) -> Tuple[Tensor, Tensor]:\n",
        "    \"\"\"\n",
        "    Args:\n",
        "        source: Tensor, shape [full_seq_len, batch_size]\n",
        "        i: int\n",
        "\n",
        "    Returns:\n",
        "        tuple (data, target), where data has shape [seq_len, batch_size] and\n",
        "        target has shape [seq_len * batch_size]\n",
        "    \"\"\"\n",
        "    seq_len = min(bptt, len(source) - 1 - i)\n",
        "    data = source[i:i+seq_len]\n",
        "    target = source[i+1:i+1+seq_len].reshape(-1)\n",
        "    return data, target"
      ]
    },
    {
      "cell_type": "markdown",
      "metadata": {},
      "source": [
        "Initiate an instance\n",
        "--------------------\n",
        "\n",
        "\n"
      ]
    },
    {
      "cell_type": "markdown",
      "metadata": {},
      "source": [
        "The model hyperparameters are defined below. The vocab size is\n",
        "equal to the length of the vocab object.\n",
        "\n",
        "\n"
      ]
    },
    {
      "cell_type": "code",
      "execution_count": 9,
      "metadata": {
        "collapsed": false
      },
      "outputs": [],
      "source": [
        "ntokens = len(vocab)  # size of vocabulary\n",
        "emsize = 200  # embedding dimension\n",
        "d_hid = 200  # dimension of the feedforward network model in nn.TransformerEncoder\n",
        "nlayers = 2  # number of nn.TransformerEncoderLayer in nn.TransformerEncoder\n",
        "nhead = 2  # number of heads in nn.MultiheadAttention\n",
        "dropout = 0.2  # dropout probability\n",
        "model = TransformerModel(ntokens, emsize, nhead, d_hid, nlayers, dropout).to(device)"
      ]
    },
    {
      "cell_type": "markdown",
      "metadata": {},
      "source": [
        "Run the model\n",
        "-------------\n",
        "\n",
        "\n"
      ]
    },
    {
      "cell_type": "markdown",
      "metadata": {},
      "source": [
        "We use `CrossEntropyLoss <https://pytorch.org/docs/stable/generated/torch.nn.CrossEntropyLoss.html>`__\n",
        "with the `SGD <https://pytorch.org/docs/stable/generated/torch.optim.SGD.html>`__\n",
        "(stochastic gradient descent) optimizer. The learning rate is initially set to\n",
        "5.0 and follows a `StepLR <https://pytorch.org/docs/stable/generated/torch.optim.lr_scheduler.StepLR.html>`__\n",
        "schedule. During training, we use `nn.utils.clip_grad_norm\\_ <https://pytorch.org/docs/stable/generated/torch.nn.utils.clip_grad_norm_.html>`__\n",
        "to prevent gradients from exploding.\n",
        "\n",
        "\n"
      ]
    },
    {
      "cell_type": "code",
      "execution_count": 10,
      "metadata": {
        "collapsed": false
      },
      "outputs": [],
      "source": [
        "import copy\n",
        "import time\n",
        "\n",
        "criterion = nn.CrossEntropyLoss()\n",
        "lr = 5.0  # learning rate\n",
        "optimizer = torch.optim.SGD(model.parameters(), lr=lr)\n",
        "scheduler = torch.optim.lr_scheduler.StepLR(optimizer, 1.0, gamma=0.95)\n",
        "\n",
        "def train(model: nn.Module) -> None:\n",
        "    model.train()  # turn on train mode\n",
        "    total_loss = 0.\n",
        "    log_interval = 200\n",
        "    start_time = time.time()\n",
        "    src_mask = generate_square_subsequent_mask(bptt).to(device)\n",
        "\n",
        "    num_batches = len(train_data) // bptt\n",
        "    for batch, i in enumerate(range(0, train_data.size(0) - 1, bptt)):\n",
        "        data, targets = get_batch(train_data, i)\n",
        "        batch_size = data.size(0)\n",
        "        if batch_size != bptt:  # only on last batch\n",
        "            src_mask = src_mask[:batch_size, :batch_size]\n",
        "        output = model(data, src_mask)\n",
        "        loss = criterion(output.view(-1, ntokens), targets)\n",
        "\n",
        "        optimizer.zero_grad()\n",
        "        loss.backward()\n",
        "        torch.nn.utils.clip_grad_norm_(model.parameters(), 0.5)\n",
        "        optimizer.step()\n",
        "\n",
        "        total_loss += loss.item()\n",
        "        if batch % log_interval == 0 and batch > 0:\n",
        "            lr = scheduler.get_last_lr()[0]\n",
        "            ms_per_batch = (time.time() - start_time) * 1000 / log_interval\n",
        "            cur_loss = total_loss / log_interval\n",
        "            ppl = math.exp(cur_loss)\n",
        "            print(f'| epoch {epoch:3d} | {batch:5d}/{num_batches:5d} batches | '\n",
        "                  f'lr {lr:02.2f} | ms/batch {ms_per_batch:5.2f} | '\n",
        "                  f'loss {cur_loss:5.2f} | ppl {ppl:8.2f}')\n",
        "            total_loss = 0\n",
        "            start_time = time.time()\n",
        "\n",
        "def evaluate(model: nn.Module, eval_data: Tensor) -> float:\n",
        "    model.eval()  # turn on evaluation mode\n",
        "    total_loss = 0.\n",
        "    src_mask = generate_square_subsequent_mask(bptt).to(device)\n",
        "    with torch.no_grad():\n",
        "        for i in range(0, eval_data.size(0) - 1, bptt):\n",
        "            data, targets = get_batch(eval_data, i)\n",
        "            batch_size = data.size(0)\n",
        "            if batch_size != bptt:\n",
        "                src_mask = src_mask[:batch_size, :batch_size]\n",
        "            output = model(data, src_mask)\n",
        "            output_flat = output.view(-1, ntokens)\n",
        "            total_loss += batch_size * criterion(output_flat, targets).item()\n",
        "    return total_loss / (len(eval_data) - 1)"
      ]
    },
    {
      "cell_type": "markdown",
      "metadata": {},
      "source": [
        "Loop over epochs. Save the model if the validation loss is the best\n",
        "we've seen so far. Adjust the learning rate after each epoch.\n",
        "\n"
      ]
    },
    {
      "cell_type": "code",
      "execution_count": 11,
      "metadata": {
        "collapsed": false
      },
      "outputs": [
        {
          "name": "stdout",
          "output_type": "stream",
          "text": [
            "| epoch   1 |   200/ 2928 batches | lr 5.00 | ms/batch 401.02 | loss  8.08 | ppl  3244.57\n",
            "| epoch   1 |   400/ 2928 batches | lr 5.00 | ms/batch 388.76 | loss  6.87 | ppl   964.44\n",
            "| epoch   1 |   600/ 2928 batches | lr 5.00 | ms/batch 387.75 | loss  6.44 | ppl   623.78\n",
            "| epoch   1 |   800/ 2928 batches | lr 5.00 | ms/batch 397.25 | loss  6.30 | ppl   543.00\n",
            "| epoch   1 |  1000/ 2928 batches | lr 5.00 | ms/batch 389.22 | loss  6.18 | ppl   480.99\n",
            "| epoch   1 |  1200/ 2928 batches | lr 5.00 | ms/batch 395.26 | loss  6.15 | ppl   467.25\n",
            "| epoch   1 |  1400/ 2928 batches | lr 5.00 | ms/batch 392.69 | loss  6.11 | ppl   450.01\n",
            "| epoch   1 |  1600/ 2928 batches | lr 5.00 | ms/batch 412.98 | loss  6.10 | ppl   447.81\n",
            "| epoch   1 |  1800/ 2928 batches | lr 5.00 | ms/batch 388.14 | loss  6.02 | ppl   411.47\n",
            "| epoch   1 |  2000/ 2928 batches | lr 5.00 | ms/batch 388.48 | loss  6.01 | ppl   408.59\n",
            "| epoch   1 |  2200/ 2928 batches | lr 5.00 | ms/batch 406.52 | loss  5.88 | ppl   359.01\n",
            "| epoch   1 |  2400/ 2928 batches | lr 5.00 | ms/batch 404.17 | loss  5.96 | ppl   389.14\n",
            "| epoch   1 |  2600/ 2928 batches | lr 5.00 | ms/batch 401.22 | loss  5.95 | ppl   383.75\n",
            "| epoch   1 |  2800/ 2928 batches | lr 5.00 | ms/batch 399.83 | loss  5.88 | ppl   357.15\n",
            "-----------------------------------------------------------------------------------------\n",
            "| end of epoch   1 | time: 1236.22s | valid loss  5.77 | valid ppl   320.56\n",
            "-----------------------------------------------------------------------------------------\n",
            "| epoch   2 |   200/ 2928 batches | lr 4.75 | ms/batch 416.48 | loss  5.86 | ppl   350.70\n",
            "| epoch   2 |   400/ 2928 batches | lr 4.75 | ms/batch 403.91 | loss  5.85 | ppl   346.20\n",
            "| epoch   2 |   600/ 2928 batches | lr 4.75 | ms/batch 401.42 | loss  5.66 | ppl   287.61\n",
            "| epoch   2 |   800/ 2928 batches | lr 4.75 | ms/batch 403.58 | loss  5.70 | ppl   299.22\n",
            "| epoch   2 |  1000/ 2928 batches | lr 4.75 | ms/batch 396.92 | loss  5.65 | ppl   282.89\n",
            "| epoch   2 |  1200/ 2928 batches | lr 4.75 | ms/batch 405.95 | loss  5.67 | ppl   289.46\n",
            "| epoch   2 |  1400/ 2928 batches | lr 4.75 | ms/batch 387.76 | loss  5.69 | ppl   294.83\n",
            "| epoch   2 |  1600/ 2928 batches | lr 4.75 | ms/batch 383.19 | loss  5.72 | ppl   303.57\n"
          ]
        },
        {
          "ename": "KeyboardInterrupt",
          "evalue": "",
          "output_type": "error",
          "traceback": [
            "\u001b[1;31m---------------------------------------------------------------------------\u001b[0m",
            "\u001b[1;31mKeyboardInterrupt\u001b[0m                         Traceback (most recent call last)",
            "\u001b[1;32mc:\\Users\\esdan\\Desktop\\AO\\notebooks\\transformer_tutorial.ipynb Cell 21'\u001b[0m in \u001b[0;36m<cell line: 5>\u001b[1;34m()\u001b[0m\n\u001b[0;32m      <a href='vscode-notebook-cell:/c%3A/Users/esdan/Desktop/AO/notebooks/transformer_tutorial.ipynb#ch0000020?line=4'>5</a>\u001b[0m \u001b[39mfor\u001b[39;00m epoch \u001b[39min\u001b[39;00m \u001b[39mrange\u001b[39m(\u001b[39m1\u001b[39m, epochs \u001b[39m+\u001b[39m \u001b[39m1\u001b[39m):\n\u001b[0;32m      <a href='vscode-notebook-cell:/c%3A/Users/esdan/Desktop/AO/notebooks/transformer_tutorial.ipynb#ch0000020?line=5'>6</a>\u001b[0m     epoch_start_time \u001b[39m=\u001b[39m time\u001b[39m.\u001b[39mtime()\n\u001b[1;32m----> <a href='vscode-notebook-cell:/c%3A/Users/esdan/Desktop/AO/notebooks/transformer_tutorial.ipynb#ch0000020?line=6'>7</a>\u001b[0m     train(model)\n\u001b[0;32m      <a href='vscode-notebook-cell:/c%3A/Users/esdan/Desktop/AO/notebooks/transformer_tutorial.ipynb#ch0000020?line=7'>8</a>\u001b[0m     val_loss \u001b[39m=\u001b[39m evaluate(model, val_data)\n\u001b[0;32m      <a href='vscode-notebook-cell:/c%3A/Users/esdan/Desktop/AO/notebooks/transformer_tutorial.ipynb#ch0000020?line=8'>9</a>\u001b[0m     val_ppl \u001b[39m=\u001b[39m math\u001b[39m.\u001b[39mexp(val_loss)\n",
            "\u001b[1;32mc:\\Users\\esdan\\Desktop\\AO\\notebooks\\transformer_tutorial.ipynb Cell 19'\u001b[0m in \u001b[0;36mtrain\u001b[1;34m(model)\u001b[0m\n\u001b[0;32m     <a href='vscode-notebook-cell:/c%3A/Users/esdan/Desktop/AO/notebooks/transformer_tutorial.ipynb#ch0000018?line=19'>20</a>\u001b[0m \u001b[39mif\u001b[39;00m batch_size \u001b[39m!=\u001b[39m bptt:  \u001b[39m# only on last batch\u001b[39;00m\n\u001b[0;32m     <a href='vscode-notebook-cell:/c%3A/Users/esdan/Desktop/AO/notebooks/transformer_tutorial.ipynb#ch0000018?line=20'>21</a>\u001b[0m     src_mask \u001b[39m=\u001b[39m src_mask[:batch_size, :batch_size]\n\u001b[1;32m---> <a href='vscode-notebook-cell:/c%3A/Users/esdan/Desktop/AO/notebooks/transformer_tutorial.ipynb#ch0000018?line=21'>22</a>\u001b[0m output \u001b[39m=\u001b[39m model(data, src_mask)\n\u001b[0;32m     <a href='vscode-notebook-cell:/c%3A/Users/esdan/Desktop/AO/notebooks/transformer_tutorial.ipynb#ch0000018?line=22'>23</a>\u001b[0m loss \u001b[39m=\u001b[39m criterion(output\u001b[39m.\u001b[39mview(\u001b[39m-\u001b[39m\u001b[39m1\u001b[39m, ntokens), targets)\n\u001b[0;32m     <a href='vscode-notebook-cell:/c%3A/Users/esdan/Desktop/AO/notebooks/transformer_tutorial.ipynb#ch0000018?line=24'>25</a>\u001b[0m optimizer\u001b[39m.\u001b[39mzero_grad()\n",
            "File \u001b[1;32mc:\\Users\\esdan\\Desktop\\AO\\venv\\lib\\site-packages\\torch\\nn\\modules\\module.py:1110\u001b[0m, in \u001b[0;36mModule._call_impl\u001b[1;34m(self, *input, **kwargs)\u001b[0m\n\u001b[0;32m   <a href='file:///c%3A/Users/esdan/Desktop/AO/venv/lib/site-packages/torch/nn/modules/module.py?line=1105'>1106</a>\u001b[0m \u001b[39m# If we don't have any hooks, we want to skip the rest of the logic in\u001b[39;00m\n\u001b[0;32m   <a href='file:///c%3A/Users/esdan/Desktop/AO/venv/lib/site-packages/torch/nn/modules/module.py?line=1106'>1107</a>\u001b[0m \u001b[39m# this function, and just call forward.\u001b[39;00m\n\u001b[0;32m   <a href='file:///c%3A/Users/esdan/Desktop/AO/venv/lib/site-packages/torch/nn/modules/module.py?line=1107'>1108</a>\u001b[0m \u001b[39mif\u001b[39;00m \u001b[39mnot\u001b[39;00m (\u001b[39mself\u001b[39m\u001b[39m.\u001b[39m_backward_hooks \u001b[39mor\u001b[39;00m \u001b[39mself\u001b[39m\u001b[39m.\u001b[39m_forward_hooks \u001b[39mor\u001b[39;00m \u001b[39mself\u001b[39m\u001b[39m.\u001b[39m_forward_pre_hooks \u001b[39mor\u001b[39;00m _global_backward_hooks\n\u001b[0;32m   <a href='file:///c%3A/Users/esdan/Desktop/AO/venv/lib/site-packages/torch/nn/modules/module.py?line=1108'>1109</a>\u001b[0m         \u001b[39mor\u001b[39;00m _global_forward_hooks \u001b[39mor\u001b[39;00m _global_forward_pre_hooks):\n\u001b[1;32m-> <a href='file:///c%3A/Users/esdan/Desktop/AO/venv/lib/site-packages/torch/nn/modules/module.py?line=1109'>1110</a>\u001b[0m     \u001b[39mreturn\u001b[39;00m forward_call(\u001b[39m*\u001b[39;49m\u001b[39minput\u001b[39;49m, \u001b[39m*\u001b[39;49m\u001b[39m*\u001b[39;49mkwargs)\n\u001b[0;32m   <a href='file:///c%3A/Users/esdan/Desktop/AO/venv/lib/site-packages/torch/nn/modules/module.py?line=1110'>1111</a>\u001b[0m \u001b[39m# Do not call functions when jit is used\u001b[39;00m\n\u001b[0;32m   <a href='file:///c%3A/Users/esdan/Desktop/AO/venv/lib/site-packages/torch/nn/modules/module.py?line=1111'>1112</a>\u001b[0m full_backward_hooks, non_full_backward_hooks \u001b[39m=\u001b[39m [], []\n",
            "\u001b[1;32mc:\\Users\\esdan\\Desktop\\AO\\notebooks\\transformer_tutorial.ipynb Cell 5'\u001b[0m in \u001b[0;36mTransformerModel.forward\u001b[1;34m(self, src, src_mask)\u001b[0m\n\u001b[0;32m     <a href='vscode-notebook-cell:/c%3A/Users/esdan/Desktop/AO/notebooks/transformer_tutorial.ipynb#ch0000004?line=40'>41</a>\u001b[0m src \u001b[39m=\u001b[39m \u001b[39mself\u001b[39m\u001b[39m.\u001b[39mpos_encoder(src)\n\u001b[0;32m     <a href='vscode-notebook-cell:/c%3A/Users/esdan/Desktop/AO/notebooks/transformer_tutorial.ipynb#ch0000004?line=41'>42</a>\u001b[0m output \u001b[39m=\u001b[39m \u001b[39mself\u001b[39m\u001b[39m.\u001b[39mtransformer_encoder(src, src_mask)\n\u001b[1;32m---> <a href='vscode-notebook-cell:/c%3A/Users/esdan/Desktop/AO/notebooks/transformer_tutorial.ipynb#ch0000004?line=42'>43</a>\u001b[0m output \u001b[39m=\u001b[39m \u001b[39mself\u001b[39;49m\u001b[39m.\u001b[39;49mdecoder(output)\n\u001b[0;32m     <a href='vscode-notebook-cell:/c%3A/Users/esdan/Desktop/AO/notebooks/transformer_tutorial.ipynb#ch0000004?line=43'>44</a>\u001b[0m \u001b[39mreturn\u001b[39;00m output\n",
            "File \u001b[1;32mc:\\Users\\esdan\\Desktop\\AO\\venv\\lib\\site-packages\\torch\\nn\\modules\\module.py:1110\u001b[0m, in \u001b[0;36mModule._call_impl\u001b[1;34m(self, *input, **kwargs)\u001b[0m\n\u001b[0;32m   <a href='file:///c%3A/Users/esdan/Desktop/AO/venv/lib/site-packages/torch/nn/modules/module.py?line=1105'>1106</a>\u001b[0m \u001b[39m# If we don't have any hooks, we want to skip the rest of the logic in\u001b[39;00m\n\u001b[0;32m   <a href='file:///c%3A/Users/esdan/Desktop/AO/venv/lib/site-packages/torch/nn/modules/module.py?line=1106'>1107</a>\u001b[0m \u001b[39m# this function, and just call forward.\u001b[39;00m\n\u001b[0;32m   <a href='file:///c%3A/Users/esdan/Desktop/AO/venv/lib/site-packages/torch/nn/modules/module.py?line=1107'>1108</a>\u001b[0m \u001b[39mif\u001b[39;00m \u001b[39mnot\u001b[39;00m (\u001b[39mself\u001b[39m\u001b[39m.\u001b[39m_backward_hooks \u001b[39mor\u001b[39;00m \u001b[39mself\u001b[39m\u001b[39m.\u001b[39m_forward_hooks \u001b[39mor\u001b[39;00m \u001b[39mself\u001b[39m\u001b[39m.\u001b[39m_forward_pre_hooks \u001b[39mor\u001b[39;00m _global_backward_hooks\n\u001b[0;32m   <a href='file:///c%3A/Users/esdan/Desktop/AO/venv/lib/site-packages/torch/nn/modules/module.py?line=1108'>1109</a>\u001b[0m         \u001b[39mor\u001b[39;00m _global_forward_hooks \u001b[39mor\u001b[39;00m _global_forward_pre_hooks):\n\u001b[1;32m-> <a href='file:///c%3A/Users/esdan/Desktop/AO/venv/lib/site-packages/torch/nn/modules/module.py?line=1109'>1110</a>\u001b[0m     \u001b[39mreturn\u001b[39;00m forward_call(\u001b[39m*\u001b[39;49m\u001b[39minput\u001b[39;49m, \u001b[39m*\u001b[39;49m\u001b[39m*\u001b[39;49mkwargs)\n\u001b[0;32m   <a href='file:///c%3A/Users/esdan/Desktop/AO/venv/lib/site-packages/torch/nn/modules/module.py?line=1110'>1111</a>\u001b[0m \u001b[39m# Do not call functions when jit is used\u001b[39;00m\n\u001b[0;32m   <a href='file:///c%3A/Users/esdan/Desktop/AO/venv/lib/site-packages/torch/nn/modules/module.py?line=1111'>1112</a>\u001b[0m full_backward_hooks, non_full_backward_hooks \u001b[39m=\u001b[39m [], []\n",
            "File \u001b[1;32mc:\\Users\\esdan\\Desktop\\AO\\venv\\lib\\site-packages\\torch\\nn\\modules\\linear.py:103\u001b[0m, in \u001b[0;36mLinear.forward\u001b[1;34m(self, input)\u001b[0m\n\u001b[0;32m    <a href='file:///c%3A/Users/esdan/Desktop/AO/venv/lib/site-packages/torch/nn/modules/linear.py?line=101'>102</a>\u001b[0m \u001b[39mdef\u001b[39;00m \u001b[39mforward\u001b[39m(\u001b[39mself\u001b[39m, \u001b[39minput\u001b[39m: Tensor) \u001b[39m-\u001b[39m\u001b[39m>\u001b[39m Tensor:\n\u001b[1;32m--> <a href='file:///c%3A/Users/esdan/Desktop/AO/venv/lib/site-packages/torch/nn/modules/linear.py?line=102'>103</a>\u001b[0m     \u001b[39mreturn\u001b[39;00m F\u001b[39m.\u001b[39;49mlinear(\u001b[39minput\u001b[39;49m, \u001b[39mself\u001b[39;49m\u001b[39m.\u001b[39;49mweight, \u001b[39mself\u001b[39;49m\u001b[39m.\u001b[39;49mbias)\n",
            "\u001b[1;31mKeyboardInterrupt\u001b[0m: "
          ]
        }
      ],
      "source": [
        "best_val_loss = float('inf')\n",
        "epochs = 3\n",
        "best_model = None\n",
        "\n",
        "for epoch in range(1, epochs + 1):\n",
        "    epoch_start_time = time.time()\n",
        "    train(model)\n",
        "    val_loss = evaluate(model, val_data)\n",
        "    val_ppl = math.exp(val_loss)\n",
        "    elapsed = time.time() - epoch_start_time\n",
        "    print('-' * 89)\n",
        "    print(f'| end of epoch {epoch:3d} | time: {elapsed:5.2f}s | '\n",
        "          f'valid loss {val_loss:5.2f} | valid ppl {val_ppl:8.2f}')\n",
        "    print('-' * 89)\n",
        "\n",
        "    if val_loss < best_val_loss:\n",
        "        best_val_loss = val_loss\n",
        "        best_model = copy.deepcopy(model)\n",
        "\n",
        "    scheduler.step()"
      ]
    },
    {
      "cell_type": "markdown",
      "metadata": {},
      "source": [
        "Evaluate the best model on the test dataset\n",
        "-------------------------------------------\n",
        "\n",
        "\n"
      ]
    },
    {
      "cell_type": "code",
      "execution_count": null,
      "metadata": {
        "collapsed": false
      },
      "outputs": [],
      "source": [
        "test_loss = evaluate(best_model, test_data)\n",
        "test_ppl = math.exp(test_loss)\n",
        "print('=' * 89)\n",
        "print(f'| End of training | test loss {test_loss:5.2f} | '\n",
        "      f'test ppl {test_ppl:8.2f}')\n",
        "print('=' * 89)"
      ]
    }
  ],
  "metadata": {
    "kernelspec": {
      "display_name": "Python 3",
      "language": "python",
      "name": "python3"
    },
    "language_info": {
      "codemirror_mode": {
        "name": "ipython",
        "version": 3
      },
      "file_extension": ".py",
      "mimetype": "text/x-python",
      "name": "python",
      "nbconvert_exporter": "python",
      "pygments_lexer": "ipython3",
      "version": "3.8.10"
    }
  },
  "nbformat": 4,
  "nbformat_minor": 0
}
