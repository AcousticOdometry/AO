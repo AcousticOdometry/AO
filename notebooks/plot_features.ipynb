{
  "cells": [
    {
      "cell_type": "markdown",
      "metadata": {
        "id": "TRorKX0aJrmb"
      },
      "source": [
        "[![Open In Colab](https://colab.research.google.com/assets/colab-badge.svg)](https://colab.research.google.com/github/AcousticOdometry/AO/blob/main/notebooks/plot_features.ipynb)\n"
      ]
    },
    {
      "cell_type": "markdown",
      "metadata": {
        "id": "C2Q8wXiqTp00"
      },
      "source": [
        "# Setup\n"
      ]
    },
    {
      "cell_type": "markdown",
      "source": [
        "## Install AO\n"
      ],
      "metadata": {
        "id": "H-vDIeFnUup2"
      }
    },
    {
      "cell_type": "code",
      "execution_count": 1,
      "metadata": {
        "id": "Mxqlh9G3n3sF"
      },
      "outputs": [],
      "source": [
        "%%capture\n",
        "try:\n",
        "    import colab\n",
        "    COLAB_RUNTIME = True\n",
        "    GITHUB_TOKEN = None\n",
        "    # Check CMake >= 3.21\n",
        "    v_str, *_ = !cmake --version\n",
        "    if 'command not found' in v_str:\n",
        "        major, minor = (0, 0)\n",
        "    else:\n",
        "        major, minor, _ = (int(x) for x in v_str.split(' ')[-1].split('.'))\n",
        "    if major < 3 or minor < 21:\n",
        "        # https://cmake.org/download/\n",
        "        %cd /tmp\n",
        "        !wget https://github.com/Kitware/CMake/releases/download/v3.22.3/cmake-3.22.3-linux-x86_64.sh\n",
        "        !sudo mkdir /opt/cmake\n",
        "        !sudo sh ./cmake-3.22.3-linux-x86_64.sh --prefix=/opt/cmake \\\n",
        "            --skip-license\n",
        "        %cd /content\n",
        "        !update-alternatives --install /usr/local/bin/cmake cmake \\\n",
        "            /opt/cmake/bin/cmake 20 --force\n",
        "    # Check GCC >= 11\n",
        "    # v_str, *_ = !gcc --version\n",
        "    # if 'command not found' in v_str:\n",
        "    #     major = 0\n",
        "    # else:\n",
        "    #     major, *_ = (int(x) for x in v_str.split(' ')[-1].split('.'))\n",
        "    # if major < 11:\n",
        "    #     # https://askubuntu.com/a/1028656\n",
        "    #     !apt install software-properties-common\n",
        "    #     !add-apt-repository ppa:ubuntu-toolchain-r/test -y\n",
        "    #     !apt update\n",
        "    #     !apt install gcc-11 g++-11\n",
        "    #     !update-alternatives --install /usr/bin/gcc gcc /usr/bin/gcc-11 110 \\\n",
        "    #         --slave /usr/bin/g++ g++ /usr/bin/g++-11\n",
        "except ImportError:\n",
        "    COLAB_RUNTIME = False"
      ]
    },
    {
      "cell_type": "code",
      "source": [
        "!echo $LD_LIBRARY_PATH"
      ],
      "metadata": {
        "id": "pQikAZ9t79PX",
        "outputId": "723c189d-fb70-43be-cdc0-cf8cc1c94224",
        "colab": {
          "base_uri": "https://localhost:8080/"
        }
      },
      "execution_count": 2,
      "outputs": [
        {
          "output_type": "stream",
          "name": "stdout",
          "text": [
            "/usr/local/nvidia/lib:/usr/local/nvidia/lib64\n"
          ]
        }
      ]
    },
    {
      "cell_type": "code",
      "source": [
        "!ls /usr/local/nvidia"
      ],
      "metadata": {
        "id": "8L_D6CjT-kkY",
        "outputId": "7deb1196-d0e7-4e6e-9800-d5857e15dde5",
        "colab": {
          "base_uri": "https://localhost:8080/"
        }
      },
      "execution_count": 3,
      "outputs": [
        {
          "output_type": "stream",
          "name": "stdout",
          "text": [
            "ls: cannot access '/usr/local/nvidia': No such file or directory\n"
          ]
        }
      ]
    },
    {
      "cell_type": "code",
      "source": [
        "!strings /usr/lib/x86_64-linux-gnu/libstdc++.so.6 | grep GLIBCXX"
      ],
      "metadata": {
        "colab": {
          "base_uri": "https://localhost:8080/"
        },
        "id": "-Nf-fYlWhs2W",
        "outputId": "daf569ff-bb04-47bc-b8bf-f2e73c1f78fe"
      },
      "execution_count": 4,
      "outputs": [
        {
          "output_type": "stream",
          "name": "stdout",
          "text": [
            "GLIBCXX_3.4\n",
            "GLIBCXX_3.4.1\n",
            "GLIBCXX_3.4.2\n",
            "GLIBCXX_3.4.3\n",
            "GLIBCXX_3.4.4\n",
            "GLIBCXX_3.4.5\n",
            "GLIBCXX_3.4.6\n",
            "GLIBCXX_3.4.7\n",
            "GLIBCXX_3.4.8\n",
            "GLIBCXX_3.4.9\n",
            "GLIBCXX_3.4.10\n",
            "GLIBCXX_3.4.11\n",
            "GLIBCXX_3.4.12\n",
            "GLIBCXX_3.4.13\n",
            "GLIBCXX_3.4.14\n",
            "GLIBCXX_3.4.15\n",
            "GLIBCXX_3.4.16\n",
            "GLIBCXX_3.4.17\n",
            "GLIBCXX_3.4.18\n",
            "GLIBCXX_3.4.19\n",
            "GLIBCXX_3.4.20\n",
            "GLIBCXX_3.4.21\n",
            "GLIBCXX_3.4.22\n",
            "GLIBCXX_3.4.23\n",
            "GLIBCXX_3.4.24\n",
            "GLIBCXX_3.4.25\n",
            "GLIBCXX_DEBUG_MESSAGE_LENGTH\n"
          ]
        }
      ]
    },
    {
      "cell_type": "code",
      "execution_count": 5,
      "metadata": {
        "colab": {
          "base_uri": "https://localhost:8080/"
        },
        "id": "TSKb0ApnkXOd",
        "outputId": "a6ce71c4-dc8d-4179-8044-ec55e00d8747"
      },
      "outputs": [
        {
          "output_type": "stream",
          "name": "stdout",
          "text": [
            "sys.path = [\n",
            "    '/content',\n",
            "    '/env/python',\n",
            "    '/usr/lib/python37.zip',\n",
            "    '/usr/lib/python3.7',\n",
            "    '/usr/lib/python3.7/lib-dynload',\n",
            "    '/usr/local/lib/python3.7/dist-packages',\n",
            "    '/usr/lib/python3/dist-packages',\n",
            "]\n",
            "USER_BASE: '/root/.local' (exists)\n",
            "USER_SITE: '/root/.local/lib/python3.7/site-packages' (doesn't exist)\n",
            "ENABLE_USER_SITE: True\n"
          ]
        }
      ],
      "source": [
        "!python -m site"
      ]
    },
    {
      "cell_type": "code",
      "execution_count": 6,
      "metadata": {
        "colab": {
          "base_uri": "https://localhost:8080/"
        },
        "id": "XZPO4X8roB8k",
        "outputId": "c1fcf943-8933-4af5-89e6-5672e073bd74"
      },
      "outputs": [
        {
          "output_type": "stream",
          "name": "stdout",
          "text": [
            "Personal access token\n",
            "https://docs.github.com/en/authentication/keeping-your-account-and-data-secure/creating-a-personal-access-token\n",
            "··········\n",
            "Collecting git+https://****@github.com/AcousticOdometry/AO\n",
            "  Cloning https://****@github.com/AcousticOdometry/AO to /tmp/pip-req-build-qqhlag7y\n",
            "  Running command git clone -q 'https://****@github.com/AcousticOdometry/AO' /tmp/pip-req-build-qqhlag7y\n",
            "  Running command git submodule update --init --recursive -q\n",
            "  Installing build dependencies ... \u001b[?25l\u001b[?25hdone\n",
            "  Getting requirements to build wheel ... \u001b[?25l\u001b[?25hdone\n",
            "    Preparing wheel metadata ... \u001b[?25l\u001b[?25hdone\n",
            "Requirement already satisfied: requests in /usr/local/lib/python3.7/dist-packages (from ao==0.0.1) (2.23.0)\n",
            "Requirement already satisfied: numpy in /usr/local/lib/python3.7/dist-packages (from ao==0.0.1) (1.21.5)\n",
            "Requirement already satisfied: matplotlib in /usr/local/lib/python3.7/dist-packages (from ao==0.0.1) (3.2.2)\n",
            "Requirement already satisfied: cycler>=0.10 in /usr/local/lib/python3.7/dist-packages (from matplotlib->ao==0.0.1) (0.11.0)\n",
            "Requirement already satisfied: kiwisolver>=1.0.1 in /usr/local/lib/python3.7/dist-packages (from matplotlib->ao==0.0.1) (1.4.0)\n",
            "Requirement already satisfied: python-dateutil>=2.1 in /usr/local/lib/python3.7/dist-packages (from matplotlib->ao==0.0.1) (2.8.2)\n",
            "Requirement already satisfied: pyparsing!=2.0.4,!=2.1.2,!=2.1.6,>=2.0.1 in /usr/local/lib/python3.7/dist-packages (from matplotlib->ao==0.0.1) (3.0.7)\n",
            "Requirement already satisfied: typing-extensions in /usr/local/lib/python3.7/dist-packages (from kiwisolver>=1.0.1->matplotlib->ao==0.0.1) (3.10.0.2)\n",
            "Requirement already satisfied: six>=1.5 in /usr/local/lib/python3.7/dist-packages (from python-dateutil>=2.1->matplotlib->ao==0.0.1) (1.15.0)\n",
            "Requirement already satisfied: certifi>=2017.4.17 in /usr/local/lib/python3.7/dist-packages (from requests->ao==0.0.1) (2021.10.8)\n",
            "Requirement already satisfied: idna<3,>=2.5 in /usr/local/lib/python3.7/dist-packages (from requests->ao==0.0.1) (2.10)\n",
            "Requirement already satisfied: chardet<4,>=3.0.2 in /usr/local/lib/python3.7/dist-packages (from requests->ao==0.0.1) (3.0.4)\n",
            "Requirement already satisfied: urllib3!=1.25.0,!=1.25.1,<1.26,>=1.21.1 in /usr/local/lib/python3.7/dist-packages (from requests->ao==0.0.1) (1.24.3)\n",
            "Building wheels for collected packages: ao\n",
            "  Building wheel for ao (PEP 517) ... \u001b[?25l\u001b[?25hdone\n",
            "  Created wheel for ao: filename=ao-0.0.1-cp37-cp37m-linux_x86_64.whl size=122212 sha256=674638ff2d2ed878da000c5a7d82de397491f92830a048479e01ee6f3151e35a\n",
            "  Stored in directory: /tmp/pip-ephem-wheel-cache-a66z5imw/wheels/e5/7f/e4/1cb552ad4f1c133166dfb11dd40b6ba1c8afb0f9e64adb7d40\n",
            "Successfully built ao\n",
            "Installing collected packages: ao\n",
            "Successfully installed ao-0.0.1\n"
          ]
        }
      ],
      "source": [
        "if COLAB_RUNTIME:\n",
        "    from getpass import getpass\n",
        "    if not GITHUB_TOKEN:\n",
        "        GITHUB_TOKEN = getpass(\n",
        "            \"Personal access token\\n\"\n",
        "            r\"https://docs.github.com/en/authentication/keeping-your-account-\"\n",
        "            r\"and-data-secure/creating-a-personal-access-token\"+\"\\n\"\n",
        "            )\n",
        "    %pip install git+https://$GITHUB_TOKEN@github.com/AcousticOdometry/AO\n",
        "    try:\n",
        "        import ao\n",
        "    except ImportError:\n",
        "        GITHUB_TOKEN = None\n",
        "        raise\n",
        "else:\n",
        "    try:\n",
        "        import ao\n",
        "    except ImportError:\n",
        "        raise ImportError(\n",
        "            \"Acoustic Odometry python extension is not installed. Check \"\n",
        "            r\"https://github.com/AcousticOdometry/AO#readme\"\n",
        "            \" for detailed instructions.\"\n",
        "            )"
      ]
    },
    {
      "cell_type": "markdown",
      "metadata": {
        "id": "JP7gX_G3UrV_"
      },
      "source": [
        "## Other packages\n"
      ]
    },
    {
      "cell_type": "code",
      "execution_count": 11,
      "metadata": {
        "id": "hFV56apJJicf"
      },
      "outputs": [],
      "source": [
        "import ao\n",
        "import math\n",
        "import numpy as np\n",
        "\n",
        "from matplotlib import pyplot as plt"
      ]
    },
    {
      "cell_type": "markdown",
      "metadata": {
        "id": "gD0HsI5STu2k"
      },
      "source": [
        "# Validation\n"
      ]
    },
    {
      "cell_type": "code",
      "execution_count": 14,
      "metadata": {
        "id": "TKCLY1BFJich",
        "outputId": "346c35ca-82b2-4c5a-f9a7-3e4a5b709367",
        "colab": {
          "base_uri": "https://localhost:8080/",
          "height": 405
        }
      },
      "outputs": [
        {
          "output_type": "display_data",
          "data": {
            "text/plain": [
              "<Figure size 468x396 with 3 Axes>"
            ],
            "image/png": "[encoded data removed]"
          },
          "metadata": {
            "needs_background": "light"
          }
        }
      ],
      "source": [
        "audio_url = (\n",
        "    r\"https://staffwww.dcs.shef.ac.uk/people/N.Ma/resources\"\n",
        "    r\"/ratemap/t29_lwwj2n_m17_lgwe7s.wav\"\n",
        "    )\n",
        "data, sample_rate = ao.io.wave_read(audio_url)\n",
        "frame_length = 10  # [ms]\n",
        "frame_samples = int(\n",
        "    np.ceil(frame_length / 1000 * sample_rate)\n",
        "    )  # samples per frame\n",
        "fig, axs = plt.subplots(\n",
        "    3, 1, figsize=(6.5, 5.5), gridspec_kw={'height_ratios': [0.5, 1, 0.05]}\n",
        "    )\n",
        "# Signal\n",
        "ao.plot.signal(data, sample_rate, ax=axs[0])\n",
        "axs[0].set_title('Waveform')\n",
        "# Gammatonegram\n",
        "frame_length = 10  # [ms]\n",
        "frame_samples = math.ceil(frame_length / 1000 * sample_rate)\n",
        "plot, _ = ao.plot.gammatonegram(\n",
        "    data,\n",
        "    sample_rate,\n",
        "    frame_samples,\n",
        "    num_features=64,\n",
        "    low_Hz=50,\n",
        "    high_Hz=8000,\n",
        "    pcolormesh_kwargs={'cmap': 'jet'},\n",
        "    ax=axs[1]\n",
        "    )\n",
        "axs[1].set_title('Ratemap')\n",
        "fig.colorbar(plot, cax=axs[2], orientation=\"horizontal\")\n",
        "fig.tight_layout()"
      ]
    },
    {
      "cell_type": "markdown",
      "metadata": {
        "id": "g8y-J6l5Jicj"
      },
      "source": [
        "![Ratemap](https://staffwww.dcs.shef.ac.uk/people/N.Ma/resources/ratemap/ratemap.png)\n"
      ]
    },
    {
      "cell_type": "code",
      "execution_count": 9,
      "metadata": {
        "id": "VES7gQhPJicl"
      },
      "outputs": [],
      "source": [
        "# TODO Check if we are in google colab -> use drive or not -> ask for path"
      ]
    },
    {
      "cell_type": "code",
      "execution_count": 15,
      "metadata": {
        "id": "HEodRkD2Jicm",
        "outputId": "653c96cf-a4fc-4a3e-d1cf-a7d35d1fa87b",
        "colab": {
          "base_uri": "https://localhost:8080/",
          "height": 356
        }
      },
      "outputs": [
        {
          "output_type": "error",
          "ename": "ValueError",
          "evalue": "ignored",
          "traceback": [
            "\u001b[0;31m---------------------------------------------------------------------------\u001b[0m",
            "\u001b[0;31mValueError\u001b[0m                                Traceback (most recent call last)",
            "\u001b[0;32m<ipython-input-15-7029b7ada5ee>\u001b[0m in \u001b[0;36m<module>\u001b[0;34m()\u001b[0m\n\u001b[1;32m      1\u001b[0m \u001b[0;31m# 10 deg/s + 10 kg load\u001b[0m\u001b[0;34m\u001b[0m\u001b[0;34m\u001b[0m\u001b[0;34m\u001b[0m\u001b[0m\n\u001b[1;32m      2\u001b[0m data, sample_rate = ao.io.wave_read(\n\u001b[0;32m----> 3\u001b[0;31m     \u001b[0;34mr\"C:\\Users\\esdan\\OneDrive - keio.jp\\Thesis\\Primitive Experiment\"\u001b[0m\u001b[0;34m\u001b[0m\u001b[0;34m\u001b[0m\u001b[0m\n\u001b[0m\u001b[1;32m      4\u001b[0m     \u001b[0;34mr\"\\VAO_2022-03-08_17-24-33\\audio0.wav\"\u001b[0m\u001b[0;34m\u001b[0m\u001b[0;34m\u001b[0m\u001b[0m\n\u001b[1;32m      5\u001b[0m     )\n",
            "\u001b[0;32m/usr/local/lib/python3.7/dist-packages/ao/io/wave_read.py\u001b[0m in \u001b[0;36mwave_read\u001b[0;34m(path)\u001b[0m\n\u001b[1;32m     56\u001b[0m         \u001b[0;32mreturn\u001b[0m \u001b[0m_wave_read\u001b[0m\u001b[0;34m(\u001b[0m\u001b[0mstr_path\u001b[0m\u001b[0;34m)\u001b[0m\u001b[0;34m\u001b[0m\u001b[0;34m\u001b[0m\u001b[0m\n\u001b[1;32m     57\u001b[0m     raise ValueError(\n\u001b[0;32m---> 58\u001b[0;31m         \u001b[0;34mf'{str_path} is neither a URL nor a file found in the system'\u001b[0m\u001b[0;34m\u001b[0m\u001b[0;34m\u001b[0m\u001b[0m\n\u001b[0m\u001b[1;32m     59\u001b[0m         )\n",
            "\u001b[0;31mValueError\u001b[0m: C:\\Users\\esdan\\OneDrive - keio.jp\\Thesis\\Primitive Experiment\\VAO_2022-03-08_17-24-33\\audio0.wav is neither a URL nor a file found in the system"
          ]
        }
      ],
      "source": [
        "# 10 deg/s + 10 kg load\n",
        "data, sample_rate = ao.io.wave_read(\n",
        "    r\"C:\\Users\\esdan\\OneDrive - keio.jp\\Thesis\\Primitive Experiment\"\n",
        "    r\"\\VAO_2022-03-08_17-24-33\\audio0.wav\"\n",
        "    )\n",
        "frame_length = 10  # [ms]\n",
        "frame_samples = int(\n",
        "    np.ceil(frame_length / 1000 * sample_rate)\n",
        "    )  # samples per frame\n",
        "plot, ax = ao.plot.gammatonegram(\n",
        "    data, sample_rate, frame_samples, num_features=64, low_Hz=50, high_Hz=8000\n",
        "    )"
      ]
    },
    {
      "cell_type": "code",
      "execution_count": null,
      "metadata": {
        "id": "vnOSjEetJicn"
      },
      "outputs": [],
      "source": [
        "# 20 deg/s + 10 kg load\n",
        "data, sample_rate = ao.io.wave_read(\n",
        "    r\"C:\\Users\\esdan\\OneDrive - keio.jp\\Thesis\\Primitive Experiment\"\n",
        "    r\"\\VAO_2022-03-08_17-21-32\\audio0.wav\"\n",
        "    )\n",
        "frame_length = 10  # [ms]\n",
        "frame_samples = int(\n",
        "    np.ceil(frame_length / 1000 * sample_rate)\n",
        "    )  # samples per frame\n",
        "plot, ax = ao.plot.gammatonegram(\n",
        "    data, sample_rate, frame_samples, num_features=64, low_Hz=50, high_Hz=8000\n",
        "    )"
      ]
    }
  ],
  "metadata": {
    "colab": {
      "name": "plot_features.ipynb",
      "provenance": []
    },
    "interpreter": {
      "hash": "d21f40ac55f28466c21dd799498b12929e39799c097f46cd49280349550824b8"
    },
    "kernelspec": {
      "display_name": "Python 3.8.10 ('venv': venv)",
      "language": "python",
      "name": "python3"
    },
    "language_info": {
      "codemirror_mode": {
        "name": "ipython",
        "version": 3
      },
      "file_extension": ".py",
      "mimetype": "text/x-python",
      "name": "python",
      "nbconvert_exporter": "python",
      "pygments_lexer": "ipython3",
      "version": "3.8.10"
    },
    "orig_nbformat": 4
  },
  "nbformat": 4,
  "nbformat_minor": 0
}