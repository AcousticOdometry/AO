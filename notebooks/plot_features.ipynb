{
 "cells": [
  {
   "cell_type": "code",
   "execution_count": 1,
   "metadata": {},
   "outputs": [],
   "source": [
    "%%capture\n",
    "%pip install ipykernel\n",
    "import ao\n",
    "import math\n",
    "import numpy as np"
   ]
  },
  {
   "cell_type": "code",
   "execution_count": 1,
   "metadata": {},
   "outputs": [
    {
     "ename": "NameError",
     "evalue": "name 'ao' is not defined",
     "output_type": "error",
     "traceback": [
      "\u001b[1;31m---------------------------------------------------------------------------\u001b[0m",
      "\u001b[1;31mNameError\u001b[0m                                 Traceback (most recent call last)",
      "\u001b[1;32mc:\\Users\\esdan\\Desktop\\AO\\notebooks\\plot_features.ipynb Cell 2'\u001b[0m in \u001b[0;36m<cell line: 5>\u001b[1;34m()\u001b[0m\n\u001b[0;32m      <a href='vscode-notebook-cell:/c%3A/Users/esdan/Desktop/AO/notebooks/plot_features.ipynb#ch0000001?line=0'>1</a>\u001b[0m audio_url \u001b[39m=\u001b[39m (\n\u001b[0;32m      <a href='vscode-notebook-cell:/c%3A/Users/esdan/Desktop/AO/notebooks/plot_features.ipynb#ch0000001?line=1'>2</a>\u001b[0m     \u001b[39mr\u001b[39m\u001b[39m\"\u001b[39m\u001b[39mhttps://staffwww.dcs.shef.ac.uk/people/N.Ma/resources\u001b[39m\u001b[39m\"\u001b[39m\n\u001b[0;32m      <a href='vscode-notebook-cell:/c%3A/Users/esdan/Desktop/AO/notebooks/plot_features.ipynb#ch0000001?line=2'>3</a>\u001b[0m     \u001b[39mr\u001b[39m\u001b[39m\"\u001b[39m\u001b[39m/ratemap/t29_lwwj2n_m17_lgwe7s.wav\u001b[39m\u001b[39m\"\u001b[39m\n\u001b[0;32m      <a href='vscode-notebook-cell:/c%3A/Users/esdan/Desktop/AO/notebooks/plot_features.ipynb#ch0000001?line=3'>4</a>\u001b[0m     )\n\u001b[1;32m----> <a href='vscode-notebook-cell:/c%3A/Users/esdan/Desktop/AO/notebooks/plot_features.ipynb#ch0000001?line=4'>5</a>\u001b[0m data, sample_rate \u001b[39m=\u001b[39m ao\u001b[39m.\u001b[39mio\u001b[39m.\u001b[39mwave_read(audio_url)\n\u001b[0;32m      <a href='vscode-notebook-cell:/c%3A/Users/esdan/Desktop/AO/notebooks/plot_features.ipynb#ch0000001?line=5'>6</a>\u001b[0m frame_length \u001b[39m=\u001b[39m \u001b[39m10\u001b[39m  \u001b[39m# [ms]\u001b[39;00m\n\u001b[0;32m      <a href='vscode-notebook-cell:/c%3A/Users/esdan/Desktop/AO/notebooks/plot_features.ipynb#ch0000001?line=6'>7</a>\u001b[0m frame_samples \u001b[39m=\u001b[39m \u001b[39mint\u001b[39m(\n\u001b[0;32m      <a href='vscode-notebook-cell:/c%3A/Users/esdan/Desktop/AO/notebooks/plot_features.ipynb#ch0000001?line=7'>8</a>\u001b[0m     np\u001b[39m.\u001b[39mceil(frame_length \u001b[39m/\u001b[39m \u001b[39m1000\u001b[39m \u001b[39m*\u001b[39m sample_rate)\n\u001b[0;32m      <a href='vscode-notebook-cell:/c%3A/Users/esdan/Desktop/AO/notebooks/plot_features.ipynb#ch0000001?line=8'>9</a>\u001b[0m     )  \u001b[39m# samples per frame\u001b[39;00m\n",
      "\u001b[1;31mNameError\u001b[0m: name 'ao' is not defined"
     ]
    }
   ],
   "source": [
    "audio_url = (\n",
    "    r\"https://staffwww.dcs.shef.ac.uk/people/N.Ma/resources\"\n",
    "    r\"/ratemap/t29_lwwj2n_m17_lgwe7s.wav\"\n",
    "    )\n",
    "data, sample_rate = ao.io.wave_read(audio_url)\n",
    "frame_length = 10  # [ms]\n",
    "frame_samples = int(\n",
    "    np.ceil(frame_length / 1000 * sample_rate)\n",
    "    )  # samples per frame\n",
    "plot, ax = ao.plot.gammatonegram(\n",
    "    data, sample_rate, frame_samples, num_features=64, low_Hz=50, high_Hz=8000\n",
    "    )"
   ]
  },
  {
   "cell_type": "markdown",
   "metadata": {},
   "source": [
    "![Ratemap](https://staffwww.dcs.shef.ac.uk/people/N.Ma/resources/ratemap/ratemap.png)"
   ]
  },
  {
   "cell_type": "code",
   "execution_count": null,
   "metadata": {},
   "outputs": [
    {
     "data": {
      "text/plain": [
       "(54751, 1)"
      ]
     },
     "execution_count": 3,
     "metadata": {},
     "output_type": "execute_result"
    }
   ],
   "source": [
    "data.shape"
   ]
  }
 ],
 "metadata": {
  "interpreter": {
   "hash": "d21f40ac55f28466c21dd799498b12929e39799c097f46cd49280349550824b8"
  },
  "kernelspec": {
   "display_name": "Python 3.8.10 ('venv': venv)",
   "language": "python",
   "name": "python3"
  },
  "language_info": {
   "codemirror_mode": {
    "name": "ipython",
    "version": 3
   },
   "file_extension": ".py",
   "mimetype": "text/x-python",
   "name": "python",
   "nbconvert_exporter": "python",
   "pygments_lexer": "ipython3",
   "version": "3.8.10"
  },
  "orig_nbformat": 4
 },
 "nbformat": 4,
 "nbformat_minor": 2
}
