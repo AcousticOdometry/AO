{
 "cells": [
  {
   "cell_type": "markdown",
   "metadata": {
    "id": "TRorKX0aJrmb"
   },
   "source": [
    "This notebook is part of Andreu's (esdandreu@gmail.com) Master Thesis work at\n",
    "Keio University.\n",
    "\n",
    "[![Open In Colab](https://colab.research.google.com/assets/colab-badge.svg)](https://colab.research.google.com/github/AcousticOdometry/AO/blob/main/notebooks/plot_features.ipynb)\n"
   ]
  },
  {
   "cell_type": "markdown",
   "metadata": {
    "id": "C2Q8wXiqTp00"
   },
   "source": [
    "# Setup\n",
    "This section will take care of installing the necessary packages as well as\n",
    "configuring some environment variables."
   ]
  },
  {
   "cell_type": "code",
   "execution_count": 1,
   "metadata": {},
   "outputs": [],
   "source": [
    "COLAB_RUNTIME = False\n",
    "GITHUB_TOKEN = None"
   ]
  },
  {
   "cell_type": "markdown",
   "metadata": {},
   "source": [
    "## Colab\n",
    "Assess wether the notebook is being executed in [Google\n",
    "Colab](https://colab.research.google.com/) and if so, set up the software\n",
    "needed in Colab runtime."
   ]
  },
  {
   "cell_type": "code",
   "execution_count": 2,
   "metadata": {
    "id": "Mxqlh9G3n3sF"
   },
   "outputs": [],
   "source": [
    "%%capture\n",
    "try:\n",
    "    import colab\n",
    "    COLAB_RUNTIME = True\n",
    "    # Check CMake >= 3.21\n",
    "    v_str, *_ = !cmake --version\n",
    "    if 'command not found' in v_str:\n",
    "        major, minor = (0, 0)\n",
    "    else:\n",
    "        major, minor, _ = (int(x) for x in v_str.split(' ')[-1].split('.'))\n",
    "    if major < 3 or minor < 21:\n",
    "        # https://cmake.org/download/\n",
    "        %cd /tmp\n",
    "        !wget https://github.com/Kitware/CMake/releases/download/v3.22.3/cmake-3.22.3-linux-x86_64.sh\n",
    "        !sudo mkdir /opt/cmake\n",
    "        !sudo sh ./cmake-3.22.3-linux-x86_64.sh --prefix=/opt/cmake \\\n",
    "            --skip-license\n",
    "        %cd /content\n",
    "        !update-alternatives --install /usr/local/bin/cmake cmake \\\n",
    "            /opt/cmake/bin/cmake 20 --force\n",
    "except ImportError:\n",
    "    pass"
   ]
  },
  {
   "cell_type": "markdown",
   "metadata": {
    "id": "H-vDIeFnUup2"
   },
   "source": [
    "## AO\n",
    "Setup Acoustic Odometry python package. If this notebook is being executed in\n",
    "[Colab](#colab), the package will be installed from Github. Because of this, a\n",
    "Github [personal access\n",
    "token](https://docs.github.com/en/authentication/keeping-your-account-and-data-secure/creating-a-personal-access-token)\n",
    "will be asked during the installation.\n",
    "\n",
    "If the notebook is not running on Colab and the package is not already\n",
    "installed, installation instructions will be prompted."
   ]
  },
  {
   "cell_type": "code",
   "execution_count": 3,
   "metadata": {
    "colab": {
     "base_uri": "https://localhost:8080/"
    },
    "id": "XZPO4X8roB8k",
    "outputId": "c1fcf943-8933-4af5-89e6-5672e073bd74"
   },
   "outputs": [],
   "source": [
    "if COLAB_RUNTIME:\n",
    "    from getpass import getpass\n",
    "    if not GITHUB_TOKEN:\n",
    "        GITHUB_TOKEN = getpass(\n",
    "            \"Personal access token\\n\"\n",
    "            r\"https://docs.github.com/en/authentication/keeping-your-account-\"\n",
    "            r\"and-data-secure/creating-a-personal-access-token\"+\"\\n\"\n",
    "            )\n",
    "    %pip install git+https://$GITHUB_TOKEN@github.com/AcousticOdometry/AO\n",
    "    try:\n",
    "        import ao\n",
    "    except ImportError:\n",
    "        GITHUB_TOKEN = None\n",
    "        raise\n",
    "else:\n",
    "    try:\n",
    "        import ao\n",
    "    except ImportError:\n",
    "        raise ImportError(\n",
    "            \"Acoustic Odometry python extension is not installed. Check \"\n",
    "            r\"https://github.com/AcousticOdometry/AO#readme\"\n",
    "            \" for detailed instructions.\"\n",
    "            )"
   ]
  },
  {
   "cell_type": "markdown",
   "metadata": {
    "id": "JP7gX_G3UrV_"
   },
   "source": [
    "## Other packages\n"
   ]
  },
  {
   "cell_type": "code",
   "execution_count": 4,
   "metadata": {
    "id": "hFV56apJJicf"
   },
   "outputs": [
    {
     "name": "stderr",
     "output_type": "stream",
     "text": [
      "c:\\Users\\esdan\\Desktop\\AO\\venv\\lib\\site-packages\\tqdm\\auto.py:22: TqdmWarning: IProgress not found. Please update jupyter and ipywidgets. See https://ipywidgets.readthedocs.io/en/stable/user_install.html\n",
      "  from .autonotebook import tqdm as notebook_tqdm\n"
     ]
    }
   ],
   "source": [
    "import ao\n",
    "import numpy as np\n",
    "import tensorflow as tf\n",
    "import tensorflow_datasets as tfds\n",
    "\n",
    "from tensorflow import keras\n",
    "from tensorflow.keras import layers\n",
    "from matplotlib import pyplot as plt\n",
    "\n",
    "# tf.config.run_functions_eagerly(True)\n",
    "# tf.data.experimental.enable_debug_mode()"
   ]
  },
  {
   "cell_type": "markdown",
   "metadata": {},
   "source": [
    "# Training"
   ]
  },
  {
   "cell_type": "markdown",
   "metadata": {},
   "source": [
    "## Model definition"
   ]
  },
  {
   "cell_type": "code",
   "execution_count": 5,
   "metadata": {},
   "outputs": [],
   "source": [
    "class TransformerEncoder(layers.Layer):\n",
    "\n",
    "    def __init__(self, embed_dim, num_heads, feed_forward_dim, dropout=0.1):\n",
    "        super().__init__()\n",
    "        self.att = layers.MultiHeadAttention(\n",
    "            num_heads=num_heads, key_dim=embed_dim\n",
    "            )\n",
    "        self.ffn = keras.Sequential([\n",
    "            layers.Dense(feed_forward_dim, activation=\"relu\"),\n",
    "            layers.Dense(embed_dim),\n",
    "            ])\n",
    "        self.layernorm1 = layers.LayerNormalization(epsilon=1e-6)\n",
    "        self.layernorm2 = layers.LayerNormalization(epsilon=1e-6)\n",
    "        self.dropout1 = layers.Dropout(dropout)\n",
    "        self.dropout2 = layers.Dropout(dropout)\n",
    "\n",
    "    def call(self, inputs, training):\n",
    "        attn_output = self.att(inputs, inputs)\n",
    "        attn_output = self.dropout1(attn_output, training=training)\n",
    "        out1 = self.layernorm1(inputs + attn_output)\n",
    "        ffn_output = self.ffn(out1)\n",
    "        ffn_output = self.dropout2(ffn_output, training=training)\n",
    "        return self.layernorm2(out1 + ffn_output)"
   ]
  },
  {
   "cell_type": "code",
   "execution_count": 6,
   "metadata": {},
   "outputs": [],
   "source": [
    "class Transformer(keras.Model):\n",
    "    pass"
   ]
  },
  {
   "cell_type": "markdown",
   "metadata": {},
   "source": [
    "## Load data\n",
    "\n",
    "Data folder should be provided as an environment variable. It can be written in\n",
    "an `.env` file in the root of the project."
   ]
  },
  {
   "cell_type": "code",
   "execution_count": 7,
   "metadata": {},
   "outputs": [],
   "source": [
    "if COLAB_RUNTIME:\n",
    "    # TODO Mount drive and find VAO_Primitive-Experiment\n",
    "    # TODO Otherwise prompt to add shortcut to drive from link\n",
    "    # https://drive.google.com/drive/folders/1I6dq8gJpsrD3C14-WQKD4IFOnkiVuvFX\n",
    "    raise NotImplementedError()\n",
    "else:\n",
    "    DATA_FOLDER = ao.dataset.utils.get_data_folder(env='PRIMITIVE_EXPERIMENT')"
   ]
  },
  {
   "cell_type": "code",
   "execution_count": 8,
   "metadata": {},
   "outputs": [
    {
     "name": "stdout",
     "output_type": "stream",
     "text": [
      "(WindowsPath('C:/Users/esdan/OneDrive - keio.jp/Thesis/Primitive Experiment/w_10;load_0;contact_no'), {'w': 10, 'load': 0, 'contact': False})\n"
     ]
    },
    {
     "name": "stderr",
     "output_type": "stream",
     "text": [
      "c:\\Users\\esdan\\Desktop\\AO\\venv\\lib\\site-packages\\ao\\dataset\\utils.py:124: UserWarning: Could not parse VAO_2022-03-08_17-11-21 from C:\\Users\\esdan\\OneDrive - keio.jp\\Thesis\\Primitive Experiment\\VAO_2022-03-08_17-11-21, item VAO_2022-03-08_17-11-21 should be composed by one `key` and one `value` separated by a unique underscore but 2 `_` were found.\n",
      "  warn(str(e))\n",
      "c:\\Users\\esdan\\Desktop\\AO\\venv\\lib\\site-packages\\ao\\dataset\\utils.py:124: UserWarning: Could not parse VAO_2022-03-08_17-12-37 from C:\\Users\\esdan\\OneDrive - keio.jp\\Thesis\\Primitive Experiment\\VAO_2022-03-08_17-12-37, item VAO_2022-03-08_17-12-37 should be composed by one `key` and one `value` separated by a unique underscore but 2 `_` were found.\n",
      "  warn(str(e))\n"
     ]
    }
   ],
   "source": [
    "data, naming = ao.dataset.utils.list_data(DATA_FOLDER)\n",
    "print(next(iter(data.items())))\n",
    "# TODO create a tensor with parameters\n",
    "# TODO map parameters tensor into motion tensor"
   ]
  },
  {
   "cell_type": "code",
   "execution_count": 9,
   "metadata": {},
   "outputs": [
    {
     "name": "stdout",
     "output_type": "stream",
     "text": [
      "b'C:\\\\Users\\\\esdan\\\\OneDrive - keio.jp\\\\Thesis\\\\Primitive Experiment\\\\w_10;load_0;contact_no\\\\audio0crop.wav'\n",
      "b'C:\\\\Users\\\\esdan\\\\OneDrive - keio.jp\\\\Thesis\\\\Primitive Experiment\\\\w_10;load_0;contact_yes\\\\audio0crop.wav'\n"
     ]
    }
   ],
   "source": [
    "# Create a tensor with file names\n",
    "files = tf.data.Dataset.from_tensor_slices([\n",
    "    str(p / 'audio0crop.wav') for p in data.keys()\n",
    "    ])\n",
    "\n",
    "for f in tfds.as_numpy(files.take(2)):\n",
    "    print(f)"
   ]
  },
  {
   "cell_type": "code",
   "execution_count": 10,
   "metadata": {},
   "outputs": [
    {
     "ename": "AttributeError",
     "evalue": "'Tensor' object has no attribute 'numpy'",
     "output_type": "error",
     "traceback": [
      "\u001b[1;31m---------------------------------------------------------------------------\u001b[0m",
      "\u001b[1;31mAttributeError\u001b[0m                            Traceback (most recent call last)",
      "\u001b[1;32mc:\\Users\\esdan\\Desktop\\AO\\notebooks\\train_model.ipynb Cell 18'\u001b[0m in \u001b[0;36m<cell line: 37>\u001b[1;34m()\u001b[0m\n\u001b[0;32m     <a href='vscode-notebook-cell:/c%3A/Users/esdan/Desktop/AO/notebooks/train_model.ipynb#ch0000020?line=26'>27</a>\u001b[0m     \u001b[39m# print(audio_frames)\u001b[39;00m\n\u001b[0;32m     <a href='vscode-notebook-cell:/c%3A/Users/esdan/Desktop/AO/notebooks/train_model.ipynb#ch0000020?line=27'>28</a>\u001b[0m     \u001b[39m# audio_frames = tf.RaggedTensor.from_tensor(audio_frames)\u001b[39;00m\n\u001b[0;32m     <a href='vscode-notebook-cell:/c%3A/Users/esdan/Desktop/AO/notebooks/train_model.ipynb#ch0000020?line=28'>29</a>\u001b[0m     \u001b[39m# print(audio_frames)\u001b[39;00m\n\u001b[1;32m   (...)\u001b[0m\n\u001b[0;32m     <a href='vscode-notebook-cell:/c%3A/Users/esdan/Desktop/AO/notebooks/train_model.ipynb#ch0000020?line=31'>32</a>\u001b[0m     \u001b[39m#     audio_features = audio_features.write(i, extract(frame))\u001b[39;00m\n\u001b[0;32m     <a href='vscode-notebook-cell:/c%3A/Users/esdan/Desktop/AO/notebooks/train_model.ipynb#ch0000020?line=32'>33</a>\u001b[0m     \u001b[39m# return audio_features.stack()\u001b[39;00m\n\u001b[0;32m     <a href='vscode-notebook-cell:/c%3A/Users/esdan/Desktop/AO/notebooks/train_model.ipynb#ch0000020?line=33'>34</a>\u001b[0m     \u001b[39mreturn\u001b[39;00m audio_\n\u001b[1;32m---> <a href='vscode-notebook-cell:/c%3A/Users/esdan/Desktop/AO/notebooks/train_model.ipynb#ch0000020?line=36'>37</a>\u001b[0m audio_ds \u001b[39m=\u001b[39m files\u001b[39m.\u001b[39;49mmap(audio_features)\n\u001b[0;32m     <a href='vscode-notebook-cell:/c%3A/Users/esdan/Desktop/AO/notebooks/train_model.ipynb#ch0000020?line=38'>39</a>\u001b[0m \u001b[39mfor\u001b[39;00m a \u001b[39min\u001b[39;00m tfds\u001b[39m.\u001b[39mas_numpy(audio_ds\u001b[39m.\u001b[39mtake(\u001b[39m1\u001b[39m)):\n\u001b[0;32m     <a href='vscode-notebook-cell:/c%3A/Users/esdan/Desktop/AO/notebooks/train_model.ipynb#ch0000020?line=39'>40</a>\u001b[0m     \u001b[39mprint\u001b[39m(a)\n",
      "File \u001b[1;32mc:\\Users\\esdan\\Desktop\\AO\\venv\\lib\\site-packages\\tensorflow\\python\\data\\ops\\dataset_ops.py:2016\u001b[0m, in \u001b[0;36mDatasetV2.map\u001b[1;34m(self, map_func, num_parallel_calls, deterministic, name)\u001b[0m\n\u001b[0;32m   <a href='file:///c%3A/Users/esdan/Desktop/AO/venv/lib/site-packages/tensorflow/python/data/ops/dataset_ops.py?line=2012'>2013</a>\u001b[0m   \u001b[39mif\u001b[39;00m deterministic \u001b[39mis\u001b[39;00m \u001b[39mnot\u001b[39;00m \u001b[39mNone\u001b[39;00m \u001b[39mand\u001b[39;00m \u001b[39mnot\u001b[39;00m DEBUG_MODE:\n\u001b[0;32m   <a href='file:///c%3A/Users/esdan/Desktop/AO/venv/lib/site-packages/tensorflow/python/data/ops/dataset_ops.py?line=2013'>2014</a>\u001b[0m     warnings\u001b[39m.\u001b[39mwarn(\u001b[39m\"\u001b[39m\u001b[39mThe `deterministic` argument has no effect unless the \u001b[39m\u001b[39m\"\u001b[39m\n\u001b[0;32m   <a href='file:///c%3A/Users/esdan/Desktop/AO/venv/lib/site-packages/tensorflow/python/data/ops/dataset_ops.py?line=2014'>2015</a>\u001b[0m                   \u001b[39m\"\u001b[39m\u001b[39m`num_parallel_calls` argument is specified.\u001b[39m\u001b[39m\"\u001b[39m)\n\u001b[1;32m-> <a href='file:///c%3A/Users/esdan/Desktop/AO/venv/lib/site-packages/tensorflow/python/data/ops/dataset_ops.py?line=2015'>2016</a>\u001b[0m   \u001b[39mreturn\u001b[39;00m MapDataset(\u001b[39mself\u001b[39;49m, map_func, preserve_cardinality\u001b[39m=\u001b[39;49m\u001b[39mTrue\u001b[39;49;00m, name\u001b[39m=\u001b[39;49mname)\n\u001b[0;32m   <a href='file:///c%3A/Users/esdan/Desktop/AO/venv/lib/site-packages/tensorflow/python/data/ops/dataset_ops.py?line=2016'>2017</a>\u001b[0m \u001b[39melse\u001b[39;00m:\n\u001b[0;32m   <a href='file:///c%3A/Users/esdan/Desktop/AO/venv/lib/site-packages/tensorflow/python/data/ops/dataset_ops.py?line=2017'>2018</a>\u001b[0m   \u001b[39mreturn\u001b[39;00m ParallelMapDataset(\n\u001b[0;32m   <a href='file:///c%3A/Users/esdan/Desktop/AO/venv/lib/site-packages/tensorflow/python/data/ops/dataset_ops.py?line=2018'>2019</a>\u001b[0m       \u001b[39mself\u001b[39m,\n\u001b[0;32m   <a href='file:///c%3A/Users/esdan/Desktop/AO/venv/lib/site-packages/tensorflow/python/data/ops/dataset_ops.py?line=2019'>2020</a>\u001b[0m       map_func,\n\u001b[1;32m   (...)\u001b[0m\n\u001b[0;32m   <a href='file:///c%3A/Users/esdan/Desktop/AO/venv/lib/site-packages/tensorflow/python/data/ops/dataset_ops.py?line=2022'>2023</a>\u001b[0m       preserve_cardinality\u001b[39m=\u001b[39m\u001b[39mTrue\u001b[39;00m,\n\u001b[0;32m   <a href='file:///c%3A/Users/esdan/Desktop/AO/venv/lib/site-packages/tensorflow/python/data/ops/dataset_ops.py?line=2023'>2024</a>\u001b[0m       name\u001b[39m=\u001b[39mname)\n",
      "File \u001b[1;32mc:\\Users\\esdan\\Desktop\\AO\\venv\\lib\\site-packages\\tensorflow\\python\\data\\ops\\dataset_ops.py:5191\u001b[0m, in \u001b[0;36mMapDataset.__init__\u001b[1;34m(self, input_dataset, map_func, use_inter_op_parallelism, preserve_cardinality, use_legacy_function, name)\u001b[0m\n\u001b[0;32m   <a href='file:///c%3A/Users/esdan/Desktop/AO/venv/lib/site-packages/tensorflow/python/data/ops/dataset_ops.py?line=5188'>5189</a>\u001b[0m \u001b[39mself\u001b[39m\u001b[39m.\u001b[39m_use_inter_op_parallelism \u001b[39m=\u001b[39m use_inter_op_parallelism\n\u001b[0;32m   <a href='file:///c%3A/Users/esdan/Desktop/AO/venv/lib/site-packages/tensorflow/python/data/ops/dataset_ops.py?line=5189'>5190</a>\u001b[0m \u001b[39mself\u001b[39m\u001b[39m.\u001b[39m_preserve_cardinality \u001b[39m=\u001b[39m preserve_cardinality\n\u001b[1;32m-> <a href='file:///c%3A/Users/esdan/Desktop/AO/venv/lib/site-packages/tensorflow/python/data/ops/dataset_ops.py?line=5190'>5191</a>\u001b[0m \u001b[39mself\u001b[39m\u001b[39m.\u001b[39m_map_func \u001b[39m=\u001b[39m structured_function\u001b[39m.\u001b[39;49mStructuredFunctionWrapper(\n\u001b[0;32m   <a href='file:///c%3A/Users/esdan/Desktop/AO/venv/lib/site-packages/tensorflow/python/data/ops/dataset_ops.py?line=5191'>5192</a>\u001b[0m     map_func,\n\u001b[0;32m   <a href='file:///c%3A/Users/esdan/Desktop/AO/venv/lib/site-packages/tensorflow/python/data/ops/dataset_ops.py?line=5192'>5193</a>\u001b[0m     \u001b[39mself\u001b[39;49m\u001b[39m.\u001b[39;49m_transformation_name(),\n\u001b[0;32m   <a href='file:///c%3A/Users/esdan/Desktop/AO/venv/lib/site-packages/tensorflow/python/data/ops/dataset_ops.py?line=5193'>5194</a>\u001b[0m     dataset\u001b[39m=\u001b[39;49minput_dataset,\n\u001b[0;32m   <a href='file:///c%3A/Users/esdan/Desktop/AO/venv/lib/site-packages/tensorflow/python/data/ops/dataset_ops.py?line=5194'>5195</a>\u001b[0m     use_legacy_function\u001b[39m=\u001b[39;49muse_legacy_function)\n\u001b[0;32m   <a href='file:///c%3A/Users/esdan/Desktop/AO/venv/lib/site-packages/tensorflow/python/data/ops/dataset_ops.py?line=5195'>5196</a>\u001b[0m \u001b[39mself\u001b[39m\u001b[39m.\u001b[39m_metadata \u001b[39m=\u001b[39m dataset_metadata_pb2\u001b[39m.\u001b[39mMetadata()\n\u001b[0;32m   <a href='file:///c%3A/Users/esdan/Desktop/AO/venv/lib/site-packages/tensorflow/python/data/ops/dataset_ops.py?line=5196'>5197</a>\u001b[0m \u001b[39mif\u001b[39;00m name:\n",
      "File \u001b[1;32mc:\\Users\\esdan\\Desktop\\AO\\venv\\lib\\site-packages\\tensorflow\\python\\data\\ops\\structured_function.py:261\u001b[0m, in \u001b[0;36mStructuredFunctionWrapper.__init__\u001b[1;34m(self, func, transformation_name, dataset, input_classes, input_shapes, input_types, input_structure, add_to_graph, use_legacy_function, defun_kwargs)\u001b[0m\n\u001b[0;32m    <a href='file:///c%3A/Users/esdan/Desktop/AO/venv/lib/site-packages/tensorflow/python/data/ops/structured_function.py?line=258'>259</a>\u001b[0m defun_kwargs\u001b[39m.\u001b[39mupdate({\u001b[39m\"\u001b[39m\u001b[39m_tf_data_function\u001b[39m\u001b[39m\"\u001b[39m: \u001b[39mTrue\u001b[39;00m})\n\u001b[0;32m    <a href='file:///c%3A/Users/esdan/Desktop/AO/venv/lib/site-packages/tensorflow/python/data/ops/structured_function.py?line=259'>260</a>\u001b[0m \u001b[39mif\u001b[39;00m dataset_ops\u001b[39m.\u001b[39mDEBUG_MODE:\n\u001b[1;32m--> <a href='file:///c%3A/Users/esdan/Desktop/AO/venv/lib/site-packages/tensorflow/python/data/ops/structured_function.py?line=260'>261</a>\u001b[0m   fn_factory \u001b[39m=\u001b[39m trace_py_function(defun_kwargs)\n\u001b[0;32m    <a href='file:///c%3A/Users/esdan/Desktop/AO/venv/lib/site-packages/tensorflow/python/data/ops/structured_function.py?line=261'>262</a>\u001b[0m \u001b[39melse\u001b[39;00m:\n\u001b[0;32m    <a href='file:///c%3A/Users/esdan/Desktop/AO/venv/lib/site-packages/tensorflow/python/data/ops/structured_function.py?line=262'>263</a>\u001b[0m   \u001b[39mif\u001b[39;00m def_function\u001b[39m.\u001b[39mfunctions_run_eagerly():\n",
      "File \u001b[1;32mc:\\Users\\esdan\\Desktop\\AO\\venv\\lib\\site-packages\\tensorflow\\python\\data\\ops\\structured_function.py:213\u001b[0m, in \u001b[0;36mStructuredFunctionWrapper.__init__.<locals>.trace_py_function\u001b[1;34m(defun_kwargs)\u001b[0m\n\u001b[0;32m    <a href='file:///c%3A/Users/esdan/Desktop/AO/venv/lib/site-packages/tensorflow/python/data/ops/structured_function.py?line=209'>210</a>\u001b[0m   ret \u001b[39m=\u001b[39m structure\u001b[39m.\u001b[39mto_tensor_list(\u001b[39mself\u001b[39m\u001b[39m.\u001b[39m_output_structure, ret)\n\u001b[0;32m    <a href='file:///c%3A/Users/esdan/Desktop/AO/venv/lib/site-packages/tensorflow/python/data/ops/structured_function.py?line=210'>211</a>\u001b[0m   \u001b[39mreturn\u001b[39;00m [ops\u001b[39m.\u001b[39mconvert_to_tensor(t) \u001b[39mfor\u001b[39;00m t \u001b[39min\u001b[39;00m ret]\n\u001b[1;32m--> <a href='file:///c%3A/Users/esdan/Desktop/AO/venv/lib/site-packages/tensorflow/python/data/ops/structured_function.py?line=212'>213</a>\u001b[0m _ \u001b[39m=\u001b[39m unused\u001b[39m.\u001b[39;49mget_concrete_function()\n\u001b[0;32m    <a href='file:///c%3A/Users/esdan/Desktop/AO/venv/lib/site-packages/tensorflow/python/data/ops/structured_function.py?line=214'>215</a>\u001b[0m \u001b[39mdef\u001b[39;00m \u001b[39mpy_function_wrapper\u001b[39m(\u001b[39m*\u001b[39margs):\n\u001b[0;32m    <a href='file:///c%3A/Users/esdan/Desktop/AO/venv/lib/site-packages/tensorflow/python/data/ops/structured_function.py?line=215'>216</a>\u001b[0m   nested_args \u001b[39m=\u001b[39m structure\u001b[39m.\u001b[39mfrom_compatible_tensor_list(\n\u001b[0;32m    <a href='file:///c%3A/Users/esdan/Desktop/AO/venv/lib/site-packages/tensorflow/python/data/ops/structured_function.py?line=216'>217</a>\u001b[0m       \u001b[39mself\u001b[39m\u001b[39m.\u001b[39m_input_structure, args)\n",
      "File \u001b[1;32mc:\\Users\\esdan\\Desktop\\AO\\venv\\lib\\site-packages\\tensorflow\\python\\eager\\function.py:3070\u001b[0m, in \u001b[0;36mFunction.get_concrete_function\u001b[1;34m(self, *args, **kwargs)\u001b[0m\n\u001b[0;32m   <a href='file:///c%3A/Users/esdan/Desktop/AO/venv/lib/site-packages/tensorflow/python/eager/function.py?line=3060'>3061</a>\u001b[0m \u001b[39mdef\u001b[39;00m \u001b[39mget_concrete_function\u001b[39m(\u001b[39mself\u001b[39m, \u001b[39m*\u001b[39margs, \u001b[39m*\u001b[39m\u001b[39m*\u001b[39mkwargs):\n\u001b[0;32m   <a href='file:///c%3A/Users/esdan/Desktop/AO/venv/lib/site-packages/tensorflow/python/eager/function.py?line=3061'>3062</a>\u001b[0m   \u001b[39m\"\"\"Returns a `ConcreteFunction` specialized to inputs and execution context.\u001b[39;00m\n\u001b[0;32m   <a href='file:///c%3A/Users/esdan/Desktop/AO/venv/lib/site-packages/tensorflow/python/eager/function.py?line=3062'>3063</a>\u001b[0m \n\u001b[0;32m   <a href='file:///c%3A/Users/esdan/Desktop/AO/venv/lib/site-packages/tensorflow/python/eager/function.py?line=3063'>3064</a>\u001b[0m \u001b[39m  Args:\u001b[39;00m\n\u001b[1;32m   (...)\u001b[0m\n\u001b[0;32m   <a href='file:///c%3A/Users/esdan/Desktop/AO/venv/lib/site-packages/tensorflow/python/eager/function.py?line=3067'>3068</a>\u001b[0m \u001b[39m       or `tf.Tensor` or `tf.TensorSpec`.\u001b[39;00m\n\u001b[0;32m   <a href='file:///c%3A/Users/esdan/Desktop/AO/venv/lib/site-packages/tensorflow/python/eager/function.py?line=3068'>3069</a>\u001b[0m \u001b[39m  \"\"\"\u001b[39;00m\n\u001b[1;32m-> <a href='file:///c%3A/Users/esdan/Desktop/AO/venv/lib/site-packages/tensorflow/python/eager/function.py?line=3069'>3070</a>\u001b[0m   graph_function \u001b[39m=\u001b[39m \u001b[39mself\u001b[39;49m\u001b[39m.\u001b[39;49m_get_concrete_function_garbage_collected(\n\u001b[0;32m   <a href='file:///c%3A/Users/esdan/Desktop/AO/venv/lib/site-packages/tensorflow/python/eager/function.py?line=3070'>3071</a>\u001b[0m       \u001b[39m*\u001b[39;49margs, \u001b[39m*\u001b[39;49m\u001b[39m*\u001b[39;49mkwargs)\n\u001b[0;32m   <a href='file:///c%3A/Users/esdan/Desktop/AO/venv/lib/site-packages/tensorflow/python/eager/function.py?line=3071'>3072</a>\u001b[0m   graph_function\u001b[39m.\u001b[39m_garbage_collector\u001b[39m.\u001b[39mrelease()  \u001b[39m# pylint: disable=protected-access\u001b[39;00m\n\u001b[0;32m   <a href='file:///c%3A/Users/esdan/Desktop/AO/venv/lib/site-packages/tensorflow/python/eager/function.py?line=3072'>3073</a>\u001b[0m   \u001b[39mreturn\u001b[39;00m graph_function\n",
      "File \u001b[1;32mc:\\Users\\esdan\\Desktop\\AO\\venv\\lib\\site-packages\\tensorflow\\python\\eager\\function.py:3036\u001b[0m, in \u001b[0;36mFunction._get_concrete_function_garbage_collected\u001b[1;34m(self, *args, **kwargs)\u001b[0m\n\u001b[0;32m   <a href='file:///c%3A/Users/esdan/Desktop/AO/venv/lib/site-packages/tensorflow/python/eager/function.py?line=3033'>3034</a>\u001b[0m   args, kwargs \u001b[39m=\u001b[39m \u001b[39mNone\u001b[39;00m, \u001b[39mNone\u001b[39;00m\n\u001b[0;32m   <a href='file:///c%3A/Users/esdan/Desktop/AO/venv/lib/site-packages/tensorflow/python/eager/function.py?line=3034'>3035</a>\u001b[0m \u001b[39mwith\u001b[39;00m \u001b[39mself\u001b[39m\u001b[39m.\u001b[39m_lock:\n\u001b[1;32m-> <a href='file:///c%3A/Users/esdan/Desktop/AO/venv/lib/site-packages/tensorflow/python/eager/function.py?line=3035'>3036</a>\u001b[0m   graph_function, _ \u001b[39m=\u001b[39m \u001b[39mself\u001b[39;49m\u001b[39m.\u001b[39;49m_maybe_define_function(args, kwargs)\n\u001b[0;32m   <a href='file:///c%3A/Users/esdan/Desktop/AO/venv/lib/site-packages/tensorflow/python/eager/function.py?line=3036'>3037</a>\u001b[0m   seen_names \u001b[39m=\u001b[39m \u001b[39mset\u001b[39m()\n\u001b[0;32m   <a href='file:///c%3A/Users/esdan/Desktop/AO/venv/lib/site-packages/tensorflow/python/eager/function.py?line=3037'>3038</a>\u001b[0m   captured \u001b[39m=\u001b[39m object_identity\u001b[39m.\u001b[39mObjectIdentitySet(\n\u001b[0;32m   <a href='file:///c%3A/Users/esdan/Desktop/AO/venv/lib/site-packages/tensorflow/python/eager/function.py?line=3038'>3039</a>\u001b[0m       graph_function\u001b[39m.\u001b[39mgraph\u001b[39m.\u001b[39minternal_captures)\n",
      "File \u001b[1;32mc:\\Users\\esdan\\Desktop\\AO\\venv\\lib\\site-packages\\tensorflow\\python\\eager\\function.py:3292\u001b[0m, in \u001b[0;36mFunction._maybe_define_function\u001b[1;34m(self, args, kwargs)\u001b[0m\n\u001b[0;32m   <a href='file:///c%3A/Users/esdan/Desktop/AO/venv/lib/site-packages/tensorflow/python/eager/function.py?line=3287'>3288</a>\u001b[0m   \u001b[39mreturn\u001b[39;00m \u001b[39mself\u001b[39m\u001b[39m.\u001b[39m_define_function_with_shape_relaxation(\n\u001b[0;32m   <a href='file:///c%3A/Users/esdan/Desktop/AO/venv/lib/site-packages/tensorflow/python/eager/function.py?line=3288'>3289</a>\u001b[0m       args, kwargs, flat_args, filtered_flat_args)\n\u001b[0;32m   <a href='file:///c%3A/Users/esdan/Desktop/AO/venv/lib/site-packages/tensorflow/python/eager/function.py?line=3290'>3291</a>\u001b[0m \u001b[39mself\u001b[39m\u001b[39m.\u001b[39m_function_cache\u001b[39m.\u001b[39madd_call_context(cache_key\u001b[39m.\u001b[39mcall_context)\n\u001b[1;32m-> <a href='file:///c%3A/Users/esdan/Desktop/AO/venv/lib/site-packages/tensorflow/python/eager/function.py?line=3291'>3292</a>\u001b[0m graph_function \u001b[39m=\u001b[39m \u001b[39mself\u001b[39;49m\u001b[39m.\u001b[39;49m_create_graph_function(args, kwargs)\n\u001b[0;32m   <a href='file:///c%3A/Users/esdan/Desktop/AO/venv/lib/site-packages/tensorflow/python/eager/function.py?line=3292'>3293</a>\u001b[0m \u001b[39mself\u001b[39m\u001b[39m.\u001b[39m_function_cache\u001b[39m.\u001b[39madd(cache_key, cache_key_deletion_observer,\n\u001b[0;32m   <a href='file:///c%3A/Users/esdan/Desktop/AO/venv/lib/site-packages/tensorflow/python/eager/function.py?line=3293'>3294</a>\u001b[0m                          graph_function)\n\u001b[0;32m   <a href='file:///c%3A/Users/esdan/Desktop/AO/venv/lib/site-packages/tensorflow/python/eager/function.py?line=3295'>3296</a>\u001b[0m \u001b[39mreturn\u001b[39;00m graph_function, filtered_flat_args\n",
      "File \u001b[1;32mc:\\Users\\esdan\\Desktop\\AO\\venv\\lib\\site-packages\\tensorflow\\python\\eager\\function.py:3130\u001b[0m, in \u001b[0;36mFunction._create_graph_function\u001b[1;34m(self, args, kwargs, override_flat_arg_shapes)\u001b[0m\n\u001b[0;32m   <a href='file:///c%3A/Users/esdan/Desktop/AO/venv/lib/site-packages/tensorflow/python/eager/function.py?line=3124'>3125</a>\u001b[0m missing_arg_names \u001b[39m=\u001b[39m [\n\u001b[0;32m   <a href='file:///c%3A/Users/esdan/Desktop/AO/venv/lib/site-packages/tensorflow/python/eager/function.py?line=3125'>3126</a>\u001b[0m     \u001b[39m\"\u001b[39m\u001b[39m%s\u001b[39;00m\u001b[39m_\u001b[39m\u001b[39m%d\u001b[39;00m\u001b[39m\"\u001b[39m \u001b[39m%\u001b[39m (arg, i) \u001b[39mfor\u001b[39;00m i, arg \u001b[39min\u001b[39;00m \u001b[39menumerate\u001b[39m(missing_arg_names)\n\u001b[0;32m   <a href='file:///c%3A/Users/esdan/Desktop/AO/venv/lib/site-packages/tensorflow/python/eager/function.py?line=3126'>3127</a>\u001b[0m ]\n\u001b[0;32m   <a href='file:///c%3A/Users/esdan/Desktop/AO/venv/lib/site-packages/tensorflow/python/eager/function.py?line=3127'>3128</a>\u001b[0m arg_names \u001b[39m=\u001b[39m base_arg_names \u001b[39m+\u001b[39m missing_arg_names\n\u001b[0;32m   <a href='file:///c%3A/Users/esdan/Desktop/AO/venv/lib/site-packages/tensorflow/python/eager/function.py?line=3128'>3129</a>\u001b[0m graph_function \u001b[39m=\u001b[39m ConcreteFunction(\n\u001b[1;32m-> <a href='file:///c%3A/Users/esdan/Desktop/AO/venv/lib/site-packages/tensorflow/python/eager/function.py?line=3129'>3130</a>\u001b[0m     func_graph_module\u001b[39m.\u001b[39;49mfunc_graph_from_py_func(\n\u001b[0;32m   <a href='file:///c%3A/Users/esdan/Desktop/AO/venv/lib/site-packages/tensorflow/python/eager/function.py?line=3130'>3131</a>\u001b[0m         \u001b[39mself\u001b[39;49m\u001b[39m.\u001b[39;49m_name,\n\u001b[0;32m   <a href='file:///c%3A/Users/esdan/Desktop/AO/venv/lib/site-packages/tensorflow/python/eager/function.py?line=3131'>3132</a>\u001b[0m         \u001b[39mself\u001b[39;49m\u001b[39m.\u001b[39;49m_python_function,\n\u001b[0;32m   <a href='file:///c%3A/Users/esdan/Desktop/AO/venv/lib/site-packages/tensorflow/python/eager/function.py?line=3132'>3133</a>\u001b[0m         args,\n\u001b[0;32m   <a href='file:///c%3A/Users/esdan/Desktop/AO/venv/lib/site-packages/tensorflow/python/eager/function.py?line=3133'>3134</a>\u001b[0m         kwargs,\n\u001b[0;32m   <a href='file:///c%3A/Users/esdan/Desktop/AO/venv/lib/site-packages/tensorflow/python/eager/function.py?line=3134'>3135</a>\u001b[0m         \u001b[39mself\u001b[39;49m\u001b[39m.\u001b[39;49minput_signature,\n\u001b[0;32m   <a href='file:///c%3A/Users/esdan/Desktop/AO/venv/lib/site-packages/tensorflow/python/eager/function.py?line=3135'>3136</a>\u001b[0m         autograph\u001b[39m=\u001b[39;49m\u001b[39mself\u001b[39;49m\u001b[39m.\u001b[39;49m_autograph,\n\u001b[0;32m   <a href='file:///c%3A/Users/esdan/Desktop/AO/venv/lib/site-packages/tensorflow/python/eager/function.py?line=3136'>3137</a>\u001b[0m         autograph_options\u001b[39m=\u001b[39;49m\u001b[39mself\u001b[39;49m\u001b[39m.\u001b[39;49m_autograph_options,\n\u001b[0;32m   <a href='file:///c%3A/Users/esdan/Desktop/AO/venv/lib/site-packages/tensorflow/python/eager/function.py?line=3137'>3138</a>\u001b[0m         arg_names\u001b[39m=\u001b[39;49marg_names,\n\u001b[0;32m   <a href='file:///c%3A/Users/esdan/Desktop/AO/venv/lib/site-packages/tensorflow/python/eager/function.py?line=3138'>3139</a>\u001b[0m         override_flat_arg_shapes\u001b[39m=\u001b[39;49moverride_flat_arg_shapes,\n\u001b[0;32m   <a href='file:///c%3A/Users/esdan/Desktop/AO/venv/lib/site-packages/tensorflow/python/eager/function.py?line=3139'>3140</a>\u001b[0m         capture_by_value\u001b[39m=\u001b[39;49m\u001b[39mself\u001b[39;49m\u001b[39m.\u001b[39;49m_capture_by_value),\n\u001b[0;32m   <a href='file:///c%3A/Users/esdan/Desktop/AO/venv/lib/site-packages/tensorflow/python/eager/function.py?line=3140'>3141</a>\u001b[0m     \u001b[39mself\u001b[39m\u001b[39m.\u001b[39m_function_attributes,\n\u001b[0;32m   <a href='file:///c%3A/Users/esdan/Desktop/AO/venv/lib/site-packages/tensorflow/python/eager/function.py?line=3141'>3142</a>\u001b[0m     function_spec\u001b[39m=\u001b[39m\u001b[39mself\u001b[39m\u001b[39m.\u001b[39mfunction_spec,\n\u001b[0;32m   <a href='file:///c%3A/Users/esdan/Desktop/AO/venv/lib/site-packages/tensorflow/python/eager/function.py?line=3142'>3143</a>\u001b[0m     \u001b[39m# Tell the ConcreteFunction to clean up its graph once it goes out of\u001b[39;00m\n\u001b[0;32m   <a href='file:///c%3A/Users/esdan/Desktop/AO/venv/lib/site-packages/tensorflow/python/eager/function.py?line=3143'>3144</a>\u001b[0m     \u001b[39m# scope. This is not the default behavior since it gets used in some\u001b[39;00m\n\u001b[0;32m   <a href='file:///c%3A/Users/esdan/Desktop/AO/venv/lib/site-packages/tensorflow/python/eager/function.py?line=3144'>3145</a>\u001b[0m     \u001b[39m# places (like Keras) where the FuncGraph lives longer than the\u001b[39;00m\n\u001b[0;32m   <a href='file:///c%3A/Users/esdan/Desktop/AO/venv/lib/site-packages/tensorflow/python/eager/function.py?line=3145'>3146</a>\u001b[0m     \u001b[39m# ConcreteFunction.\u001b[39;00m\n\u001b[0;32m   <a href='file:///c%3A/Users/esdan/Desktop/AO/venv/lib/site-packages/tensorflow/python/eager/function.py?line=3146'>3147</a>\u001b[0m     shared_func_graph\u001b[39m=\u001b[39m\u001b[39mFalse\u001b[39;00m)\n\u001b[0;32m   <a href='file:///c%3A/Users/esdan/Desktop/AO/venv/lib/site-packages/tensorflow/python/eager/function.py?line=3147'>3148</a>\u001b[0m \u001b[39mreturn\u001b[39;00m graph_function\n",
      "File \u001b[1;32mc:\\Users\\esdan\\Desktop\\AO\\venv\\lib\\site-packages\\tensorflow\\python\\framework\\func_graph.py:1161\u001b[0m, in \u001b[0;36mfunc_graph_from_py_func\u001b[1;34m(name, python_func, args, kwargs, signature, func_graph, autograph, autograph_options, add_control_dependencies, arg_names, op_return_value, collections, capture_by_value, override_flat_arg_shapes, acd_record_initial_resource_uses)\u001b[0m\n\u001b[0;32m   <a href='file:///c%3A/Users/esdan/Desktop/AO/venv/lib/site-packages/tensorflow/python/framework/func_graph.py?line=1157'>1158</a>\u001b[0m \u001b[39melse\u001b[39;00m:\n\u001b[0;32m   <a href='file:///c%3A/Users/esdan/Desktop/AO/venv/lib/site-packages/tensorflow/python/framework/func_graph.py?line=1158'>1159</a>\u001b[0m   _, original_func \u001b[39m=\u001b[39m tf_decorator\u001b[39m.\u001b[39munwrap(python_func)\n\u001b[1;32m-> <a href='file:///c%3A/Users/esdan/Desktop/AO/venv/lib/site-packages/tensorflow/python/framework/func_graph.py?line=1160'>1161</a>\u001b[0m func_outputs \u001b[39m=\u001b[39m python_func(\u001b[39m*\u001b[39;49mfunc_args, \u001b[39m*\u001b[39;49m\u001b[39m*\u001b[39;49mfunc_kwargs)\n\u001b[0;32m   <a href='file:///c%3A/Users/esdan/Desktop/AO/venv/lib/site-packages/tensorflow/python/framework/func_graph.py?line=1162'>1163</a>\u001b[0m \u001b[39m# invariant: `func_outputs` contains only Tensors, CompositeTensors,\u001b[39;00m\n\u001b[0;32m   <a href='file:///c%3A/Users/esdan/Desktop/AO/venv/lib/site-packages/tensorflow/python/framework/func_graph.py?line=1163'>1164</a>\u001b[0m \u001b[39m# TensorArrays and `None`s.\u001b[39;00m\n\u001b[0;32m   <a href='file:///c%3A/Users/esdan/Desktop/AO/venv/lib/site-packages/tensorflow/python/framework/func_graph.py?line=1164'>1165</a>\u001b[0m func_outputs \u001b[39m=\u001b[39m nest\u001b[39m.\u001b[39mmap_structure(convert, func_outputs,\n\u001b[0;32m   <a href='file:///c%3A/Users/esdan/Desktop/AO/venv/lib/site-packages/tensorflow/python/framework/func_graph.py?line=1165'>1166</a>\u001b[0m                                   expand_composites\u001b[39m=\u001b[39m\u001b[39mTrue\u001b[39;00m)\n",
      "File \u001b[1;32mc:\\Users\\esdan\\Desktop\\AO\\venv\\lib\\site-packages\\tensorflow\\python\\data\\ops\\structured_function.py:209\u001b[0m, in \u001b[0;36mStructuredFunctionWrapper.__init__.<locals>.trace_py_function.<locals>.unused\u001b[1;34m(*args)\u001b[0m\n\u001b[0;32m    <a href='file:///c%3A/Users/esdan/Desktop/AO/venv/lib/site-packages/tensorflow/python/data/ops/structured_function.py?line=202'>203</a>\u001b[0m \u001b[39m@eager_function\u001b[39m\u001b[39m.\u001b[39mdefun_with_attributes(\n\u001b[0;32m    <a href='file:///c%3A/Users/esdan/Desktop/AO/venv/lib/site-packages/tensorflow/python/data/ops/structured_function.py?line=203'>204</a>\u001b[0m     input_signature\u001b[39m=\u001b[39mstructure\u001b[39m.\u001b[39mget_flat_tensor_specs(\n\u001b[0;32m    <a href='file:///c%3A/Users/esdan/Desktop/AO/venv/lib/site-packages/tensorflow/python/data/ops/structured_function.py?line=204'>205</a>\u001b[0m         \u001b[39mself\u001b[39m\u001b[39m.\u001b[39m_input_structure),\n\u001b[0;32m    <a href='file:///c%3A/Users/esdan/Desktop/AO/venv/lib/site-packages/tensorflow/python/data/ops/structured_function.py?line=205'>206</a>\u001b[0m     autograph\u001b[39m=\u001b[39m\u001b[39mFalse\u001b[39;00m,\n\u001b[0;32m    <a href='file:///c%3A/Users/esdan/Desktop/AO/venv/lib/site-packages/tensorflow/python/data/ops/structured_function.py?line=206'>207</a>\u001b[0m     attributes\u001b[39m=\u001b[39mdefun_kwargs)\n\u001b[0;32m    <a href='file:///c%3A/Users/esdan/Desktop/AO/venv/lib/site-packages/tensorflow/python/data/ops/structured_function.py?line=207'>208</a>\u001b[0m \u001b[39mdef\u001b[39;00m \u001b[39munused\u001b[39m(\u001b[39m*\u001b[39margs):  \u001b[39m# pylint: disable=missing-docstring,unused-variable\u001b[39;00m\n\u001b[1;32m--> <a href='file:///c%3A/Users/esdan/Desktop/AO/venv/lib/site-packages/tensorflow/python/data/ops/structured_function.py?line=208'>209</a>\u001b[0m   ret \u001b[39m=\u001b[39m wrapper_helper(\u001b[39m*\u001b[39;49margs)\n\u001b[0;32m    <a href='file:///c%3A/Users/esdan/Desktop/AO/venv/lib/site-packages/tensorflow/python/data/ops/structured_function.py?line=209'>210</a>\u001b[0m   ret \u001b[39m=\u001b[39m structure\u001b[39m.\u001b[39mto_tensor_list(\u001b[39mself\u001b[39m\u001b[39m.\u001b[39m_output_structure, ret)\n\u001b[0;32m    <a href='file:///c%3A/Users/esdan/Desktop/AO/venv/lib/site-packages/tensorflow/python/data/ops/structured_function.py?line=210'>211</a>\u001b[0m   \u001b[39mreturn\u001b[39;00m [ops\u001b[39m.\u001b[39mconvert_to_tensor(t) \u001b[39mfor\u001b[39;00m t \u001b[39min\u001b[39;00m ret]\n",
      "File \u001b[1;32mc:\\Users\\esdan\\Desktop\\AO\\venv\\lib\\site-packages\\tensorflow\\python\\data\\ops\\structured_function.py:177\u001b[0m, in \u001b[0;36mStructuredFunctionWrapper.__init__.<locals>.wrapper_helper\u001b[1;34m(*args)\u001b[0m\n\u001b[0;32m    <a href='file:///c%3A/Users/esdan/Desktop/AO/venv/lib/site-packages/tensorflow/python/data/ops/structured_function.py?line=174'>175</a>\u001b[0m \u001b[39mif\u001b[39;00m \u001b[39mnot\u001b[39;00m _should_unpack(nested_args):\n\u001b[0;32m    <a href='file:///c%3A/Users/esdan/Desktop/AO/venv/lib/site-packages/tensorflow/python/data/ops/structured_function.py?line=175'>176</a>\u001b[0m   nested_args \u001b[39m=\u001b[39m (nested_args,)\n\u001b[1;32m--> <a href='file:///c%3A/Users/esdan/Desktop/AO/venv/lib/site-packages/tensorflow/python/data/ops/structured_function.py?line=176'>177</a>\u001b[0m ret \u001b[39m=\u001b[39m autograph\u001b[39m.\u001b[39;49mtf_convert(\u001b[39mself\u001b[39;49m\u001b[39m.\u001b[39;49m_func, ag_ctx)(\u001b[39m*\u001b[39;49mnested_args)\n\u001b[0;32m    <a href='file:///c%3A/Users/esdan/Desktop/AO/venv/lib/site-packages/tensorflow/python/data/ops/structured_function.py?line=177'>178</a>\u001b[0m \u001b[39mif\u001b[39;00m _should_pack(ret):\n\u001b[0;32m    <a href='file:///c%3A/Users/esdan/Desktop/AO/venv/lib/site-packages/tensorflow/python/data/ops/structured_function.py?line=178'>179</a>\u001b[0m   ret \u001b[39m=\u001b[39m \u001b[39mtuple\u001b[39m(ret)\n",
      "File \u001b[1;32mc:\\Users\\esdan\\Desktop\\AO\\venv\\lib\\site-packages\\tensorflow\\python\\util\\traceback_utils.py:153\u001b[0m, in \u001b[0;36mfilter_traceback.<locals>.error_handler\u001b[1;34m(*args, **kwargs)\u001b[0m\n\u001b[0;32m    <a href='file:///c%3A/Users/esdan/Desktop/AO/venv/lib/site-packages/tensorflow/python/util/traceback_utils.py?line=150'>151</a>\u001b[0m \u001b[39mexcept\u001b[39;00m \u001b[39mException\u001b[39;00m \u001b[39mas\u001b[39;00m e:\n\u001b[0;32m    <a href='file:///c%3A/Users/esdan/Desktop/AO/venv/lib/site-packages/tensorflow/python/util/traceback_utils.py?line=151'>152</a>\u001b[0m   filtered_tb \u001b[39m=\u001b[39m _process_traceback_frames(e\u001b[39m.\u001b[39m__traceback__)\n\u001b[1;32m--> <a href='file:///c%3A/Users/esdan/Desktop/AO/venv/lib/site-packages/tensorflow/python/util/traceback_utils.py?line=152'>153</a>\u001b[0m   \u001b[39mraise\u001b[39;00m e\u001b[39m.\u001b[39mwith_traceback(filtered_tb) \u001b[39mfrom\u001b[39;00m \u001b[39mNone\u001b[39m\n\u001b[0;32m    <a href='file:///c%3A/Users/esdan/Desktop/AO/venv/lib/site-packages/tensorflow/python/util/traceback_utils.py?line=153'>154</a>\u001b[0m \u001b[39mfinally\u001b[39;00m:\n\u001b[0;32m    <a href='file:///c%3A/Users/esdan/Desktop/AO/venv/lib/site-packages/tensorflow/python/util/traceback_utils.py?line=154'>155</a>\u001b[0m   \u001b[39mdel\u001b[39;00m filtered_tb\n",
      "\u001b[1;32mc:\\Users\\esdan\\Desktop\\AO\\notebooks\\train_model.ipynb Cell 18'\u001b[0m in \u001b[0;36maudio_features\u001b[1;34m(filename)\u001b[0m\n\u001b[0;32m     <a href='vscode-notebook-cell:/c%3A/Users/esdan/Desktop/AO/notebooks/train_model.ipynb#ch0000020?line=21'>22</a>\u001b[0m cropped_size \u001b[39m=\u001b[39m audio_samples \u001b[39m-\u001b[39m audio_samples \u001b[39m%\u001b[39m FRAME_SAMPLES\n\u001b[0;32m     <a href='vscode-notebook-cell:/c%3A/Users/esdan/Desktop/AO/notebooks/train_model.ipynb#ch0000020?line=22'>23</a>\u001b[0m audio_ \u001b[39m=\u001b[39m tf\u001b[39m.\u001b[39mreshape(\n\u001b[0;32m     <a href='vscode-notebook-cell:/c%3A/Users/esdan/Desktop/AO/notebooks/train_model.ipynb#ch0000020?line=23'>24</a>\u001b[0m     audio[:cropped_size], [cropped_size \u001b[39m/\u001b[39m\u001b[39m/\u001b[39m FRAME_SAMPLES, FRAME_SAMPLES]\n\u001b[0;32m     <a href='vscode-notebook-cell:/c%3A/Users/esdan/Desktop/AO/notebooks/train_model.ipynb#ch0000020?line=24'>25</a>\u001b[0m     )\n\u001b[1;32m---> <a href='vscode-notebook-cell:/c%3A/Users/esdan/Desktop/AO/notebooks/train_model.ipynb#ch0000020?line=25'>26</a>\u001b[0m audio_ \u001b[39m=\u001b[39m tf\u001b[39m.\u001b[39;49mmap_fn(extract, audio_)\n\u001b[0;32m     <a href='vscode-notebook-cell:/c%3A/Users/esdan/Desktop/AO/notebooks/train_model.ipynb#ch0000020?line=26'>27</a>\u001b[0m \u001b[39m# print(audio_frames)\u001b[39;00m\n\u001b[0;32m     <a href='vscode-notebook-cell:/c%3A/Users/esdan/Desktop/AO/notebooks/train_model.ipynb#ch0000020?line=27'>28</a>\u001b[0m \u001b[39m# audio_frames = tf.RaggedTensor.from_tensor(audio_frames)\u001b[39;00m\n\u001b[0;32m     <a href='vscode-notebook-cell:/c%3A/Users/esdan/Desktop/AO/notebooks/train_model.ipynb#ch0000020?line=28'>29</a>\u001b[0m \u001b[39m# print(audio_frames)\u001b[39;00m\n\u001b[1;32m   (...)\u001b[0m\n\u001b[0;32m     <a href='vscode-notebook-cell:/c%3A/Users/esdan/Desktop/AO/notebooks/train_model.ipynb#ch0000020?line=31'>32</a>\u001b[0m \u001b[39m#     audio_features = audio_features.write(i, extract(frame))\u001b[39;00m\n\u001b[0;32m     <a href='vscode-notebook-cell:/c%3A/Users/esdan/Desktop/AO/notebooks/train_model.ipynb#ch0000020?line=32'>33</a>\u001b[0m \u001b[39m# return audio_features.stack()\u001b[39;00m\n\u001b[0;32m     <a href='vscode-notebook-cell:/c%3A/Users/esdan/Desktop/AO/notebooks/train_model.ipynb#ch0000020?line=33'>34</a>\u001b[0m \u001b[39mreturn\u001b[39;00m audio_\n",
      "\u001b[1;32mc:\\Users\\esdan\\Desktop\\AO\\notebooks\\train_model.ipynb Cell 18'\u001b[0m in \u001b[0;36mextract\u001b[1;34m(frame)\u001b[0m\n\u001b[0;32m     <a href='vscode-notebook-cell:/c%3A/Users/esdan/Desktop/AO/notebooks/train_model.ipynb#ch0000020?line=11'>12</a>\u001b[0m \u001b[39m@tf\u001b[39m\u001b[39m.\u001b[39mfunction\n\u001b[0;32m     <a href='vscode-notebook-cell:/c%3A/Users/esdan/Desktop/AO/notebooks/train_model.ipynb#ch0000020?line=12'>13</a>\u001b[0m \u001b[39mdef\u001b[39;00m \u001b[39mextract\u001b[39m(frame):\n\u001b[1;32m---> <a href='vscode-notebook-cell:/c%3A/Users/esdan/Desktop/AO/notebooks/train_model.ipynb#ch0000020?line=13'>14</a>\u001b[0m     tf\u001b[39m.\u001b[39mprint(frame\u001b[39m.\u001b[39;49mnumpy())\n\u001b[0;32m     <a href='vscode-notebook-cell:/c%3A/Users/esdan/Desktop/AO/notebooks/train_model.ipynb#ch0000020?line=14'>15</a>\u001b[0m     \u001b[39mreturn\u001b[39;00m _extract(frame)\n",
      "\u001b[1;31mAttributeError\u001b[0m: 'Tensor' object has no attribute 'numpy'"
     ]
    }
   ],
   "source": [
    "# Map folder tensor into an audio features tensor\n",
    "\n",
    "FRAME_SAMPLES = 1024\n",
    "NUM_FEATURES = 64\n",
    "\n",
    "audio_sample, samplerate = ao.io.wave_read(list(data.keys())[0] / 'audio0.wav')\n",
    "_extract = ao.extractor.GammatoneFilterbank(\n",
    "    FRAME_SAMPLES, NUM_FEATURES, samplerate\n",
    "    )\n",
    "\n",
    "\n",
    "@tf.function\n",
    "def extract(frame):\n",
    "    tf.print(frame.numpy())\n",
    "    return _extract(frame)\n",
    "\n",
    "@tf.function\n",
    "def audio_features(filename):\n",
    "    audio, _ = tf.audio.decode_wav(tf.io.read_file(filename), 1)\n",
    "    audio_samples = tf.shape(audio)[0]\n",
    "    tf.print(audio_samples)\n",
    "    cropped_size = audio_samples - audio_samples % FRAME_SAMPLES\n",
    "    audio_ = tf.reshape(\n",
    "        audio[:cropped_size], [cropped_size // FRAME_SAMPLES, FRAME_SAMPLES]\n",
    "        )\n",
    "    audio_ = tf.map_fn(extract, audio_)\n",
    "    # print(audio_frames)\n",
    "    # audio_frames = tf.RaggedTensor.from_tensor(audio_frames)\n",
    "    # print(audio_frames)\n",
    "    # audio_features = tf.TensorArray(audio.dtype, size=0, dynamic_size=True)\n",
    "    # for i, frame in enumerate(tf.split(audio, [FRAME_SAMPLES], axis=0)):\n",
    "    #     audio_features = audio_features.write(i, extract(frame))\n",
    "    # return audio_features.stack()\n",
    "    return audio_\n",
    "\n",
    "\n",
    "audio_ds = files.map(audio_features)\n",
    "\n",
    "for a in tfds.as_numpy(audio_ds.take(1)):\n",
    "    print(a)"
   ]
  },
  {
   "cell_type": "code",
   "execution_count": null,
   "metadata": {},
   "outputs": [
    {
     "ename": "ValueError",
     "evalue": "Can't convert Python sequence with mixed types to Tensor.",
     "output_type": "error",
     "traceback": [
      "\u001b[1;31m---------------------------------------------------------------------------\u001b[0m",
      "\u001b[1;31mValueError\u001b[0m                                Traceback (most recent call last)",
      "\u001b[1;32mc:\\Users\\esdan\\Desktop\\AO\\notebooks\\train_model.ipynb Cell 18'\u001b[0m in \u001b[0;36m<cell line: 36>\u001b[1;34m()\u001b[0m\n\u001b[0;32m     <a href='vscode-notebook-cell:/c%3A/Users/esdan/Desktop/AO/notebooks/train_model.ipynb#ch0000017?line=31'>32</a>\u001b[0m             frame_features \u001b[39m=\u001b[39m extract(frame)\n\u001b[0;32m     <a href='vscode-notebook-cell:/c%3A/Users/esdan/Desktop/AO/notebooks/train_model.ipynb#ch0000017?line=32'>33</a>\u001b[0m             \u001b[39myield\u001b[39;00m (frame_features, motion)\n\u001b[1;32m---> <a href='vscode-notebook-cell:/c%3A/Users/esdan/Desktop/AO/notebooks/train_model.ipynb#ch0000017?line=35'>36</a>\u001b[0m audio_ds \u001b[39m=\u001b[39m tf\u001b[39m.\u001b[39;49mdata\u001b[39m.\u001b[39;49mDataset\u001b[39m.\u001b[39;49mfrom_generator(\n\u001b[0;32m     <a href='vscode-notebook-cell:/c%3A/Users/esdan/Desktop/AO/notebooks/train_model.ipynb#ch0000017?line=36'>37</a>\u001b[0m     generate_audio_dataset,\n\u001b[0;32m     <a href='vscode-notebook-cell:/c%3A/Users/esdan/Desktop/AO/notebooks/train_model.ipynb#ch0000017?line=37'>38</a>\u001b[0m     output_signature\u001b[39m=\u001b[39;49m(\n\u001b[0;32m     <a href='vscode-notebook-cell:/c%3A/Users/esdan/Desktop/AO/notebooks/train_model.ipynb#ch0000017?line=38'>39</a>\u001b[0m         tf\u001b[39m.\u001b[39;49mTensorSpec(shape\u001b[39m=\u001b[39;49m\u001b[39mNone\u001b[39;49;00m, dtype\u001b[39m=\u001b[39;49mtf\u001b[39m.\u001b[39;49mfloat32),\n\u001b[0;32m     <a href='vscode-notebook-cell:/c%3A/Users/esdan/Desktop/AO/notebooks/train_model.ipynb#ch0000017?line=39'>40</a>\u001b[0m         tf\u001b[39m.\u001b[39;49mTensorSpec(shape\u001b[39m=\u001b[39;49m\u001b[39mNone\u001b[39;49;00m, dtype\u001b[39m=\u001b[39;49mtf\u001b[39m.\u001b[39;49mfloat32)\n\u001b[0;32m     <a href='vscode-notebook-cell:/c%3A/Users/esdan/Desktop/AO/notebooks/train_model.ipynb#ch0000017?line=40'>41</a>\u001b[0m         ),\n\u001b[0;32m     <a href='vscode-notebook-cell:/c%3A/Users/esdan/Desktop/AO/notebooks/train_model.ipynb#ch0000017?line=41'>42</a>\u001b[0m     args\u001b[39m=\u001b[39;49m(data_list, )\n\u001b[0;32m     <a href='vscode-notebook-cell:/c%3A/Users/esdan/Desktop/AO/notebooks/train_model.ipynb#ch0000017?line=42'>43</a>\u001b[0m     )\n\u001b[0;32m     <a href='vscode-notebook-cell:/c%3A/Users/esdan/Desktop/AO/notebooks/train_model.ipynb#ch0000017?line=43'>44</a>\u001b[0m \u001b[39mprint\u001b[39m(audio_ds\u001b[39m.\u001b[39mtake(\u001b[39m1\u001b[39m))\n",
      "File \u001b[1;32mc:\\Users\\esdan\\Desktop\\AO\\venv\\lib\\site-packages\\tensorflow\\python\\util\\deprecation.py:548\u001b[0m, in \u001b[0;36mdeprecated_args.<locals>.deprecated_wrapper.<locals>.new_func\u001b[1;34m(*args, **kwargs)\u001b[0m\n\u001b[0;32m    <a href='file:///c%3A/Users/esdan/Desktop/AO/venv/lib/site-packages/tensorflow/python/util/deprecation.py?line=539'>540</a>\u001b[0m         _PRINTED_WARNING[(func, arg_name)] \u001b[39m=\u001b[39m \u001b[39mTrue\u001b[39;00m\n\u001b[0;32m    <a href='file:///c%3A/Users/esdan/Desktop/AO/venv/lib/site-packages/tensorflow/python/util/deprecation.py?line=540'>541</a>\u001b[0m       logging\u001b[39m.\u001b[39mwarning(\n\u001b[0;32m    <a href='file:///c%3A/Users/esdan/Desktop/AO/venv/lib/site-packages/tensorflow/python/util/deprecation.py?line=541'>542</a>\u001b[0m           \u001b[39m'\u001b[39m\u001b[39mFrom \u001b[39m\u001b[39m%s\u001b[39;00m\u001b[39m: calling \u001b[39m\u001b[39m%s\u001b[39;00m\u001b[39m (from \u001b[39m\u001b[39m%s\u001b[39;00m\u001b[39m) with \u001b[39m\u001b[39m%s\u001b[39;00m\u001b[39m is deprecated and will \u001b[39m\u001b[39m'\u001b[39m\n\u001b[0;32m    <a href='file:///c%3A/Users/esdan/Desktop/AO/venv/lib/site-packages/tensorflow/python/util/deprecation.py?line=542'>543</a>\u001b[0m           \u001b[39m'\u001b[39m\u001b[39mbe removed \u001b[39m\u001b[39m%s\u001b[39;00m\u001b[39m.\u001b[39m\u001b[39m\\n\u001b[39;00m\u001b[39mInstructions for updating:\u001b[39m\u001b[39m\\n\u001b[39;00m\u001b[39m%s\u001b[39;00m\u001b[39m'\u001b[39m,\n\u001b[1;32m   (...)\u001b[0m\n\u001b[0;32m    <a href='file:///c%3A/Users/esdan/Desktop/AO/venv/lib/site-packages/tensorflow/python/util/deprecation.py?line=545'>546</a>\u001b[0m           \u001b[39m'\u001b[39m\u001b[39min a future version\u001b[39m\u001b[39m'\u001b[39m \u001b[39mif\u001b[39;00m date \u001b[39mis\u001b[39;00m \u001b[39mNone\u001b[39;00m \u001b[39melse\u001b[39;00m (\u001b[39m'\u001b[39m\u001b[39mafter \u001b[39m\u001b[39m%s\u001b[39;00m\u001b[39m'\u001b[39m \u001b[39m%\u001b[39m date),\n\u001b[0;32m    <a href='file:///c%3A/Users/esdan/Desktop/AO/venv/lib/site-packages/tensorflow/python/util/deprecation.py?line=546'>547</a>\u001b[0m           instructions)\n\u001b[1;32m--> <a href='file:///c%3A/Users/esdan/Desktop/AO/venv/lib/site-packages/tensorflow/python/util/deprecation.py?line=547'>548</a>\u001b[0m \u001b[39mreturn\u001b[39;00m func(\u001b[39m*\u001b[39;49margs, \u001b[39m*\u001b[39;49m\u001b[39m*\u001b[39;49mkwargs)\n",
      "File \u001b[1;32mc:\\Users\\esdan\\Desktop\\AO\\venv\\lib\\site-packages\\tensorflow\\python\\data\\ops\\dataset_ops.py:961\u001b[0m, in \u001b[0;36mDatasetV2.from_generator\u001b[1;34m(generator, output_types, output_shapes, args, output_signature, name)\u001b[0m\n\u001b[0;32m    <a href='file:///c%3A/Users/esdan/Desktop/AO/venv/lib/site-packages/tensorflow/python/data/ops/dataset_ops.py?line=958'>959</a>\u001b[0m   args \u001b[39m=\u001b[39m ()\n\u001b[0;32m    <a href='file:///c%3A/Users/esdan/Desktop/AO/venv/lib/site-packages/tensorflow/python/data/ops/dataset_ops.py?line=959'>960</a>\u001b[0m \u001b[39melse\u001b[39;00m:\n\u001b[1;32m--> <a href='file:///c%3A/Users/esdan/Desktop/AO/venv/lib/site-packages/tensorflow/python/data/ops/dataset_ops.py?line=960'>961</a>\u001b[0m   args \u001b[39m=\u001b[39m \u001b[39mtuple\u001b[39m(ops\u001b[39m.\u001b[39;49mconvert_n_to_tensor(args, name\u001b[39m=\u001b[39;49m\u001b[39m\"\u001b[39;49m\u001b[39margs\u001b[39;49m\u001b[39m\"\u001b[39;49m))\n\u001b[0;32m    <a href='file:///c%3A/Users/esdan/Desktop/AO/venv/lib/site-packages/tensorflow/python/data/ops/dataset_ops.py?line=962'>963</a>\u001b[0m generator_state \u001b[39m=\u001b[39m DatasetV2\u001b[39m.\u001b[39m_GeneratorState(generator)\n\u001b[0;32m    <a href='file:///c%3A/Users/esdan/Desktop/AO/venv/lib/site-packages/tensorflow/python/data/ops/dataset_ops.py?line=964'>965</a>\u001b[0m \u001b[39mdef\u001b[39;00m \u001b[39mget_iterator_id_fn\u001b[39m(unused_dummy):\n",
      "File \u001b[1;32mc:\\Users\\esdan\\Desktop\\AO\\venv\\lib\\site-packages\\tensorflow\\python\\framework\\ops.py:1790\u001b[0m, in \u001b[0;36mconvert_n_to_tensor\u001b[1;34m(values, dtype, name, preferred_dtype)\u001b[0m\n\u001b[0;32m   <a href='file:///c%3A/Users/esdan/Desktop/AO/venv/lib/site-packages/tensorflow/python/framework/ops.py?line=1766'>1767</a>\u001b[0m \u001b[39mdef\u001b[39;00m \u001b[39mconvert_n_to_tensor\u001b[39m(values, dtype\u001b[39m=\u001b[39m\u001b[39mNone\u001b[39;00m, name\u001b[39m=\u001b[39m\u001b[39mNone\u001b[39;00m, preferred_dtype\u001b[39m=\u001b[39m\u001b[39mNone\u001b[39;00m):\n\u001b[0;32m   <a href='file:///c%3A/Users/esdan/Desktop/AO/venv/lib/site-packages/tensorflow/python/framework/ops.py?line=1767'>1768</a>\u001b[0m   \u001b[39m\"\"\"Converts `values` to a list of `Tensor` objects.\u001b[39;00m\n\u001b[0;32m   <a href='file:///c%3A/Users/esdan/Desktop/AO/venv/lib/site-packages/tensorflow/python/framework/ops.py?line=1768'>1769</a>\u001b[0m \n\u001b[0;32m   <a href='file:///c%3A/Users/esdan/Desktop/AO/venv/lib/site-packages/tensorflow/python/framework/ops.py?line=1769'>1770</a>\u001b[0m \u001b[39m  Args:\u001b[39;00m\n\u001b[1;32m   (...)\u001b[0m\n\u001b[0;32m   <a href='file:///c%3A/Users/esdan/Desktop/AO/venv/lib/site-packages/tensorflow/python/framework/ops.py?line=1787'>1788</a>\u001b[0m \u001b[39m      value.\u001b[39;00m\n\u001b[0;32m   <a href='file:///c%3A/Users/esdan/Desktop/AO/venv/lib/site-packages/tensorflow/python/framework/ops.py?line=1788'>1789</a>\u001b[0m \u001b[39m  \"\"\"\u001b[39;00m\n\u001b[1;32m-> <a href='file:///c%3A/Users/esdan/Desktop/AO/venv/lib/site-packages/tensorflow/python/framework/ops.py?line=1789'>1790</a>\u001b[0m   \u001b[39mreturn\u001b[39;00m internal_convert_n_to_tensor(\n\u001b[0;32m   <a href='file:///c%3A/Users/esdan/Desktop/AO/venv/lib/site-packages/tensorflow/python/framework/ops.py?line=1790'>1791</a>\u001b[0m       values\u001b[39m=\u001b[39;49mvalues,\n\u001b[0;32m   <a href='file:///c%3A/Users/esdan/Desktop/AO/venv/lib/site-packages/tensorflow/python/framework/ops.py?line=1791'>1792</a>\u001b[0m       dtype\u001b[39m=\u001b[39;49mdtype,\n\u001b[0;32m   <a href='file:///c%3A/Users/esdan/Desktop/AO/venv/lib/site-packages/tensorflow/python/framework/ops.py?line=1792'>1793</a>\u001b[0m       name\u001b[39m=\u001b[39;49mname,\n\u001b[0;32m   <a href='file:///c%3A/Users/esdan/Desktop/AO/venv/lib/site-packages/tensorflow/python/framework/ops.py?line=1793'>1794</a>\u001b[0m       preferred_dtype\u001b[39m=\u001b[39;49mpreferred_dtype,\n\u001b[0;32m   <a href='file:///c%3A/Users/esdan/Desktop/AO/venv/lib/site-packages/tensorflow/python/framework/ops.py?line=1794'>1795</a>\u001b[0m       as_ref\u001b[39m=\u001b[39;49m\u001b[39mFalse\u001b[39;49;00m)\n",
      "File \u001b[1;32mc:\\Users\\esdan\\Desktop\\AO\\venv\\lib\\site-packages\\tensorflow\\python\\framework\\ops.py:1757\u001b[0m, in \u001b[0;36minternal_convert_n_to_tensor\u001b[1;34m(values, dtype, name, as_ref, preferred_dtype, ctx)\u001b[0m\n\u001b[0;32m   <a href='file:///c%3A/Users/esdan/Desktop/AO/venv/lib/site-packages/tensorflow/python/framework/ops.py?line=1753'>1754</a>\u001b[0m \u001b[39mfor\u001b[39;00m i, value \u001b[39min\u001b[39;00m \u001b[39menumerate\u001b[39m(values):\n\u001b[0;32m   <a href='file:///c%3A/Users/esdan/Desktop/AO/venv/lib/site-packages/tensorflow/python/framework/ops.py?line=1754'>1755</a>\u001b[0m   n \u001b[39m=\u001b[39m \u001b[39mNone\u001b[39;00m \u001b[39mif\u001b[39;00m name \u001b[39mis\u001b[39;00m \u001b[39mNone\u001b[39;00m \u001b[39melse\u001b[39;00m \u001b[39m\"\u001b[39m\u001b[39m%s\u001b[39;00m\u001b[39m_\u001b[39m\u001b[39m%d\u001b[39;00m\u001b[39m\"\u001b[39m \u001b[39m%\u001b[39m (name, i)\n\u001b[0;32m   <a href='file:///c%3A/Users/esdan/Desktop/AO/venv/lib/site-packages/tensorflow/python/framework/ops.py?line=1755'>1756</a>\u001b[0m   ret\u001b[39m.\u001b[39mappend(\n\u001b[1;32m-> <a href='file:///c%3A/Users/esdan/Desktop/AO/venv/lib/site-packages/tensorflow/python/framework/ops.py?line=1756'>1757</a>\u001b[0m       convert_to_tensor(\n\u001b[0;32m   <a href='file:///c%3A/Users/esdan/Desktop/AO/venv/lib/site-packages/tensorflow/python/framework/ops.py?line=1757'>1758</a>\u001b[0m           value,\n\u001b[0;32m   <a href='file:///c%3A/Users/esdan/Desktop/AO/venv/lib/site-packages/tensorflow/python/framework/ops.py?line=1758'>1759</a>\u001b[0m           dtype\u001b[39m=\u001b[39;49mdtype,\n\u001b[0;32m   <a href='file:///c%3A/Users/esdan/Desktop/AO/venv/lib/site-packages/tensorflow/python/framework/ops.py?line=1759'>1760</a>\u001b[0m           name\u001b[39m=\u001b[39;49mn,\n\u001b[0;32m   <a href='file:///c%3A/Users/esdan/Desktop/AO/venv/lib/site-packages/tensorflow/python/framework/ops.py?line=1760'>1761</a>\u001b[0m           as_ref\u001b[39m=\u001b[39;49mas_ref,\n\u001b[0;32m   <a href='file:///c%3A/Users/esdan/Desktop/AO/venv/lib/site-packages/tensorflow/python/framework/ops.py?line=1761'>1762</a>\u001b[0m           preferred_dtype\u001b[39m=\u001b[39;49mpreferred_dtype,\n\u001b[0;32m   <a href='file:///c%3A/Users/esdan/Desktop/AO/venv/lib/site-packages/tensorflow/python/framework/ops.py?line=1762'>1763</a>\u001b[0m           ctx\u001b[39m=\u001b[39;49mctx))\n\u001b[0;32m   <a href='file:///c%3A/Users/esdan/Desktop/AO/venv/lib/site-packages/tensorflow/python/framework/ops.py?line=1763'>1764</a>\u001b[0m \u001b[39mreturn\u001b[39;00m ret\n",
      "File \u001b[1;32mc:\\Users\\esdan\\Desktop\\AO\\venv\\lib\\site-packages\\tensorflow\\python\\profiler\\trace.py:183\u001b[0m, in \u001b[0;36mtrace_wrapper.<locals>.inner_wrapper.<locals>.wrapped\u001b[1;34m(*args, **kwargs)\u001b[0m\n\u001b[0;32m    <a href='file:///c%3A/Users/esdan/Desktop/AO/venv/lib/site-packages/tensorflow/python/profiler/trace.py?line=180'>181</a>\u001b[0m   \u001b[39mwith\u001b[39;00m Trace(trace_name, \u001b[39m*\u001b[39m\u001b[39m*\u001b[39mtrace_kwargs):\n\u001b[0;32m    <a href='file:///c%3A/Users/esdan/Desktop/AO/venv/lib/site-packages/tensorflow/python/profiler/trace.py?line=181'>182</a>\u001b[0m     \u001b[39mreturn\u001b[39;00m func(\u001b[39m*\u001b[39margs, \u001b[39m*\u001b[39m\u001b[39m*\u001b[39mkwargs)\n\u001b[1;32m--> <a href='file:///c%3A/Users/esdan/Desktop/AO/venv/lib/site-packages/tensorflow/python/profiler/trace.py?line=182'>183</a>\u001b[0m \u001b[39mreturn\u001b[39;00m func(\u001b[39m*\u001b[39;49margs, \u001b[39m*\u001b[39;49m\u001b[39m*\u001b[39;49mkwargs)\n",
      "File \u001b[1;32mc:\\Users\\esdan\\Desktop\\AO\\venv\\lib\\site-packages\\tensorflow\\python\\framework\\ops.py:1695\u001b[0m, in \u001b[0;36mconvert_to_tensor\u001b[1;34m(value, dtype, name, as_ref, preferred_dtype, dtype_hint, ctx, accepted_result_types)\u001b[0m\n\u001b[0;32m   <a href='file:///c%3A/Users/esdan/Desktop/AO/venv/lib/site-packages/tensorflow/python/framework/ops.py?line=1689'>1690</a>\u001b[0m       \u001b[39mraise\u001b[39;00m \u001b[39mTypeError\u001b[39;00m(\u001b[39m\"\u001b[39m\u001b[39mconvert_to_tensor did not convert to \u001b[39m\u001b[39m\"\u001b[39m\n\u001b[0;32m   <a href='file:///c%3A/Users/esdan/Desktop/AO/venv/lib/site-packages/tensorflow/python/framework/ops.py?line=1690'>1691</a>\u001b[0m                       \u001b[39m\"\u001b[39m\u001b[39mthe preferred dtype: \u001b[39m\u001b[39m%s\u001b[39;00m\u001b[39m vs \u001b[39m\u001b[39m%s\u001b[39;00m\u001b[39m \u001b[39m\u001b[39m\"\u001b[39m \u001b[39m%\u001b[39m\n\u001b[0;32m   <a href='file:///c%3A/Users/esdan/Desktop/AO/venv/lib/site-packages/tensorflow/python/framework/ops.py?line=1691'>1692</a>\u001b[0m                       (ret\u001b[39m.\u001b[39mdtype\u001b[39m.\u001b[39mbase_dtype, preferred_dtype\u001b[39m.\u001b[39mbase_dtype))\n\u001b[0;32m   <a href='file:///c%3A/Users/esdan/Desktop/AO/venv/lib/site-packages/tensorflow/python/framework/ops.py?line=1693'>1694</a>\u001b[0m \u001b[39mif\u001b[39;00m ret \u001b[39mis\u001b[39;00m \u001b[39mNone\u001b[39;00m:\n\u001b[1;32m-> <a href='file:///c%3A/Users/esdan/Desktop/AO/venv/lib/site-packages/tensorflow/python/framework/ops.py?line=1694'>1695</a>\u001b[0m   ret \u001b[39m=\u001b[39m conversion_func(value, dtype\u001b[39m=\u001b[39;49mdtype, name\u001b[39m=\u001b[39;49mname, as_ref\u001b[39m=\u001b[39;49mas_ref)\n\u001b[0;32m   <a href='file:///c%3A/Users/esdan/Desktop/AO/venv/lib/site-packages/tensorflow/python/framework/ops.py?line=1696'>1697</a>\u001b[0m \u001b[39mif\u001b[39;00m ret \u001b[39mis\u001b[39;00m \u001b[39mNotImplemented\u001b[39m:\n\u001b[0;32m   <a href='file:///c%3A/Users/esdan/Desktop/AO/venv/lib/site-packages/tensorflow/python/framework/ops.py?line=1697'>1698</a>\u001b[0m   \u001b[39mcontinue\u001b[39;00m\n",
      "File \u001b[1;32mc:\\Users\\esdan\\Desktop\\AO\\venv\\lib\\site-packages\\tensorflow\\python\\framework\\constant_op.py:343\u001b[0m, in \u001b[0;36m_constant_tensor_conversion_function\u001b[1;34m(v, dtype, name, as_ref)\u001b[0m\n\u001b[0;32m    <a href='file:///c%3A/Users/esdan/Desktop/AO/venv/lib/site-packages/tensorflow/python/framework/constant_op.py?line=339'>340</a>\u001b[0m \u001b[39mdef\u001b[39;00m \u001b[39m_constant_tensor_conversion_function\u001b[39m(v, dtype\u001b[39m=\u001b[39m\u001b[39mNone\u001b[39;00m, name\u001b[39m=\u001b[39m\u001b[39mNone\u001b[39;00m,\n\u001b[0;32m    <a href='file:///c%3A/Users/esdan/Desktop/AO/venv/lib/site-packages/tensorflow/python/framework/constant_op.py?line=340'>341</a>\u001b[0m                                          as_ref\u001b[39m=\u001b[39m\u001b[39mFalse\u001b[39;00m):\n\u001b[0;32m    <a href='file:///c%3A/Users/esdan/Desktop/AO/venv/lib/site-packages/tensorflow/python/framework/constant_op.py?line=341'>342</a>\u001b[0m   _ \u001b[39m=\u001b[39m as_ref\n\u001b[1;32m--> <a href='file:///c%3A/Users/esdan/Desktop/AO/venv/lib/site-packages/tensorflow/python/framework/constant_op.py?line=342'>343</a>\u001b[0m   \u001b[39mreturn\u001b[39;00m constant(v, dtype\u001b[39m=\u001b[39;49mdtype, name\u001b[39m=\u001b[39;49mname)\n",
      "File \u001b[1;32mc:\\Users\\esdan\\Desktop\\AO\\venv\\lib\\site-packages\\tensorflow\\python\\framework\\constant_op.py:267\u001b[0m, in \u001b[0;36mconstant\u001b[1;34m(value, dtype, shape, name)\u001b[0m\n\u001b[0;32m    <a href='file:///c%3A/Users/esdan/Desktop/AO/venv/lib/site-packages/tensorflow/python/framework/constant_op.py?line=169'>170</a>\u001b[0m \u001b[39m@tf_export\u001b[39m(\u001b[39m\"\u001b[39m\u001b[39mconstant\u001b[39m\u001b[39m\"\u001b[39m, v1\u001b[39m=\u001b[39m[])\n\u001b[0;32m    <a href='file:///c%3A/Users/esdan/Desktop/AO/venv/lib/site-packages/tensorflow/python/framework/constant_op.py?line=170'>171</a>\u001b[0m \u001b[39mdef\u001b[39;00m \u001b[39mconstant\u001b[39m(value, dtype\u001b[39m=\u001b[39m\u001b[39mNone\u001b[39;00m, shape\u001b[39m=\u001b[39m\u001b[39mNone\u001b[39;00m, name\u001b[39m=\u001b[39m\u001b[39m\"\u001b[39m\u001b[39mConst\u001b[39m\u001b[39m\"\u001b[39m):\n\u001b[0;32m    <a href='file:///c%3A/Users/esdan/Desktop/AO/venv/lib/site-packages/tensorflow/python/framework/constant_op.py?line=171'>172</a>\u001b[0m   \u001b[39m\"\"\"Creates a constant tensor from a tensor-like object.\u001b[39;00m\n\u001b[0;32m    <a href='file:///c%3A/Users/esdan/Desktop/AO/venv/lib/site-packages/tensorflow/python/framework/constant_op.py?line=172'>173</a>\u001b[0m \n\u001b[0;32m    <a href='file:///c%3A/Users/esdan/Desktop/AO/venv/lib/site-packages/tensorflow/python/framework/constant_op.py?line=173'>174</a>\u001b[0m \u001b[39m  Note: All eager `tf.Tensor` values are immutable (in contrast to\u001b[39;00m\n\u001b[1;32m   (...)\u001b[0m\n\u001b[0;32m    <a href='file:///c%3A/Users/esdan/Desktop/AO/venv/lib/site-packages/tensorflow/python/framework/constant_op.py?line=264'>265</a>\u001b[0m \u001b[39m    ValueError: if called on a symbolic tensor.\u001b[39;00m\n\u001b[0;32m    <a href='file:///c%3A/Users/esdan/Desktop/AO/venv/lib/site-packages/tensorflow/python/framework/constant_op.py?line=265'>266</a>\u001b[0m \u001b[39m  \"\"\"\u001b[39;00m\n\u001b[1;32m--> <a href='file:///c%3A/Users/esdan/Desktop/AO/venv/lib/site-packages/tensorflow/python/framework/constant_op.py?line=266'>267</a>\u001b[0m   \u001b[39mreturn\u001b[39;00m _constant_impl(value, dtype, shape, name, verify_shape\u001b[39m=\u001b[39;49m\u001b[39mFalse\u001b[39;49;00m,\n\u001b[0;32m    <a href='file:///c%3A/Users/esdan/Desktop/AO/venv/lib/site-packages/tensorflow/python/framework/constant_op.py?line=267'>268</a>\u001b[0m                         allow_broadcast\u001b[39m=\u001b[39;49m\u001b[39mTrue\u001b[39;49;00m)\n",
      "File \u001b[1;32mc:\\Users\\esdan\\Desktop\\AO\\venv\\lib\\site-packages\\tensorflow\\python\\framework\\constant_op.py:279\u001b[0m, in \u001b[0;36m_constant_impl\u001b[1;34m(value, dtype, shape, name, verify_shape, allow_broadcast)\u001b[0m\n\u001b[0;32m    <a href='file:///c%3A/Users/esdan/Desktop/AO/venv/lib/site-packages/tensorflow/python/framework/constant_op.py?line=276'>277</a>\u001b[0m     \u001b[39mwith\u001b[39;00m trace\u001b[39m.\u001b[39mTrace(\u001b[39m\"\u001b[39m\u001b[39mtf.constant\u001b[39m\u001b[39m\"\u001b[39m):\n\u001b[0;32m    <a href='file:///c%3A/Users/esdan/Desktop/AO/venv/lib/site-packages/tensorflow/python/framework/constant_op.py?line=277'>278</a>\u001b[0m       \u001b[39mreturn\u001b[39;00m _constant_eager_impl(ctx, value, dtype, shape, verify_shape)\n\u001b[1;32m--> <a href='file:///c%3A/Users/esdan/Desktop/AO/venv/lib/site-packages/tensorflow/python/framework/constant_op.py?line=278'>279</a>\u001b[0m   \u001b[39mreturn\u001b[39;00m _constant_eager_impl(ctx, value, dtype, shape, verify_shape)\n\u001b[0;32m    <a href='file:///c%3A/Users/esdan/Desktop/AO/venv/lib/site-packages/tensorflow/python/framework/constant_op.py?line=280'>281</a>\u001b[0m g \u001b[39m=\u001b[39m ops\u001b[39m.\u001b[39mget_default_graph()\n\u001b[0;32m    <a href='file:///c%3A/Users/esdan/Desktop/AO/venv/lib/site-packages/tensorflow/python/framework/constant_op.py?line=281'>282</a>\u001b[0m tensor_value \u001b[39m=\u001b[39m attr_value_pb2\u001b[39m.\u001b[39mAttrValue()\n",
      "File \u001b[1;32mc:\\Users\\esdan\\Desktop\\AO\\venv\\lib\\site-packages\\tensorflow\\python\\framework\\constant_op.py:304\u001b[0m, in \u001b[0;36m_constant_eager_impl\u001b[1;34m(ctx, value, dtype, shape, verify_shape)\u001b[0m\n\u001b[0;32m    <a href='file:///c%3A/Users/esdan/Desktop/AO/venv/lib/site-packages/tensorflow/python/framework/constant_op.py?line=301'>302</a>\u001b[0m \u001b[39mdef\u001b[39;00m \u001b[39m_constant_eager_impl\u001b[39m(ctx, value, dtype, shape, verify_shape):\n\u001b[0;32m    <a href='file:///c%3A/Users/esdan/Desktop/AO/venv/lib/site-packages/tensorflow/python/framework/constant_op.py?line=302'>303</a>\u001b[0m   \u001b[39m\"\"\"Creates a constant on the current device.\"\"\"\u001b[39;00m\n\u001b[1;32m--> <a href='file:///c%3A/Users/esdan/Desktop/AO/venv/lib/site-packages/tensorflow/python/framework/constant_op.py?line=303'>304</a>\u001b[0m   t \u001b[39m=\u001b[39m convert_to_eager_tensor(value, ctx, dtype)\n\u001b[0;32m    <a href='file:///c%3A/Users/esdan/Desktop/AO/venv/lib/site-packages/tensorflow/python/framework/constant_op.py?line=304'>305</a>\u001b[0m   \u001b[39mif\u001b[39;00m shape \u001b[39mis\u001b[39;00m \u001b[39mNone\u001b[39;00m:\n\u001b[0;32m    <a href='file:///c%3A/Users/esdan/Desktop/AO/venv/lib/site-packages/tensorflow/python/framework/constant_op.py?line=305'>306</a>\u001b[0m     \u001b[39mreturn\u001b[39;00m t\n",
      "File \u001b[1;32mc:\\Users\\esdan\\Desktop\\AO\\venv\\lib\\site-packages\\tensorflow\\python\\framework\\constant_op.py:102\u001b[0m, in \u001b[0;36mconvert_to_eager_tensor\u001b[1;34m(value, ctx, dtype)\u001b[0m\n\u001b[0;32m    <a href='file:///c%3A/Users/esdan/Desktop/AO/venv/lib/site-packages/tensorflow/python/framework/constant_op.py?line=99'>100</a>\u001b[0m     dtype \u001b[39m=\u001b[39m dtypes\u001b[39m.\u001b[39mas_dtype(dtype)\u001b[39m.\u001b[39mas_datatype_enum\n\u001b[0;32m    <a href='file:///c%3A/Users/esdan/Desktop/AO/venv/lib/site-packages/tensorflow/python/framework/constant_op.py?line=100'>101</a>\u001b[0m ctx\u001b[39m.\u001b[39mensure_initialized()\n\u001b[1;32m--> <a href='file:///c%3A/Users/esdan/Desktop/AO/venv/lib/site-packages/tensorflow/python/framework/constant_op.py?line=101'>102</a>\u001b[0m \u001b[39mreturn\u001b[39;00m ops\u001b[39m.\u001b[39;49mEagerTensor(value, ctx\u001b[39m.\u001b[39;49mdevice_name, dtype)\n",
      "\u001b[1;31mValueError\u001b[0m: Can't convert Python sequence with mixed types to Tensor."
     ]
    }
   ],
   "source": [
    "FRAME_SAMPLES = 1024\n",
    "NUM_FEATURES = 64\n",
    "\n",
    "audio_sample, samplerate = ao.io.wave_read(list(data.keys())[0] / 'audio0.wav')\n",
    "extract = ao.extractor.GammatoneFilterbank(\n",
    "    FRAME_SAMPLES, NUM_FEATURES, samplerate\n",
    "    )\n",
    "\n",
    "data_list = [(str(folder), parameters) for folder, parameters in data.items()]\n",
    "\n",
    "\n",
    "def generate_audio_dataset(\n",
    "        data_list,\n",
    "        frame_samples: int = FRAME_SAMPLES,\n",
    "        num_features: int = NUM_FEATURES\n",
    "    ):\n",
    "    # TODO initialize extract in generator\n",
    "    for folder, parameters in data_list:\n",
    "        audio_path = folder / 'audio0crop.wav'\n",
    "        audio, _samplerate = ao.io.wave_read(audio_path)\n",
    "        assert _samplerate == samplerate, \"Samplerate mismatch\"\n",
    "        num_frames = tf.math.ceil(audio.size / frame_samples)\n",
    "        vx = parameters['contact'] * parameters['w'] * 0.10  # 10 cm radius\n",
    "        motion = (vx, 0)  # No angular rotation\n",
    "        # Pad the data to be a multiple of the frame size\n",
    "        audio = np.append(\n",
    "            audio, np.zeros(num_frames * frame_samples - audio.size)\n",
    "            )\n",
    "        for frame_num in range(num_frames):\n",
    "            frame = audio[frame_num * frame_samples:(frame_num + 1) *\n",
    "                          frame_samples]\n",
    "            frame_features = extract(frame)\n",
    "            yield (frame_features, motion)\n",
    "\n",
    "\n",
    "audio_ds = tf.data.Dataset.from_generator(\n",
    "    generate_audio_dataset,\n",
    "    output_signature=(\n",
    "        tf.TensorSpec(shape=None, dtype=tf.float32),\n",
    "        tf.TensorSpec(shape=None, dtype=tf.float32)\n",
    "        ),\n",
    "    args=(data_list, )\n",
    "    )\n",
    "print(audio_ds.take(1))"
   ]
  },
  {
   "cell_type": "code",
   "execution_count": null,
   "metadata": {},
   "outputs": [],
   "source": []
  }
 ],
 "metadata": {
  "interpreter": {
   "hash": "d21f40ac55f28466c21dd799498b12929e39799c097f46cd49280349550824b8"
  },
  "kernelspec": {
   "display_name": "Python 3.8.10 ('venv': venv)",
   "language": "python",
   "name": "python3"
  },
  "language_info": {
   "codemirror_mode": {
    "name": "ipython",
    "version": 3
   },
   "file_extension": ".py",
   "mimetype": "text/x-python",
   "name": "python",
   "nbconvert_exporter": "python",
   "pygments_lexer": "ipython3",
   "version": "3.8.10"
  },
  "orig_nbformat": 4
 },
 "nbformat": 4,
 "nbformat_minor": 2
}
